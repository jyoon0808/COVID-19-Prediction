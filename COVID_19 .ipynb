{
  "nbformat": 4,
  "nbformat_minor": 0,
  "metadata": {
    "kernelspec": {
      "language": "python",
      "display_name": "Python 3",
      "name": "python3"
    },
    "language_info": {
      "pygments_lexer": "ipython3",
      "nbconvert_exporter": "python",
      "version": "3.6.4",
      "file_extension": ".py",
      "codemirror_mode": {
        "name": "ipython",
        "version": 3
      },
      "name": "python",
      "mimetype": "text/x-python"
    },
    "colab": {
      "name": "COVID-19.ipynb",
      "provenance": [],
      "collapsed_sections": [],
      "toc_visible": true
    }
  },
  "cells": [
    {
      "cell_type": "code",
      "metadata": {
        "_uuid": "8f2839f25d086af736a60e9eeb907d3b93b6e0e5",
        "_cell_guid": "b1076dfc-b9ad-4769-8c92-a6c4dae69d19",
        "trusted": true,
        "_kg_hide-output": true,
        "id": "CyCu0B7Gd7XG",
        "colab_type": "code",
        "colab": {}
      },
      "source": [
        "import pandas as pd\n",
        "import matplotlib.pyplot as plt\n",
        "import numpy as np\n",
        "import datetime as dt\n",
        "from sklearn.metrics import mean_squared_error,r2_score"
      ],
      "execution_count": 0,
      "outputs": []
    },
    {
      "cell_type": "code",
      "metadata": {
        "_uuid": "d629ff2d2480ee46fbb7e2d37f6b5fab8052498a",
        "_cell_guid": "79c7e3d0-c299-4dcb-8224-4455121ee9b0",
        "trusted": true,
        "id": "TlowDY6Md7XK",
        "colab_type": "code",
        "outputId": "4eb5214c-d974-41d5-aeee-29866601e901",
        "colab": {
          "base_uri": "https://localhost:8080/",
          "height": 402
        }
      },
      "source": [
        "covid=pd.read_csv(\"/content/drive/My Drive/project/data/covid_19_data.csv\")\n",
        "covid"
      ],
      "execution_count": 2,
      "outputs": [
        {
          "output_type": "execute_result",
          "data": {
            "text/html": [
              "<div>\n",
              "<style scoped>\n",
              "    .dataframe tbody tr th:only-of-type {\n",
              "        vertical-align: middle;\n",
              "    }\n",
              "\n",
              "    .dataframe tbody tr th {\n",
              "        vertical-align: top;\n",
              "    }\n",
              "\n",
              "    .dataframe thead th {\n",
              "        text-align: right;\n",
              "    }\n",
              "</style>\n",
              "<table border=\"1\" class=\"dataframe\">\n",
              "  <thead>\n",
              "    <tr style=\"text-align: right;\">\n",
              "      <th></th>\n",
              "      <th>SNo</th>\n",
              "      <th>ObservationDate</th>\n",
              "      <th>Province/State</th>\n",
              "      <th>Country/Region</th>\n",
              "      <th>Last Update</th>\n",
              "      <th>Confirmed</th>\n",
              "      <th>Deaths</th>\n",
              "      <th>Recovered</th>\n",
              "    </tr>\n",
              "  </thead>\n",
              "  <tbody>\n",
              "    <tr>\n",
              "      <th>0</th>\n",
              "      <td>1</td>\n",
              "      <td>01/22/2020</td>\n",
              "      <td>Anhui</td>\n",
              "      <td>Mainland China</td>\n",
              "      <td>1/22/2020 17:00</td>\n",
              "      <td>1.0</td>\n",
              "      <td>0.0</td>\n",
              "      <td>0.0</td>\n",
              "    </tr>\n",
              "    <tr>\n",
              "      <th>1</th>\n",
              "      <td>2</td>\n",
              "      <td>01/22/2020</td>\n",
              "      <td>Beijing</td>\n",
              "      <td>Mainland China</td>\n",
              "      <td>1/22/2020 17:00</td>\n",
              "      <td>14.0</td>\n",
              "      <td>0.0</td>\n",
              "      <td>0.0</td>\n",
              "    </tr>\n",
              "    <tr>\n",
              "      <th>2</th>\n",
              "      <td>3</td>\n",
              "      <td>01/22/2020</td>\n",
              "      <td>Chongqing</td>\n",
              "      <td>Mainland China</td>\n",
              "      <td>1/22/2020 17:00</td>\n",
              "      <td>6.0</td>\n",
              "      <td>0.0</td>\n",
              "      <td>0.0</td>\n",
              "    </tr>\n",
              "    <tr>\n",
              "      <th>3</th>\n",
              "      <td>4</td>\n",
              "      <td>01/22/2020</td>\n",
              "      <td>Fujian</td>\n",
              "      <td>Mainland China</td>\n",
              "      <td>1/22/2020 17:00</td>\n",
              "      <td>1.0</td>\n",
              "      <td>0.0</td>\n",
              "      <td>0.0</td>\n",
              "    </tr>\n",
              "    <tr>\n",
              "      <th>4</th>\n",
              "      <td>5</td>\n",
              "      <td>01/22/2020</td>\n",
              "      <td>Gansu</td>\n",
              "      <td>Mainland China</td>\n",
              "      <td>1/22/2020 17:00</td>\n",
              "      <td>0.0</td>\n",
              "      <td>0.0</td>\n",
              "      <td>0.0</td>\n",
              "    </tr>\n",
              "    <tr>\n",
              "      <th>...</th>\n",
              "      <td>...</td>\n",
              "      <td>...</td>\n",
              "      <td>...</td>\n",
              "      <td>...</td>\n",
              "      <td>...</td>\n",
              "      <td>...</td>\n",
              "      <td>...</td>\n",
              "      <td>...</td>\n",
              "    </tr>\n",
              "    <tr>\n",
              "      <th>25954</th>\n",
              "      <td>25955</td>\n",
              "      <td>05/17/2020</td>\n",
              "      <td>Wyoming</td>\n",
              "      <td>US</td>\n",
              "      <td>2020-05-18 02:32:21</td>\n",
              "      <td>754.0</td>\n",
              "      <td>8.0</td>\n",
              "      <td>0.0</td>\n",
              "    </tr>\n",
              "    <tr>\n",
              "      <th>25955</th>\n",
              "      <td>25956</td>\n",
              "      <td>05/17/2020</td>\n",
              "      <td>Xinjiang</td>\n",
              "      <td>Mainland China</td>\n",
              "      <td>2020-05-18 02:32:21</td>\n",
              "      <td>76.0</td>\n",
              "      <td>3.0</td>\n",
              "      <td>73.0</td>\n",
              "    </tr>\n",
              "    <tr>\n",
              "      <th>25956</th>\n",
              "      <td>25957</td>\n",
              "      <td>05/17/2020</td>\n",
              "      <td>Yukon</td>\n",
              "      <td>Canada</td>\n",
              "      <td>2020-05-18 02:32:21</td>\n",
              "      <td>11.0</td>\n",
              "      <td>0.0</td>\n",
              "      <td>11.0</td>\n",
              "    </tr>\n",
              "    <tr>\n",
              "      <th>25957</th>\n",
              "      <td>25958</td>\n",
              "      <td>05/17/2020</td>\n",
              "      <td>Yunnan</td>\n",
              "      <td>Mainland China</td>\n",
              "      <td>2020-05-18 02:32:21</td>\n",
              "      <td>185.0</td>\n",
              "      <td>2.0</td>\n",
              "      <td>183.0</td>\n",
              "    </tr>\n",
              "    <tr>\n",
              "      <th>25958</th>\n",
              "      <td>25959</td>\n",
              "      <td>05/17/2020</td>\n",
              "      <td>Zhejiang</td>\n",
              "      <td>Mainland China</td>\n",
              "      <td>2020-05-18 02:32:21</td>\n",
              "      <td>1268.0</td>\n",
              "      <td>1.0</td>\n",
              "      <td>1267.0</td>\n",
              "    </tr>\n",
              "  </tbody>\n",
              "</table>\n",
              "<p>25959 rows × 8 columns</p>\n",
              "</div>"
            ],
            "text/plain": [
              "         SNo ObservationDate Province/State  ... Confirmed Deaths  Recovered\n",
              "0          1      01/22/2020          Anhui  ...       1.0    0.0        0.0\n",
              "1          2      01/22/2020        Beijing  ...      14.0    0.0        0.0\n",
              "2          3      01/22/2020      Chongqing  ...       6.0    0.0        0.0\n",
              "3          4      01/22/2020         Fujian  ...       1.0    0.0        0.0\n",
              "4          5      01/22/2020          Gansu  ...       0.0    0.0        0.0\n",
              "...      ...             ...            ...  ...       ...    ...        ...\n",
              "25954  25955      05/17/2020        Wyoming  ...     754.0    8.0        0.0\n",
              "25955  25956      05/17/2020       Xinjiang  ...      76.0    3.0       73.0\n",
              "25956  25957      05/17/2020          Yukon  ...      11.0    0.0       11.0\n",
              "25957  25958      05/17/2020         Yunnan  ...     185.0    2.0      183.0\n",
              "25958  25959      05/17/2020       Zhejiang  ...    1268.0    1.0     1267.0\n",
              "\n",
              "[25959 rows x 8 columns]"
            ]
          },
          "metadata": {
            "tags": []
          },
          "execution_count": 2
        }
      ]
    },
    {
      "cell_type": "code",
      "metadata": {
        "trusted": true,
        "id": "8HhAI_eSd7XS",
        "colab_type": "code",
        "outputId": "06c5d6d3-63cd-4cae-92ad-ad4c754cbeff",
        "colab": {
          "base_uri": "https://localhost:8080/",
          "height": 431
        }
      },
      "source": [
        "covid.drop([\"SNo\"],1,inplace=True)\n",
        "covid[\"ObservationDate\"] = pd.to_datetime(covid[\"ObservationDate\"])\n",
        "covid_data = covid.groupby([\"ObservationDate\"]).agg({\"Confirmed\":'sum',\"Recovered\":'sum',\"Deaths\":'sum'})\n",
        "covid_data[\"Active Cases\"] = covid_data[\"Confirmed\"]-covid_data[\"Recovered\"]-covid_data[\"Deaths\"]\n",
        "covid_data[\"Days Since\"] = covid_data.index - covid_data.index.min()\n",
        "covid_data[\"Days Since\"]=covid_data.index-covid_data.index[0]\n",
        "covid_data[\"Days Since\"]=covid_data[\"Days Since\"].dt.days\n",
        "covid_data"
      ],
      "execution_count": 3,
      "outputs": [
        {
          "output_type": "execute_result",
          "data": {
            "text/html": [
              "<div>\n",
              "<style scoped>\n",
              "    .dataframe tbody tr th:only-of-type {\n",
              "        vertical-align: middle;\n",
              "    }\n",
              "\n",
              "    .dataframe tbody tr th {\n",
              "        vertical-align: top;\n",
              "    }\n",
              "\n",
              "    .dataframe thead th {\n",
              "        text-align: right;\n",
              "    }\n",
              "</style>\n",
              "<table border=\"1\" class=\"dataframe\">\n",
              "  <thead>\n",
              "    <tr style=\"text-align: right;\">\n",
              "      <th></th>\n",
              "      <th>Confirmed</th>\n",
              "      <th>Recovered</th>\n",
              "      <th>Deaths</th>\n",
              "      <th>Active Cases</th>\n",
              "      <th>Days Since</th>\n",
              "    </tr>\n",
              "    <tr>\n",
              "      <th>ObservationDate</th>\n",
              "      <th></th>\n",
              "      <th></th>\n",
              "      <th></th>\n",
              "      <th></th>\n",
              "      <th></th>\n",
              "    </tr>\n",
              "  </thead>\n",
              "  <tbody>\n",
              "    <tr>\n",
              "      <th>2020-01-22</th>\n",
              "      <td>555.0</td>\n",
              "      <td>28.0</td>\n",
              "      <td>17.0</td>\n",
              "      <td>510.0</td>\n",
              "      <td>0</td>\n",
              "    </tr>\n",
              "    <tr>\n",
              "      <th>2020-01-23</th>\n",
              "      <td>653.0</td>\n",
              "      <td>30.0</td>\n",
              "      <td>18.0</td>\n",
              "      <td>605.0</td>\n",
              "      <td>1</td>\n",
              "    </tr>\n",
              "    <tr>\n",
              "      <th>2020-01-24</th>\n",
              "      <td>941.0</td>\n",
              "      <td>36.0</td>\n",
              "      <td>26.0</td>\n",
              "      <td>879.0</td>\n",
              "      <td>2</td>\n",
              "    </tr>\n",
              "    <tr>\n",
              "      <th>2020-01-25</th>\n",
              "      <td>1438.0</td>\n",
              "      <td>39.0</td>\n",
              "      <td>42.0</td>\n",
              "      <td>1357.0</td>\n",
              "      <td>3</td>\n",
              "    </tr>\n",
              "    <tr>\n",
              "      <th>2020-01-26</th>\n",
              "      <td>2118.0</td>\n",
              "      <td>52.0</td>\n",
              "      <td>56.0</td>\n",
              "      <td>2010.0</td>\n",
              "      <td>4</td>\n",
              "    </tr>\n",
              "    <tr>\n",
              "      <th>...</th>\n",
              "      <td>...</td>\n",
              "      <td>...</td>\n",
              "      <td>...</td>\n",
              "      <td>...</td>\n",
              "      <td>...</td>\n",
              "    </tr>\n",
              "    <tr>\n",
              "      <th>2020-05-13</th>\n",
              "      <td>4347018.0</td>\n",
              "      <td>1548547.0</td>\n",
              "      <td>297197.0</td>\n",
              "      <td>2501274.0</td>\n",
              "      <td>112</td>\n",
              "    </tr>\n",
              "    <tr>\n",
              "      <th>2020-05-14</th>\n",
              "      <td>4442163.0</td>\n",
              "      <td>1587893.0</td>\n",
              "      <td>302418.0</td>\n",
              "      <td>2551852.0</td>\n",
              "      <td>113</td>\n",
              "    </tr>\n",
              "    <tr>\n",
              "      <th>2020-05-15</th>\n",
              "      <td>4542347.0</td>\n",
              "      <td>1637067.0</td>\n",
              "      <td>307666.0</td>\n",
              "      <td>2597614.0</td>\n",
              "      <td>114</td>\n",
              "    </tr>\n",
              "    <tr>\n",
              "      <th>2020-05-16</th>\n",
              "      <td>4634068.0</td>\n",
              "      <td>1693197.0</td>\n",
              "      <td>311781.0</td>\n",
              "      <td>2629090.0</td>\n",
              "      <td>115</td>\n",
              "    </tr>\n",
              "    <tr>\n",
              "      <th>2020-05-17</th>\n",
              "      <td>4713620.0</td>\n",
              "      <td>1733963.0</td>\n",
              "      <td>315185.0</td>\n",
              "      <td>2664472.0</td>\n",
              "      <td>116</td>\n",
              "    </tr>\n",
              "  </tbody>\n",
              "</table>\n",
              "<p>117 rows × 5 columns</p>\n",
              "</div>"
            ],
            "text/plain": [
              "                 Confirmed  Recovered    Deaths  Active Cases  Days Since\n",
              "ObservationDate                                                          \n",
              "2020-01-22           555.0       28.0      17.0         510.0           0\n",
              "2020-01-23           653.0       30.0      18.0         605.0           1\n",
              "2020-01-24           941.0       36.0      26.0         879.0           2\n",
              "2020-01-25          1438.0       39.0      42.0        1357.0           3\n",
              "2020-01-26          2118.0       52.0      56.0        2010.0           4\n",
              "...                    ...        ...       ...           ...         ...\n",
              "2020-05-13       4347018.0  1548547.0  297197.0     2501274.0         112\n",
              "2020-05-14       4442163.0  1587893.0  302418.0     2551852.0         113\n",
              "2020-05-15       4542347.0  1637067.0  307666.0     2597614.0         114\n",
              "2020-05-16       4634068.0  1693197.0  311781.0     2629090.0         115\n",
              "2020-05-17       4713620.0  1733963.0  315185.0     2664472.0         116\n",
              "\n",
              "[117 rows x 5 columns]"
            ]
          },
          "metadata": {
            "tags": []
          },
          "execution_count": 3
        }
      ]
    },
    {
      "cell_type": "markdown",
      "metadata": {
        "id": "nAsjkQ1-d7Xb",
        "colab_type": "text"
      },
      "source": [
        "## Preprocessing / Dataset"
      ]
    },
    {
      "cell_type": "code",
      "metadata": {
        "id": "FGTaKcLdiRwq",
        "colab_type": "code",
        "outputId": "d387edef-ce0e-4702-df34-afa98e2717d1",
        "colab": {
          "base_uri": "https://localhost:8080/",
          "height": 402
        }
      },
      "source": [
        "plt.figure(figsize=(12,6))\n",
        "plt.plot(covid_data[\"Confirmed\"],label=\"Confirmed Cases\", color='red')\n",
        "plt.plot(covid_data[\"Recovered\"],label=\"Recovered Cases\", color='orange')\n",
        "plt.plot(covid_data[\"Deaths\"],label=\"Death Cases\", color='blue')\n",
        "plt.legend()"
      ],
      "execution_count": 4,
      "outputs": [
        {
          "output_type": "execute_result",
          "data": {
            "text/plain": [
              "<matplotlib.legend.Legend at 0x7f3d8449e5f8>"
            ]
          },
          "metadata": {
            "tags": []
          },
          "execution_count": 4
        },
        {
          "output_type": "display_data",
          "data": {
            "image/png": "[encoded data removed]",
            "text/plain": [
              "<Figure size 864x432 with 1 Axes>"
            ]
          },
          "metadata": {
            "tags": [],
            "needs_background": "light"
          }
        }
      ]
    },
    {
      "cell_type": "code",
      "metadata": {
        "id": "hDkt6LqODLdm",
        "colab_type": "code",
        "outputId": "add05b7e-e5ed-4f12-c9f3-b1938d18bbca",
        "colab": {
          "base_uri": "https://localhost:8080/",
          "height": 354
        }
      },
      "source": [
        "plt.figure(figsize=(15,5))\n",
        "plt.bar(covid_data.index.date, covid_data[\"Confirmed\"])\n",
        "plt.title(\"Distribution Plot for Confirmed over Date\")"
      ],
      "execution_count": 6,
      "outputs": [
        {
          "output_type": "execute_result",
          "data": {
            "text/plain": [
              "Text(0.5, 1.0, 'Distribution Plot for Confirmed over Date')"
            ]
          },
          "metadata": {
            "tags": []
          },
          "execution_count": 6
        },
        {
          "output_type": "display_data",
          "data": {
            "image/png": "[encoded data removed]",
            "text/plain": [
              "<Figure size 1080x360 with 1 Axes>"
            ]
          },
          "metadata": {
            "tags": [],
            "needs_background": "light"
          }
        }
      ]
    },
    {
      "cell_type": "code",
      "metadata": {
        "id": "JZXQnQrRzXSU",
        "colab_type": "code",
        "outputId": "cfd7de17-0603-417f-af96-4eeb974577db",
        "colab": {
          "base_uri": "https://localhost:8080/",
          "height": 354
        }
      },
      "source": [
        "plt.figure(figsize=(15,5))\n",
        "plt.bar(covid_data.index.date, covid_data[\"Active Cases\"])\n",
        "plt.title(\"Distribution Plot for Active Cases over Date\")"
      ],
      "execution_count": 7,
      "outputs": [
        {
          "output_type": "execute_result",
          "data": {
            "text/plain": [
              "Text(0.5, 1.0, 'Distribution Plot for Active Cases over Date')"
            ]
          },
          "metadata": {
            "tags": []
          },
          "execution_count": 7
        },
        {
          "output_type": "display_data",
          "data": {
            "image/png": "[encoded data removed]",
            "text/plain": [
              "<Figure size 1080x360 with 1 Axes>"
            ]
          },
          "metadata": {
            "tags": [],
            "needs_background": "light"
          }
        }
      ]
    },
    {
      "cell_type": "markdown",
      "metadata": {
        "id": "Z2gHIyqvd7aa",
        "colab_type": "text"
      },
      "source": [
        "## Prediction using Machine Learning Models"
      ]
    },
    {
      "cell_type": "markdown",
      "metadata": {
        "id": "1Ej15EO3d7ab",
        "colab_type": "text"
      },
      "source": [
        "#### Linear Regression Model for Confirm Cases Prediction"
      ]
    },
    {
      "cell_type": "code",
      "metadata": {
        "id": "ZaSxe76UUQuf",
        "colab_type": "code",
        "colab": {}
      },
      "source": [
        "from sklearn.model_selection import train_test_split\n",
        "from sklearn import datasets, linear_model\n",
        "from sklearn.metrics import mean_squared_error, r2_score\n",
        "from sklearn.model_selection import train_test_split"
      ],
      "execution_count": 0,
      "outputs": []
    },
    {
      "cell_type": "code",
      "metadata": {
        "id": "1U1swKWWODiw",
        "colab_type": "code",
        "colab": {}
      },
      "source": [
        "model_Linear = linear_model.LinearRegression(normalize=True)"
      ],
      "execution_count": 0,
      "outputs": []
    },
    {
      "cell_type": "code",
      "metadata": {
        "id": "ioQnLtcX2UIg",
        "colab_type": "code",
        "colab": {}
      },
      "source": [
        "x_days_train, x_days_test, y_confirmed_train, y_confirmed_test = train_test_split(covid_data[\"Days Since\"],covid_data[\"Confirmed\"],test_size=0.2, shuffle=False)"
      ],
      "execution_count": 0,
      "outputs": []
    },
    {
      "cell_type": "code",
      "metadata": {
        "id": "1zZaEuXsGDwN",
        "colab_type": "code",
        "outputId": "292b374f-537f-40a5-9a60-f6387298bde4",
        "colab": {
          "base_uri": "https://localhost:8080/",
          "height": 34
        }
      },
      "source": [
        "model_Linear.fit(np.array(x_days_train).reshape(-1,1), np.array(y_confirmed_train).reshape(-1,1))"
      ],
      "execution_count": 11,
      "outputs": [
        {
          "output_type": "execute_result",
          "data": {
            "text/plain": [
              "LinearRegression(copy_X=True, fit_intercept=True, n_jobs=None, normalize=True)"
            ]
          },
          "metadata": {
            "tags": []
          },
          "execution_count": 11
        }
      ]
    },
    {
      "cell_type": "code",
      "metadata": {
        "id": "Mj93nM4qlTkS",
        "colab_type": "code",
        "colab": {}
      },
      "source": [
        "model_scores = []"
      ],
      "execution_count": 0,
      "outputs": []
    },
    {
      "cell_type": "code",
      "metadata": {
        "id": "2HBWSlVPH8Bn",
        "colab_type": "code",
        "outputId": "2795d72a-dcd1-400a-f6c4-ac8e9c66c09a",
        "colab": {
          "base_uri": "https://localhost:8080/",
          "height": 34
        }
      },
      "source": [
        "y_confirmed_pred = model_Linear.predict(np.array(x_days_test).reshape(-1,1))\n",
        "model_scores.append(np.sqrt(mean_squared_error(y_confirmed_test,y_confirmed_pred)))\n",
        "print(\"Root Mean Square Error for Linear Regression: \",np.sqrt(mean_squared_error(y_confirmed_test,y_confirmed_pred)))"
      ],
      "execution_count": 13,
      "outputs": [
        {
          "output_type": "stream",
          "text": [
            "Root Mean Square Error for Linear Regression:  1772046.963394283\n"
          ],
          "name": "stdout"
        }
      ]
    },
    {
      "cell_type": "code",
      "metadata": {
        "trusted": true,
        "id": "eEnBP_p_d7an",
        "colab_type": "code",
        "outputId": "9e57e181-ead3-4b3e-ffc0-d106e0d3272b",
        "colab": {
          "base_uri": "https://localhost:8080/",
          "height": 422
        }
      },
      "source": [
        "plt.figure(figsize=(11,6))\n",
        "prediction_linreg=model_Linear.predict(np.array(covid_data[\"Days Since\"]).reshape(-1,1))\n",
        "plt.plot(covid_data[\"Confirmed\"],label=\"Actual Confirmed\", color='red')\n",
        "plt.plot(covid_data.index,prediction_linreg,label=\"Predicted Confirmed\",color='blue')\n",
        "plt.xlabel('Date')\n",
        "plt.ylabel('Confirmed Cases')\n",
        "plt.title(\"Confirmed Cases Prediction - Linear Regression\")\n",
        "plt.legend()\n",
        "print(\"Root Mean Square Error for Linear Regression: \",np.sqrt(mean_squared_error(y_confirmed_test,y_confirmed_pred)))"
      ],
      "execution_count": 14,
      "outputs": [
        {
          "output_type": "stream",
          "text": [
            "Root Mean Square Error for Linear Regression:  1772046.963394283\n"
          ],
          "name": "stdout"
        },
        {
          "output_type": "display_data",
          "data": {
            "image/png": "[encoded data removed]",
            "text/plain": [
              "<Figure size 792x432 with 1 Axes>"
            ]
          },
          "metadata": {
            "tags": [],
            "needs_background": "light"
          }
        }
      ]
    },
    {
      "cell_type": "markdown",
      "metadata": {
        "colab_type": "text",
        "id": "Rj9QnuBPONH9"
      },
      "source": [
        "#### Polynomial Regression for Prediction of Confirmed Cases"
      ]
    },
    {
      "cell_type": "code",
      "metadata": {
        "id": "t65tDB1MOexH",
        "colab_type": "code",
        "colab": {}
      },
      "source": [
        "from sklearn.preprocessing import PolynomialFeatures"
      ],
      "execution_count": 0,
      "outputs": []
    },
    {
      "cell_type": "code",
      "metadata": {
        "trusted": true,
        "colab_type": "code",
        "id": "MQyxXX-xONH-",
        "colab": {}
      },
      "source": [
        "train_ml=covid_data.iloc[:int(covid_data.shape[0]*0.8)]\n",
        "valid_ml=covid_data.iloc[int(covid_data.shape[0]*0.8):]"
      ],
      "execution_count": 0,
      "outputs": []
    },
    {
      "cell_type": "code",
      "metadata": {
        "trusted": true,
        "colab_type": "code",
        "id": "l3rxC-7xONIC",
        "colab": {}
      },
      "source": [
        "model_Polynomial = PolynomialFeatures(degree = 4) "
      ],
      "execution_count": 0,
      "outputs": []
    },
    {
      "cell_type": "code",
      "metadata": {
        "trusted": true,
        "colab_type": "code",
        "id": "mkHCKaO2ONIE",
        "colab": {}
      },
      "source": [
        "train_poly=model_Polynomial.fit_transform(np.array(train_ml[\"Days Since\"]).reshape(-1,1))\n",
        "valid_poly=model_Polynomial.fit_transform(np.array(valid_ml[\"Days Since\"]).reshape(-1,1))\n",
        "y=train_ml[\"Confirmed\"]"
      ],
      "execution_count": 0,
      "outputs": []
    },
    {
      "cell_type": "code",
      "metadata": {
        "trusted": true,
        "colab_type": "code",
        "id": "ChSjjBwvONIG",
        "outputId": "54fb967f-d3b0-41b5-f775-9e564a72ddbb",
        "colab": {
          "base_uri": "https://localhost:8080/",
          "height": 34
        }
      },
      "source": [
        "linreg=linear_model.LinearRegression(normalize=True)\n",
        "linreg.fit(train_poly,y)"
      ],
      "execution_count": 19,
      "outputs": [
        {
          "output_type": "execute_result",
          "data": {
            "text/plain": [
              "LinearRegression(copy_X=True, fit_intercept=True, n_jobs=None, normalize=True)"
            ]
          },
          "metadata": {
            "tags": []
          },
          "execution_count": 19
        }
      ]
    },
    {
      "cell_type": "code",
      "metadata": {
        "trusted": true,
        "colab_type": "code",
        "id": "ripJfZvPONII",
        "outputId": "723d8d14-9d5c-4cbb-b600-9b6d794b80a7",
        "colab": {
          "base_uri": "https://localhost:8080/",
          "height": 34
        }
      },
      "source": [
        "prediction_poly=linreg.predict(valid_poly)\n",
        "rmse_poly=np.sqrt(mean_squared_error(valid_ml[\"Confirmed\"],prediction_poly))\n",
        "model_scores.append(rmse_poly)\n",
        "print(\"Root Mean Squared Error for Polynomial Regression: \",rmse_poly)"
      ],
      "execution_count": 20,
      "outputs": [
        {
          "output_type": "stream",
          "text": [
            "Root Mean Squared Error for Polynomial Regression:  687970.1216172318\n"
          ],
          "name": "stdout"
        }
      ]
    },
    {
      "cell_type": "code",
      "metadata": {
        "trusted": true,
        "colab_type": "code",
        "id": "kmIE9zCYONIK",
        "outputId": "3b5c8894-b9b4-4751-ebb0-8b35837842c2",
        "colab": {
          "base_uri": "https://localhost:8080/",
          "height": 422
        }
      },
      "source": [
        "comp_data=model_Polynomial.fit_transform(np.array(covid_data[\"Days Since\"]).reshape(-1,1))\n",
        "plt.figure(figsize=(11,6))\n",
        "predictions_poly=linreg.predict(comp_data)\n",
        "plt.plot(covid_data[\"Confirmed\"],label=\"Actual Confirmed\",color='red')\n",
        "plt.plot(covid_data.index,predictions_poly,label=\"Predicted Confirm\",color='blue')\n",
        "plt.xlabel('Date')\n",
        "plt.ylabel('Confirmed Cases')\n",
        "plt.title(\"Confirmed Cases Prediction - Polynomial Regression\")\n",
        "plt.legend()\n",
        "print(\"Root Mean Squared Error for Polynomial Regression: \",rmse_poly)"
      ],
      "execution_count": 21,
      "outputs": [
        {
          "output_type": "stream",
          "text": [
            "Root Mean Squared Error for Polynomial Regression:  687970.1216172318\n"
          ],
          "name": "stdout"
        },
        {
          "output_type": "display_data",
          "data": {
            "image/png": "[encoded data removed]",
            "text/plain": [
              "<Figure size 792x432 with 1 Axes>"
            ]
          },
          "metadata": {
            "tags": [],
            "needs_background": "light"
          }
        }
      ]
    },
    {
      "cell_type": "markdown",
      "metadata": {
        "id": "xnQ9nczMXxBw",
        "colab_type": "text"
      },
      "source": [
        "**RNN -> LSTM and GRU**"
      ]
    },
    {
      "cell_type": "code",
      "metadata": {
        "id": "I6HJazqWYDnD",
        "colab_type": "code",
        "colab": {
          "base_uri": "https://localhost:8080/",
          "height": 34
        },
        "outputId": "ea58bcaf-e69f-467a-d7b5-ec90e4021e70"
      },
      "source": [
        "import numpy\n",
        "import matplotlib.pyplot as plt\n",
        "import pandas\n",
        "import math\n",
        "from numpy import newaxis, zeros\n",
        "from keras.models import Sequential\n",
        "from keras.layers import Dense\n",
        "from keras.layers import LSTM, GRU\n",
        "from sklearn.preprocessing import MinMaxScaler\n",
        "from sklearn.metrics import mean_squared_error"
      ],
      "execution_count": 22,
      "outputs": [
        {
          "output_type": "stream",
          "text": [
            "Using TensorFlow backend.\n"
          ],
          "name": "stderr"
        }
      ]
    },
    {
      "cell_type": "code",
      "metadata": {
        "id": "vBvIi1fTYDiV",
        "colab_type": "code",
        "colab": {}
      },
      "source": [
        "numpy.random.seed(7)"
      ],
      "execution_count": 0,
      "outputs": []
    },
    {
      "cell_type": "code",
      "metadata": {
        "id": "kYg4GOeLYDhh",
        "colab_type": "code",
        "colab": {}
      },
      "source": [
        "# convert an array of values into a dataset matrix\n",
        "def create_dataset(dataset, look_back=1):\n",
        "  dataX, dataY = [], []\n",
        "  for i in range(len(dataset)-look_back-1):\n",
        "    a = dataset[i:(i+look_back), 0]\n",
        "    dataX.append(a)\n",
        "    dataY.append(dataset[i + look_back, 0])\n",
        "  return numpy.array(dataX), numpy.array(dataY)"
      ],
      "execution_count": 0,
      "outputs": []
    },
    {
      "cell_type": "code",
      "metadata": {
        "id": "iTR-bgJEYDen",
        "colab_type": "code",
        "colab": {}
      },
      "source": [
        "covid_data[\"Days Since\"].shape\n",
        "covid_data[\"Confirmed\"]\n",
        "New_Data = pd.concat([covid_data[\"Confirmed\"],covid_data[\"Days Since\"]],axis='columns')\n",
        "New_Data = np.array(covid_data[\"Confirmed\"]).reshape(-1,1)\n",
        "Re_data = New_Data\n",
        "dataset = New_Data.astype('float32')"
      ],
      "execution_count": 0,
      "outputs": []
    },
    {
      "cell_type": "code",
      "metadata": {
        "id": "S2fEkw2EHY0p",
        "colab_type": "code",
        "colab": {}
      },
      "source": [
        "# normalize the dataset\n",
        "scaler = MinMaxScaler(feature_range=(0, 1))\n",
        "dataset = scaler.fit_transform(dataset)"
      ],
      "execution_count": 0,
      "outputs": []
    },
    {
      "cell_type": "code",
      "metadata": {
        "id": "NesVj_U3rhfA",
        "colab_type": "code",
        "outputId": "bacdf409-ee4f-43b1-9379-f09d090e6a77",
        "colab": {
          "base_uri": "https://localhost:8080/",
          "height": 34
        }
      },
      "source": [
        "# split into train and test sets\n",
        "train_size = int(len(dataset) * 0.8)\n",
        "test_size = len(dataset) - train_size\n",
        "train, test = dataset[0:train_size,:], dataset[train_size:len(dataset),:]\n",
        "print(len(train), len(test))"
      ],
      "execution_count": 27,
      "outputs": [
        {
          "output_type": "stream",
          "text": [
            "93 24\n"
          ],
          "name": "stdout"
        }
      ]
    },
    {
      "cell_type": "code",
      "metadata": {
        "id": "tOShEYQQra6Z",
        "colab_type": "code",
        "colab": {}
      },
      "source": [
        "# reshape into X=t and Y=t+1\n",
        "look_back = 1\n",
        "trainX, trainY = create_dataset(train, look_back)\n",
        "testX, testY = create_dataset(test, look_back)"
      ],
      "execution_count": 0,
      "outputs": []
    },
    {
      "cell_type": "code",
      "metadata": {
        "id": "l4Qqx4fCYDby",
        "colab_type": "code",
        "colab": {}
      },
      "source": [
        "# reshape input to be [samples, time steps, features]\n",
        "trainX = numpy.reshape(trainX, (trainX.shape[0], 1, trainX.shape[1]))\n",
        "testX = numpy.reshape(testX, (testX.shape[0], 1, testX.shape[1]))"
      ],
      "execution_count": 0,
      "outputs": []
    },
    {
      "cell_type": "code",
      "metadata": {
        "id": "dFOPtYvJwVeI",
        "colab_type": "code",
        "colab": {}
      },
      "source": [
        "from tensorflow import keras\n",
        "from tensorflow.keras import layers"
      ],
      "execution_count": 0,
      "outputs": []
    },
    {
      "cell_type": "code",
      "metadata": {
        "id": "QvDWFxR8YDYo",
        "colab_type": "code",
        "outputId": "7d665c80-fd71-4a65-f7cc-02fbbe83f540",
        "colab": {
          "base_uri": "https://localhost:8080/",
          "height": 1000
        }
      },
      "source": [
        "# create and fit the LSTM network\n",
        "model_LSTM = Sequential()\n",
        "model_LSTM.add(LSTM(4, input_shape=(1, look_back)))\n",
        "model_LSTM.add(Dense(1, activation=\"relu\"))\n",
        "model_LSTM.compile(loss='mean_squared_error', optimizer='adam')\n",
        "model_LSTM.fit(trainX, trainY, epochs=100, batch_size=1, verbose=2)"
      ],
      "execution_count": 31,
      "outputs": [
        {
          "output_type": "stream",
          "text": [
            "Epoch 1/100\n",
            " - 1s - loss: 0.0304\n",
            "Epoch 2/100\n",
            " - 0s - loss: 0.0233\n",
            "Epoch 3/100\n",
            " - 0s - loss: 0.0204\n",
            "Epoch 4/100\n",
            " - 0s - loss: 0.0187\n",
            "Epoch 5/100\n",
            " - 0s - loss: 0.0167\n",
            "Epoch 6/100\n",
            " - 0s - loss: 0.0148\n",
            "Epoch 7/100\n",
            " - 0s - loss: 0.0126\n",
            "Epoch 8/100\n",
            " - 0s - loss: 0.0104\n",
            "Epoch 9/100\n",
            " - 0s - loss: 0.0083\n",
            "Epoch 10/100\n",
            " - 0s - loss: 0.0063\n",
            "Epoch 11/100\n",
            " - 0s - loss: 0.0045\n",
            "Epoch 12/100\n",
            " - 0s - loss: 0.0031\n",
            "Epoch 13/100\n",
            " - 0s - loss: 0.0019\n",
            "Epoch 14/100\n",
            " - 0s - loss: 0.0011\n",
            "Epoch 15/100\n",
            " - 0s - loss: 5.9965e-04\n",
            "Epoch 16/100\n",
            " - 0s - loss: 3.2492e-04\n",
            "Epoch 17/100\n",
            " - 0s - loss: 1.6974e-04\n",
            "Epoch 18/100\n",
            " - 0s - loss: 9.6750e-05\n",
            "Epoch 19/100\n",
            " - 0s - loss: 6.7682e-05\n",
            "Epoch 20/100\n",
            " - 0s - loss: 5.5158e-05\n",
            "Epoch 21/100\n",
            " - 0s - loss: 5.2685e-05\n",
            "Epoch 22/100\n",
            " - 0s - loss: 5.1355e-05\n",
            "Epoch 23/100\n",
            " - 0s - loss: 5.1097e-05\n",
            "Epoch 24/100\n",
            " - 0s - loss: 4.9938e-05\n",
            "Epoch 25/100\n",
            " - 0s - loss: 5.0320e-05\n",
            "Epoch 26/100\n",
            " - 0s - loss: 4.8063e-05\n",
            "Epoch 27/100\n",
            " - 0s - loss: 4.8355e-05\n",
            "Epoch 28/100\n",
            " - 0s - loss: 4.7308e-05\n",
            "Epoch 29/100\n",
            " - 0s - loss: 4.7816e-05\n",
            "Epoch 30/100\n",
            " - 0s - loss: 4.7671e-05\n",
            "Epoch 31/100\n",
            " - 0s - loss: 4.4486e-05\n",
            "Epoch 32/100\n",
            " - 0s - loss: 5.1990e-05\n",
            "Epoch 33/100\n",
            " - 0s - loss: 4.4250e-05\n",
            "Epoch 34/100\n",
            " - 0s - loss: 4.6868e-05\n",
            "Epoch 35/100\n",
            " - 0s - loss: 4.3027e-05\n",
            "Epoch 36/100\n",
            " - 0s - loss: 4.5230e-05\n",
            "Epoch 37/100\n",
            " - 0s - loss: 4.1758e-05\n",
            "Epoch 38/100\n",
            " - 0s - loss: 4.6707e-05\n",
            "Epoch 39/100\n",
            " - 0s - loss: 4.0823e-05\n",
            "Epoch 40/100\n",
            " - 0s - loss: 4.0780e-05\n",
            "Epoch 41/100\n",
            " - 0s - loss: 4.2932e-05\n",
            "Epoch 42/100\n",
            " - 0s - loss: 4.1725e-05\n",
            "Epoch 43/100\n",
            " - 0s - loss: 3.6436e-05\n",
            "Epoch 44/100\n",
            " - 0s - loss: 3.8016e-05\n",
            "Epoch 45/100\n",
            " - 0s - loss: 3.4997e-05\n",
            "Epoch 46/100\n",
            " - 0s - loss: 3.7970e-05\n",
            "Epoch 47/100\n",
            " - 0s - loss: 3.3790e-05\n",
            "Epoch 48/100\n",
            " - 0s - loss: 3.3171e-05\n",
            "Epoch 49/100\n",
            " - 0s - loss: 3.3382e-05\n",
            "Epoch 50/100\n",
            " - 0s - loss: 3.3209e-05\n",
            "Epoch 51/100\n",
            " - 0s - loss: 3.1053e-05\n",
            "Epoch 52/100\n",
            " - 0s - loss: 3.2891e-05\n",
            "Epoch 53/100\n",
            " - 0s - loss: 2.8691e-05\n",
            "Epoch 54/100\n",
            " - 0s - loss: 3.1391e-05\n",
            "Epoch 55/100\n",
            " - 0s - loss: 2.8895e-05\n",
            "Epoch 56/100\n",
            " - 0s - loss: 2.4930e-05\n",
            "Epoch 57/100\n",
            " - 0s - loss: 2.7237e-05\n",
            "Epoch 58/100\n",
            " - 0s - loss: 2.4388e-05\n",
            "Epoch 59/100\n",
            " - 0s - loss: 2.2004e-05\n",
            "Epoch 60/100\n",
            " - 0s - loss: 2.6421e-05\n",
            "Epoch 61/100\n",
            " - 0s - loss: 2.2836e-05\n",
            "Epoch 62/100\n",
            " - 0s - loss: 2.2470e-05\n",
            "Epoch 63/100\n",
            " - 0s - loss: 2.0513e-05\n",
            "Epoch 64/100\n",
            " - 0s - loss: 2.1398e-05\n",
            "Epoch 65/100\n",
            " - 0s - loss: 1.9820e-05\n",
            "Epoch 66/100\n",
            " - 0s - loss: 1.9958e-05\n",
            "Epoch 67/100\n",
            " - 0s - loss: 2.1321e-05\n",
            "Epoch 68/100\n",
            " - 0s - loss: 2.1082e-05\n",
            "Epoch 69/100\n",
            " - 0s - loss: 1.7038e-05\n",
            "Epoch 70/100\n",
            " - 0s - loss: 1.7931e-05\n",
            "Epoch 71/100\n",
            " - 0s - loss: 1.5912e-05\n",
            "Epoch 72/100\n",
            " - 0s - loss: 1.7668e-05\n",
            "Epoch 73/100\n",
            " - 0s - loss: 1.5894e-05\n",
            "Epoch 74/100\n",
            " - 0s - loss: 1.2269e-05\n",
            "Epoch 75/100\n",
            " - 0s - loss: 1.6144e-05\n",
            "Epoch 76/100\n",
            " - 0s - loss: 1.4160e-05\n",
            "Epoch 77/100\n",
            " - 0s - loss: 1.3731e-05\n",
            "Epoch 78/100\n",
            " - 0s - loss: 1.2469e-05\n",
            "Epoch 79/100\n",
            " - 0s - loss: 1.1509e-05\n",
            "Epoch 80/100\n",
            " - 0s - loss: 1.2204e-05\n",
            "Epoch 81/100\n",
            " - 0s - loss: 1.4065e-05\n",
            "Epoch 82/100\n",
            " - 0s - loss: 1.1615e-05\n",
            "Epoch 83/100\n",
            " - 0s - loss: 9.2276e-06\n",
            "Epoch 84/100\n",
            " - 0s - loss: 1.1118e-05\n",
            "Epoch 85/100\n",
            " - 0s - loss: 9.7406e-06\n",
            "Epoch 86/100\n",
            " - 0s - loss: 1.1157e-05\n",
            "Epoch 87/100\n",
            " - 0s - loss: 9.6611e-06\n",
            "Epoch 88/100\n",
            " - 0s - loss: 1.0717e-05\n",
            "Epoch 89/100\n",
            " - 0s - loss: 1.0115e-05\n",
            "Epoch 90/100\n",
            " - 0s - loss: 1.0958e-05\n",
            "Epoch 91/100\n",
            " - 0s - loss: 8.9901e-06\n",
            "Epoch 92/100\n",
            " - 0s - loss: 8.5666e-06\n",
            "Epoch 93/100\n",
            " - 0s - loss: 1.3088e-05\n",
            "Epoch 94/100\n",
            " - 0s - loss: 9.0202e-06\n",
            "Epoch 95/100\n",
            " - 0s - loss: 1.0223e-05\n",
            "Epoch 96/100\n",
            " - 0s - loss: 8.3315e-06\n",
            "Epoch 97/100\n",
            " - 0s - loss: 1.0412e-05\n",
            "Epoch 98/100\n",
            " - 0s - loss: 1.0784e-05\n",
            "Epoch 99/100\n",
            " - 0s - loss: 9.1258e-06\n",
            "Epoch 100/100\n",
            " - 0s - loss: 7.5414e-06\n"
          ],
          "name": "stdout"
        },
        {
          "output_type": "execute_result",
          "data": {
            "text/plain": [
              "<keras.callbacks.callbacks.History at 0x7f3d3b7bd400>"
            ]
          },
          "metadata": {
            "tags": []
          },
          "execution_count": 31
        }
      ]
    },
    {
      "cell_type": "code",
      "metadata": {
        "id": "ccCGcKwrGI5h",
        "colab_type": "code",
        "outputId": "776f8dd8-b2dc-40ac-f6d7-1295828a9b18",
        "colab": {
          "base_uri": "https://localhost:8080/",
          "height": 52
        }
      },
      "source": [
        "#  make prediction\n",
        "trainPredict = model_LSTM.predict(trainX)\n",
        "testPredict = model_LSTM.predict(testX)\n",
        "# invert predictions\n",
        "trainPredict = scaler.inverse_transform(trainPredict)\n",
        "trainY = scaler.inverse_transform([trainY])\n",
        "testPredict = scaler.inverse_transform(testPredict)\n",
        "testY = scaler.inverse_transform([testY])\n",
        "# # calculate root mean squared error\n",
        "trainScore = math.sqrt(mean_squared_error(trainY[0], trainPredict[:,0]))\n",
        "print('Train Score: %.2f RMSE' % (trainScore))\n",
        "testScore = math.sqrt(mean_squared_error(testY[0], testPredict[:,0]))\n",
        "print('Test Score: %.2f RMSE' % (testScore))\n",
        "model_scores.append(testScore)"
      ],
      "execution_count": 32,
      "outputs": [
        {
          "output_type": "stream",
          "text": [
            "Train Score: 11976.42 RMSE\n",
            "Test Score: 340920.33 RMSE\n"
          ],
          "name": "stdout"
        }
      ]
    },
    {
      "cell_type": "code",
      "metadata": {
        "id": "7-47ZmQ5GMW6",
        "colab_type": "code",
        "outputId": "a96c9ec5-a73d-4db2-92a6-75cac363b815",
        "colab": {
          "base_uri": "https://localhost:8080/",
          "height": 313
        }
      },
      "source": [
        "# shift train predictions for plotting\n",
        "trainPredictPlot = numpy.empty_like(dataset)\n",
        "trainPredictPlot[:, :] = numpy.nan\n",
        "trainPredictPlot[look_back:len(trainPredict)+look_back, :] = trainPredict\n",
        "# shift test predictions for plotting\n",
        "testPredictPlot = numpy.empty_like(dataset)\n",
        "testPredictPlot[:, :] = numpy.nan\n",
        "testPredictPlot[len(trainPredict)+(look_back*2)+1:len(dataset)-1, :] = testPredict\n",
        "\n",
        "# predictYPlot = numpy.empty_like(dataset)\n",
        "# predictYPlot[:, :] = numpy.nan\n",
        "# predictYPlot[len(trainPredict)+(look_back*2)+1:len(dataset)-1, :] = predictY\n",
        "# plot baseline and predictions\n",
        "# plt.plot(predictYPlot)\n",
        "\n",
        "plt.plot(scaler.inverse_transform(dataset), label=\"Actual Confirmed\", color='red',linewidth=3)\n",
        "plt.plot(trainPredictPlot, label=\"Train Predict Confirmed\", color='yellow', linewidth=1)\n",
        "plt.plot(testPredictPlot, label=\"Test Predict Confirmed\", color='blue')\n",
        "plt.legend()\n",
        "print(\"Root Mean Squared Error for LSTM model: \",testScore)\n",
        "plt.xlabel('Days Since(=Date)')\n",
        "plt.ylabel('Confirmed Cases')\n",
        "plt.title(\"Confirmed Cases Prediction - LSTM model\")\n",
        "plt.show()"
      ],
      "execution_count": 33,
      "outputs": [
        {
          "output_type": "stream",
          "text": [
            "Root Mean Squared Error for LSTM model:  340920.32814989856\n"
          ],
          "name": "stdout"
        },
        {
          "output_type": "display_data",
          "data": {
            "image/png": "[encoded data removed]",
            "text/plain": [
              "<Figure size 432x288 with 1 Axes>"
            ]
          },
          "metadata": {
            "tags": [],
            "needs_background": "light"
          }
        }
      ]
    },
    {
      "cell_type": "markdown",
      "metadata": {
        "id": "dIPWMtM5GMtM",
        "colab_type": "text"
      },
      "source": [
        ""
      ]
    },
    {
      "cell_type": "code",
      "metadata": {
        "id": "E3ZVirS-ABJn",
        "colab_type": "code",
        "colab": {}
      },
      "source": [
        "from keras.layers import Flatten"
      ],
      "execution_count": 0,
      "outputs": []
    },
    {
      "cell_type": "code",
      "metadata": {
        "id": "1bAkzh_ju8Ah",
        "colab_type": "code",
        "colab": {}
      },
      "source": [
        "look_back = 1\n",
        "trainX, trainY = create_dataset(train, look_back)\n",
        "testX, testY = create_dataset(test, look_back)"
      ],
      "execution_count": 0,
      "outputs": []
    },
    {
      "cell_type": "code",
      "metadata": {
        "id": "P9eRIN4FvAu9",
        "colab_type": "code",
        "colab": {}
      },
      "source": [
        "# reshape input to be [samples, time steps, features]\n",
        "trainX = numpy.reshape(trainX, (trainX.shape[0], 1, trainX.shape[1]))\n",
        "testX = numpy.reshape(testX, (testX.shape[0], 1, testX.shape[1]))"
      ],
      "execution_count": 0,
      "outputs": []
    },
    {
      "cell_type": "code",
      "metadata": {
        "id": "aA-pzTRCL4jK",
        "colab_type": "code",
        "outputId": "de023a1e-d969-43af-a7e6-ac9de851e7a5",
        "colab": {
          "base_uri": "https://localhost:8080/",
          "height": 1000
        }
      },
      "source": [
        "model_GRU = Sequential()\n",
        "model_GRU.add(GRU(1, return_sequences=True, input_shape=(1, look_back)))\n",
        "model_GRU.add(Flatten())\n",
        "# model_GRU.add(Dense(1))\n",
        "model_GRU.compile(loss='mean_squared_error', optimizer='adam')\n",
        "print(trainX.shape)\n",
        "print(trainY.shape)\n",
        "model_GRU.fit(trainX, trainY, epochs=100, batch_size=1, verbose=2)"
      ],
      "execution_count": 37,
      "outputs": [
        {
          "output_type": "stream",
          "text": [
            "(91, 1, 1)\n",
            "(91,)\n",
            "Epoch 1/100\n",
            " - 0s - loss: 0.0106\n",
            "Epoch 2/100\n",
            " - 0s - loss: 0.0082\n",
            "Epoch 3/100\n",
            " - 0s - loss: 0.0070\n",
            "Epoch 4/100\n",
            " - 0s - loss: 0.0062\n",
            "Epoch 5/100\n",
            " - 0s - loss: 0.0057\n",
            "Epoch 6/100\n",
            " - 0s - loss: 0.0051\n",
            "Epoch 7/100\n",
            " - 0s - loss: 0.0045\n",
            "Epoch 8/100\n",
            " - 0s - loss: 0.0040\n",
            "Epoch 9/100\n",
            " - 0s - loss: 0.0036\n",
            "Epoch 10/100\n",
            " - 0s - loss: 0.0031\n",
            "Epoch 11/100\n",
            " - 0s - loss: 0.0027\n",
            "Epoch 12/100\n",
            " - 0s - loss: 0.0024\n",
            "Epoch 13/100\n",
            " - 0s - loss: 0.0020\n",
            "Epoch 14/100\n",
            " - 0s - loss: 0.0017\n",
            "Epoch 15/100\n",
            " - 0s - loss: 0.0015\n",
            "Epoch 16/100\n",
            " - 0s - loss: 0.0012\n",
            "Epoch 17/100\n",
            " - 0s - loss: 0.0010\n",
            "Epoch 18/100\n",
            " - 0s - loss: 8.5724e-04\n",
            "Epoch 19/100\n",
            " - 0s - loss: 6.9818e-04\n",
            "Epoch 20/100\n",
            " - 0s - loss: 5.7042e-04\n",
            "Epoch 21/100\n",
            " - 0s - loss: 4.6622e-04\n",
            "Epoch 22/100\n",
            " - 0s - loss: 3.7359e-04\n",
            "Epoch 23/100\n",
            " - 0s - loss: 2.9648e-04\n",
            "Epoch 24/100\n",
            " - 0s - loss: 2.3716e-04\n",
            "Epoch 25/100\n",
            " - 0s - loss: 1.8802e-04\n",
            "Epoch 26/100\n",
            " - 0s - loss: 1.4675e-04\n",
            "Epoch 27/100\n",
            " - 0s - loss: 1.1584e-04\n",
            "Epoch 28/100\n",
            " - 0s - loss: 9.2722e-05\n",
            "Epoch 29/100\n",
            " - 0s - loss: 7.3815e-05\n",
            "Epoch 30/100\n",
            " - 0s - loss: 6.1254e-05\n",
            "Epoch 31/100\n",
            " - 0s - loss: 5.0204e-05\n",
            "Epoch 32/100\n",
            " - 0s - loss: 4.3075e-05\n",
            "Epoch 33/100\n",
            " - 0s - loss: 3.8040e-05\n",
            "Epoch 34/100\n",
            " - 0s - loss: 3.4035e-05\n",
            "Epoch 35/100\n",
            " - 0s - loss: 3.1683e-05\n",
            "Epoch 36/100\n",
            " - 0s - loss: 2.9522e-05\n",
            "Epoch 37/100\n",
            " - 0s - loss: 2.8456e-05\n",
            "Epoch 38/100\n",
            " - 0s - loss: 2.7547e-05\n",
            "Epoch 39/100\n",
            " - 0s - loss: 2.7108e-05\n",
            "Epoch 40/100\n",
            " - 0s - loss: 2.6769e-05\n",
            "Epoch 41/100\n",
            " - 0s - loss: 2.6345e-05\n",
            "Epoch 42/100\n",
            " - 0s - loss: 2.6305e-05\n",
            "Epoch 43/100\n",
            " - 0s - loss: 2.6155e-05\n",
            "Epoch 44/100\n",
            " - 0s - loss: 2.6455e-05\n",
            "Epoch 45/100\n",
            " - 0s - loss: 2.5902e-05\n",
            "Epoch 46/100\n",
            " - 0s - loss: 2.5694e-05\n",
            "Epoch 47/100\n",
            " - 0s - loss: 2.5851e-05\n",
            "Epoch 48/100\n",
            " - 0s - loss: 2.5246e-05\n",
            "Epoch 49/100\n",
            " - 0s - loss: 2.5593e-05\n",
            "Epoch 50/100\n",
            " - 0s - loss: 2.5179e-05\n",
            "Epoch 51/100\n",
            " - 0s - loss: 2.5406e-05\n",
            "Epoch 52/100\n",
            " - 0s - loss: 2.5526e-05\n",
            "Epoch 53/100\n",
            " - 0s - loss: 2.5592e-05\n",
            "Epoch 54/100\n",
            " - 0s - loss: 2.4724e-05\n",
            "Epoch 55/100\n",
            " - 0s - loss: 2.4361e-05\n",
            "Epoch 56/100\n",
            " - 0s - loss: 2.4554e-05\n",
            "Epoch 57/100\n",
            " - 0s - loss: 2.4183e-05\n",
            "Epoch 58/100\n",
            " - 0s - loss: 2.3595e-05\n",
            "Epoch 59/100\n",
            " - 0s - loss: 2.4005e-05\n",
            "Epoch 60/100\n",
            " - 0s - loss: 2.3435e-05\n",
            "Epoch 61/100\n",
            " - 0s - loss: 2.2934e-05\n",
            "Epoch 62/100\n",
            " - 0s - loss: 2.3329e-05\n",
            "Epoch 63/100\n",
            " - 0s - loss: 2.2986e-05\n",
            "Epoch 64/100\n",
            " - 0s - loss: 2.2419e-05\n",
            "Epoch 65/100\n",
            " - 0s - loss: 2.3440e-05\n",
            "Epoch 66/100\n",
            " - 0s - loss: 2.2403e-05\n",
            "Epoch 67/100\n",
            " - 0s - loss: 2.1724e-05\n",
            "Epoch 68/100\n",
            " - 0s - loss: 2.1777e-05\n",
            "Epoch 69/100\n",
            " - 0s - loss: 2.1281e-05\n",
            "Epoch 70/100\n",
            " - 0s - loss: 2.1611e-05\n",
            "Epoch 71/100\n",
            " - 0s - loss: 2.0889e-05\n",
            "Epoch 72/100\n",
            " - 0s - loss: 2.1505e-05\n",
            "Epoch 73/100\n",
            " - 0s - loss: 2.1579e-05\n",
            "Epoch 74/100\n",
            " - 0s - loss: 2.1224e-05\n",
            "Epoch 75/100\n",
            " - 0s - loss: 2.0252e-05\n",
            "Epoch 76/100\n",
            " - 0s - loss: 2.0688e-05\n",
            "Epoch 77/100\n",
            " - 0s - loss: 2.0149e-05\n",
            "Epoch 78/100\n",
            " - 0s - loss: 1.9346e-05\n",
            "Epoch 79/100\n",
            " - 0s - loss: 2.0042e-05\n",
            "Epoch 80/100\n",
            " - 0s - loss: 1.9497e-05\n",
            "Epoch 81/100\n",
            " - 0s - loss: 1.8634e-05\n",
            "Epoch 82/100\n",
            " - 0s - loss: 1.8894e-05\n",
            "Epoch 83/100\n",
            " - 0s - loss: 1.9939e-05\n",
            "Epoch 84/100\n",
            " - 0s - loss: 1.9374e-05\n",
            "Epoch 85/100\n",
            " - 0s - loss: 1.9540e-05\n",
            "Epoch 86/100\n",
            " - 0s - loss: 1.8068e-05\n",
            "Epoch 87/100\n",
            " - 0s - loss: 1.8982e-05\n",
            "Epoch 88/100\n",
            " - 0s - loss: 1.8467e-05\n",
            "Epoch 89/100\n",
            " - 0s - loss: 1.9177e-05\n",
            "Epoch 90/100\n",
            " - 0s - loss: 1.7694e-05\n",
            "Epoch 91/100\n",
            " - 0s - loss: 1.6945e-05\n",
            "Epoch 92/100\n",
            " - 0s - loss: 1.7158e-05\n",
            "Epoch 93/100\n",
            " - 0s - loss: 1.7141e-05\n",
            "Epoch 94/100\n",
            " - 0s - loss: 1.7089e-05\n",
            "Epoch 95/100\n",
            " - 0s - loss: 1.6771e-05\n",
            "Epoch 96/100\n",
            " - 0s - loss: 1.7088e-05\n",
            "Epoch 97/100\n",
            " - 0s - loss: 1.5983e-05\n",
            "Epoch 98/100\n",
            " - 0s - loss: 1.7393e-05\n",
            "Epoch 99/100\n",
            " - 0s - loss: 1.6420e-05\n",
            "Epoch 100/100\n",
            " - 0s - loss: 1.6701e-05\n"
          ],
          "name": "stdout"
        },
        {
          "output_type": "execute_result",
          "data": {
            "text/plain": [
              "<keras.callbacks.callbacks.History at 0x7f3d3b5ae358>"
            ]
          },
          "metadata": {
            "tags": []
          },
          "execution_count": 37
        }
      ]
    },
    {
      "cell_type": "code",
      "metadata": {
        "id": "2LEtnfXHsKXk",
        "colab_type": "code",
        "outputId": "9eacb67b-ba7a-40ef-e6cb-431aa380ceb5",
        "colab": {
          "base_uri": "https://localhost:8080/",
          "height": 52
        }
      },
      "source": [
        "# make predictions\n",
        "trainPredict2 = model_GRU.predict(trainX)\n",
        "testPredict2 = model_GRU.predict(testX)\n",
        "# invert predictions\n",
        "trainPredict2 = scaler.inverse_transform(trainPredict2)\n",
        "trainY2 = scaler.inverse_transform([trainY.flatten()])\n",
        "testPredict2 = scaler.inverse_transform(testPredict2)\n",
        "testY2 = scaler.inverse_transform([testY.flatten()])\n",
        "# calculate root mean squared error\n",
        "trainScore2 = math.sqrt(mean_squared_error(trainY2[0], trainPredict2[:,0]))\n",
        "print('Train Score: %.2f RMSE' % (trainScore2))\n",
        "testScore2 = math.sqrt(mean_squared_error(testY2[0], testPredict2[:,0]))\n",
        "print('Test Score: %.2f RMSE' % (testScore2))\n",
        "model_scores.append(testScore2)"
      ],
      "execution_count": 38,
      "outputs": [
        {
          "output_type": "stream",
          "text": [
            "Train Score: 18472.85 RMSE\n",
            "Test Score: 587205.88 RMSE\n"
          ],
          "name": "stdout"
        }
      ]
    },
    {
      "cell_type": "code",
      "metadata": {
        "id": "CPaXbo8IsKWc",
        "colab_type": "code",
        "outputId": "6bcf032f-02c5-4aa9-aed5-bdd518cec4c0",
        "colab": {
          "base_uri": "https://localhost:8080/",
          "height": 313
        }
      },
      "source": [
        "# shift train predictions for plotting\n",
        "trainPredictPlot2 = numpy.empty_like(dataset)\n",
        "trainPredictPlot2[:, :] = numpy.nan\n",
        "trainPredictPlot2[look_back:len(trainPredict2)+look_back, :] = trainPredict2\n",
        "# shift test predictions for plotting\n",
        "testPredictPlot2 = numpy.empty_like(dataset)\n",
        "testPredictPlot2[:, :] = numpy.nan\n",
        "testPredictPlot2[len(trainPredict2)+(look_back*2)+1:len(dataset)-1, :] = testPredict2\n",
        "\n",
        "# plot baseline and predictions\n",
        "plt.plot(scaler.inverse_transform(dataset), label=\"Actual Confirmed\", color='red',linewidth=3)\n",
        "plt.plot(trainPredictPlot2, label=\"Train Predict Confirmed\", color='yellow', linewidth=1)\n",
        "plt.plot(testPredictPlot2, label=\"Test Predict Confirmed\", color='blue')\n",
        "plt.legend()\n",
        "print(\"Root Mean Squared Error for GRU model: \",testScore2)\n",
        "plt.xlabel('Days Since(=Date)')\n",
        "plt.ylabel('Confirmed Cases')\n",
        "plt.title(\"Confirmed Cases Prediction - GRU model\")\n",
        "plt.show()"
      ],
      "execution_count": 39,
      "outputs": [
        {
          "output_type": "stream",
          "text": [
            "Root Mean Squared Error for GRU model:  587205.8785877018\n"
          ],
          "name": "stdout"
        },
        {
          "output_type": "display_data",
          "data": {
            "image/png": "[encoded data removed]",
            "text/plain": [
              "<Figure size 432x288 with 1 Axes>"
            ]
          },
          "metadata": {
            "tags": [],
            "needs_background": "light"
          }
        }
      ]
    },
    {
      "cell_type": "markdown",
      "metadata": {
        "id": "T7C1g0Q5X8AX",
        "colab_type": "text"
      },
      "source": [
        ""
      ]
    },
    {
      "cell_type": "markdown",
      "metadata": {
        "id": "XGwl1PuMd7cU",
        "colab_type": "text"
      },
      "source": [
        "### Facebook's Prophet Model for forecasting "
      ]
    },
    {
      "cell_type": "markdown",
      "metadata": {
        "id": "Vmskz6cbY6g3",
        "colab_type": "text"
      },
      "source": [
        "Facebook Prophet with First parameter setting"
      ]
    },
    {
      "cell_type": "code",
      "metadata": {
        "id": "C3ti6U2Pkdn-",
        "colab_type": "code",
        "colab": {}
      },
      "source": [
        "from fbprophet import Prophet"
      ],
      "execution_count": 0,
      "outputs": []
    },
    {
      "cell_type": "code",
      "metadata": {
        "id": "ZMxjKi1N5mJz",
        "colab_type": "code",
        "outputId": "f0578ad4-e0c8-4b29-9853-34ea40cf44cb",
        "colab": {
          "base_uri": "https://localhost:8080/",
          "height": 34
        }
      },
      "source": [
        "model_Prophet = Prophet(interval_width=0.95, weekly_seasonality=True, changepoint_prior_scale=2)\n",
        "model_Prophet.add_seasonality(name=\"monthly\", period=30.5, fourier_order=10, prior_scale=0.02)"
      ],
      "execution_count": 41,
      "outputs": [
        {
          "output_type": "execute_result",
          "data": {
            "text/plain": [
              "<fbprophet.forecaster.Prophet at 0x7f3d38f24668>"
            ]
          },
          "metadata": {
            "tags": []
          },
          "execution_count": 41
        }
      ]
    },
    {
      "cell_type": "code",
      "metadata": {
        "id": "lay_X8lYzWFd",
        "colab_type": "code",
        "colab": {}
      },
      "source": [
        "train_data_length = round(len(covid_data)*0.8)\n",
        "test_data_length = round(len(covid_data)*0.2)\n",
        "prophet_training_set = pd.DataFrame(zip(list(covid_data.index[:train_data_length]),list(covid_data.Confirmed[:train_data_length])),columns=['ds','y'])"
      ],
      "execution_count": 0,
      "outputs": []
    },
    {
      "cell_type": "code",
      "metadata": {
        "id": "a_Mh8jxSxi-B",
        "colab_type": "code",
        "outputId": "1dfe1ccf-ffbf-4371-bc33-eb0258b9a1e6",
        "colab": {
          "base_uri": "https://localhost:8080/",
          "height": 70
        }
      },
      "source": [
        "model_Prophet.fit(prophet_training_set)"
      ],
      "execution_count": 43,
      "outputs": [
        {
          "output_type": "stream",
          "text": [
            "INFO:fbprophet:Disabling yearly seasonality. Run prophet with yearly_seasonality=True to override this.\n",
            "INFO:fbprophet:Disabling daily seasonality. Run prophet with daily_seasonality=True to override this.\n"
          ],
          "name": "stderr"
        },
        {
          "output_type": "execute_result",
          "data": {
            "text/plain": [
              "<fbprophet.forecaster.Prophet at 0x7f3d38f24668>"
            ]
          },
          "metadata": {
            "tags": []
          },
          "execution_count": 43
        }
      ]
    },
    {
      "cell_type": "code",
      "metadata": {
        "id": "A0VkH5OQxjPG",
        "colab_type": "code",
        "colab": {}
      },
      "source": [
        "forecast_c=model_Prophet.make_future_dataframe(freq=\"D\",periods=test_data_length)"
      ],
      "execution_count": 0,
      "outputs": []
    },
    {
      "cell_type": "code",
      "metadata": {
        "id": "JurCEs8FxjNB",
        "colab_type": "code",
        "colab": {}
      },
      "source": [
        "predicted_forecast = model_Prophet.predict(forecast_c)"
      ],
      "execution_count": 0,
      "outputs": []
    },
    {
      "cell_type": "code",
      "metadata": {
        "id": "EHx4Y6CpxjKq",
        "colab_type": "code",
        "outputId": "0b64995b-8a58-447f-cd8b-8264f622d3a8",
        "colab": {
          "base_uri": "https://localhost:8080/",
          "height": 34
        }
      },
      "source": [
        "print(\"Root Mean Squared Error for Prophet model: \",np.sqrt(mean_squared_error(covid_data.Confirmed[train_data_length:],predicted_forecast.yhat[train_data_length:].head(covid_data.shape[0]))))"
      ],
      "execution_count": 46,
      "outputs": [
        {
          "output_type": "stream",
          "text": [
            "Root Mean Squared Error for Prophet model:  90632.39179064985\n"
          ],
          "name": "stdout"
        }
      ]
    },
    {
      "cell_type": "code",
      "metadata": {
        "id": "rzvxljHQzO1G",
        "colab_type": "code",
        "outputId": "43052d1b-11dd-4abf-e951-f7758f3d2f68",
        "colab": {
          "base_uri": "https://localhost:8080/",
          "height": 482
        }
      },
      "source": [
        "print(model_Prophet.plot(predicted_forecast))\n",
        "df = pd.DataFrame(covid_data.Confirmed)\n",
        "plt.plot(df, label=\"Test Predict Confirmed\", color='red')\n",
        "\n",
        "print(\"Root Mean Squared Error for Prophet model: \",np.sqrt(mean_squared_error(covid_data[\"Confirmed\"],predicted_forecast['yhat'].head(covid_data.shape[0]))))\n",
        "plt.xlabel('Date')\n",
        "plt.ylabel('Confirmed Cases')\n",
        "plt.title(\"Confirmed Cases Prediction - Prophet model\")\n",
        "plt.show()"
      ],
      "execution_count": 47,
      "outputs": [
        {
          "output_type": "stream",
          "text": [
            "Figure(720x432)\n",
            "Root Mean Squared Error for Prophet model:  40237.055759866125\n"
          ],
          "name": "stdout"
        },
        {
          "output_type": "display_data",
          "data": {
            "image/png": "[encoded data removed]",
            "text/plain": [
              "<Figure size 720x432 with 1 Axes>"
            ]
          },
          "metadata": {
            "tags": []
          }
        }
      ]
    },
    {
      "cell_type": "markdown",
      "metadata": {
        "id": "GHf6yAHxZK8o",
        "colab_type": "text"
      },
      "source": [
        "Facebook Prophet with second parameter setting"
      ]
    },
    {
      "cell_type": "code",
      "metadata": {
        "id": "CAeCymQvZOxd",
        "colab_type": "code",
        "outputId": "4a9014c7-a825-4487-880a-4a7ad7bb312d",
        "colab": {
          "base_uri": "https://localhost:8080/",
          "height": 34
        }
      },
      "source": [
        "model_Prophet_two = Prophet(interval_width=0.95,seasonality_mode=\"multiplicative\")\n",
        "model_Prophet_two.add_seasonality(name=\"weekly\",period=7,fourier_order=20)"
      ],
      "execution_count": 48,
      "outputs": [
        {
          "output_type": "execute_result",
          "data": {
            "text/plain": [
              "<fbprophet.forecaster.Prophet at 0x7f3d37691da0>"
            ]
          },
          "metadata": {
            "tags": []
          },
          "execution_count": 48
        }
      ]
    },
    {
      "cell_type": "code",
      "metadata": {
        "id": "A2hDuCBvZYyJ",
        "colab_type": "code",
        "colab": {}
      },
      "source": [
        "train_data_length = round(len(covid_data)*0.8)\n",
        "test_data_length = round(len(covid_data)*0.2)\n",
        "prophet_training_set_two = pd.DataFrame(zip(list(covid_data.index[:train_data_length]),list(covid_data.Confirmed[:train_data_length])),columns=['ds','y'])"
      ],
      "execution_count": 0,
      "outputs": []
    },
    {
      "cell_type": "code",
      "metadata": {
        "id": "_x263D11ZuH-",
        "colab_type": "code",
        "outputId": "8ee671d1-f0c8-4d16-e156-7e5352dc87f9",
        "colab": {
          "base_uri": "https://localhost:8080/",
          "height": 87
        }
      },
      "source": [
        "model_Prophet_two.fit(prophet_training_set_two)"
      ],
      "execution_count": 50,
      "outputs": [
        {
          "output_type": "stream",
          "text": [
            "INFO:fbprophet:Disabling yearly seasonality. Run prophet with yearly_seasonality=True to override this.\n",
            "INFO:fbprophet:Found custom seasonality named 'weekly', disabling built-in 'weekly' seasonality.\n",
            "INFO:fbprophet:Disabling daily seasonality. Run prophet with daily_seasonality=True to override this.\n"
          ],
          "name": "stderr"
        },
        {
          "output_type": "execute_result",
          "data": {
            "text/plain": [
              "<fbprophet.forecaster.Prophet at 0x7f3d37691da0>"
            ]
          },
          "metadata": {
            "tags": []
          },
          "execution_count": 50
        }
      ]
    },
    {
      "cell_type": "code",
      "metadata": {
        "id": "8JKNsMFAZ1Zn",
        "colab_type": "code",
        "colab": {}
      },
      "source": [
        "forecast_c_two=model_Prophet_two.make_future_dataframe(freq=\"D\",periods=test_data_length)"
      ],
      "execution_count": 0,
      "outputs": []
    },
    {
      "cell_type": "code",
      "metadata": {
        "id": "V0v8FfYAaAzH",
        "colab_type": "code",
        "colab": {}
      },
      "source": [
        "predicted_forecast_two = model_Prophet_two.predict(forecast_c_two)"
      ],
      "execution_count": 0,
      "outputs": []
    },
    {
      "cell_type": "code",
      "metadata": {
        "id": "2VxSOSLjZ57a",
        "colab_type": "code",
        "outputId": "454e67b9-9e69-4098-fa78-b522d3fc446f",
        "colab": {
          "base_uri": "https://localhost:8080/",
          "height": 34
        }
      },
      "source": [
        "# model_scores.append(np.sqrt(mean_squared_error(covid_data.Confirmed[train_data_length:],predicted_forecast_two.yhat[train_data_length:].head(covid_data.shape[0]))))\n",
        "print(\"Root Mean Squared Error for Prophet model: \",np.sqrt(mean_squared_error(covid_data.Confirmed[train_data_length:],predicted_forecast_two.yhat[train_data_length:].head(covid_data.shape[0]))))"
      ],
      "execution_count": 53,
      "outputs": [
        {
          "output_type": "stream",
          "text": [
            "Root Mean Squared Error for Prophet model:  30142.17955795914\n"
          ],
          "name": "stdout"
        }
      ]
    },
    {
      "cell_type": "code",
      "metadata": {
        "id": "K1vkoyAUaG1j",
        "colab_type": "code",
        "outputId": "4a2c93e8-3729-48fc-f5fd-d04f0fbe4bf4",
        "colab": {
          "base_uri": "https://localhost:8080/",
          "height": 482
        }
      },
      "source": [
        "print(model_Prophet_two.plot(predicted_forecast_two))\n",
        "df = pd.DataFrame(covid_data.Confirmed)\n",
        "plt.plot(df, label=\"Test Predict Confirmed\", color='red')\n",
        "\n",
        "print(\"Root Mean Squared Error for Prophet model: \",np.sqrt(mean_squared_error(covid_data.Confirmed[train_data_length:],predicted_forecast_two.yhat[train_data_length:].head(covid_data.shape[0]))))\n",
        "plt.xlabel('Date')\n",
        "plt.ylabel('Confirmed Cases')\n",
        "plt.title(\"Confirmed Cases Prediction - Prophet model\")\n",
        "plt.show()"
      ],
      "execution_count": 54,
      "outputs": [
        {
          "output_type": "stream",
          "text": [
            "Figure(720x432)\n",
            "Root Mean Squared Error for Prophet model:  30142.17955795914\n"
          ],
          "name": "stdout"
        },
        {
          "output_type": "display_data",
          "data": {
            "image/png": "[encoded data removed]",
            "text/plain": [
              "<Figure size 720x432 with 1 Axes>"
            ]
          },
          "metadata": {
            "tags": []
          }
        }
      ]
    },
    {
      "cell_type": "markdown",
      "metadata": {
        "id": "SwdYzayyzA51",
        "colab_type": "text"
      },
      "source": [
        "Summarization of models. Which model fits the dataset most"
      ]
    },
    {
      "cell_type": "code",
      "metadata": {
        "id": "IoZrkJOFy7c2",
        "colab_type": "code",
        "outputId": "1634c0f3-28ee-4b3c-bc7e-877ecedbdb28",
        "colab": {
          "base_uri": "https://localhost:8080/",
          "height": 166
        }
      },
      "source": [
        "model_scores = [ '%.2f' % elem for elem in model_scores ]\n",
        "model_names=[\"Linear Regression\",\"Polynomial Regression\",\"LSTM model\",\"GRU model\",\"Facebook Prophet\"]\n",
        "model_summary=pd.DataFrame(zip(model_names,model_scores),columns=[\"Model Name\",\"Root Mean Squared Error\"])\n",
        "model_summary"
      ],
      "execution_count": 55,
      "outputs": [
        {
          "output_type": "execute_result",
          "data": {
            "text/html": [
              "<div>\n",
              "<style scoped>\n",
              "    .dataframe tbody tr th:only-of-type {\n",
              "        vertical-align: middle;\n",
              "    }\n",
              "\n",
              "    .dataframe tbody tr th {\n",
              "        vertical-align: top;\n",
              "    }\n",
              "\n",
              "    .dataframe thead th {\n",
              "        text-align: right;\n",
              "    }\n",
              "</style>\n",
              "<table border=\"1\" class=\"dataframe\">\n",
              "  <thead>\n",
              "    <tr style=\"text-align: right;\">\n",
              "      <th></th>\n",
              "      <th>Model Name</th>\n",
              "      <th>Root Mean Squared Error</th>\n",
              "    </tr>\n",
              "  </thead>\n",
              "  <tbody>\n",
              "    <tr>\n",
              "      <th>0</th>\n",
              "      <td>Linear Regression</td>\n",
              "      <td>1772046.96</td>\n",
              "    </tr>\n",
              "    <tr>\n",
              "      <th>1</th>\n",
              "      <td>Polynomial Regression</td>\n",
              "      <td>687970.12</td>\n",
              "    </tr>\n",
              "    <tr>\n",
              "      <th>2</th>\n",
              "      <td>LSTM model</td>\n",
              "      <td>340920.33</td>\n",
              "    </tr>\n",
              "    <tr>\n",
              "      <th>3</th>\n",
              "      <td>GRU model</td>\n",
              "      <td>587205.88</td>\n",
              "    </tr>\n",
              "  </tbody>\n",
              "</table>\n",
              "</div>"
            ],
            "text/plain": [
              "              Model Name Root Mean Squared Error\n",
              "0      Linear Regression              1772046.96\n",
              "1  Polynomial Regression               687970.12\n",
              "2             LSTM model               340920.33\n",
              "3              GRU model               587205.88"
            ]
          },
          "metadata": {
            "tags": []
          },
          "execution_count": 55
        }
      ]
    },
    {
      "cell_type": "markdown",
      "metadata": {
        "id": "Htqdl0ruvuCD",
        "colab_type": "text"
      },
      "source": [
        "### TASK2"
      ]
    },
    {
      "cell_type": "markdown",
      "metadata": {
        "id": "9Zgsvr88dc-c",
        "colab_type": "text"
      },
      "source": [
        "Taking the better parameter setting to predict the future (We assume that the model is valid to be used for prediction of next few hundred days)\n",
        "\n",
        "Situation of COVID19 on Fall Semester and Predict whether it is possible to take an offline class"
      ]
    },
    {
      "cell_type": "code",
      "metadata": {
        "id": "Er6g8T6ivyua",
        "colab_type": "code",
        "colab": {}
      },
      "source": [
        "model=Prophet(interval_width=0.95,seasonality_mode=\"multiplicative\",daily_seasonality=False,weekly_seasonality=False,yearly_seasonality=False).add_seasonality(name=\"weekly\",period=7,fourier_order=20)\n",
        "actual_confirmed=pd.DataFrame(zip(list(covid_data.index),list(covid_data[\"Confirmed\"])),columns=['ds','y'])"
      ],
      "execution_count": 0,
      "outputs": []
    },
    {
      "cell_type": "code",
      "metadata": {
        "id": "udJO0-kWqBBY",
        "colab_type": "code",
        "outputId": "7f5ea333-0434-4abc-ecbd-838b2f0a1707",
        "colab": {
          "base_uri": "https://localhost:8080/",
          "height": 34
        }
      },
      "source": [
        "model.fit(actual_confirmed)"
      ],
      "execution_count": 57,
      "outputs": [
        {
          "output_type": "execute_result",
          "data": {
            "text/plain": [
              "<fbprophet.forecaster.Prophet at 0x7f3d37691940>"
            ]
          },
          "metadata": {
            "tags": []
          },
          "execution_count": 57
        }
      ]
    },
    {
      "cell_type": "code",
      "metadata": {
        "id": "lKEbFbDBt9Rm",
        "colab_type": "code",
        "colab": {}
      },
      "source": [
        "forecast_c=model.make_future_dataframe(freq=\"D\",periods=115)\n",
        "forecast_confirmed=forecast_c.copy()"
      ],
      "execution_count": 0,
      "outputs": []
    },
    {
      "cell_type": "code",
      "metadata": {
        "id": "q0E9ecv-t9QW",
        "colab_type": "code",
        "colab": {}
      },
      "source": [
        "confirmed_forecast=model.predict(forecast_c)\n",
        "#print(confirmed_forecast[['ds','yhat', 'yhat_lower', 'yhat_upper']])"
      ],
      "execution_count": 0,
      "outputs": []
    },
    {
      "cell_type": "markdown",
      "metadata": {
        "id": "-yIvKxeiunCH",
        "colab_type": "text"
      },
      "source": [
        "yhat : the predicted forecast    \n",
        "yhat_lower : the lower border of the prediction     \n",
        "yhat_upper : the upper border of the prediction"
      ]
    },
    {
      "cell_type": "code",
      "metadata": {
        "id": "49pZ3XfAt9L0",
        "colab_type": "code",
        "outputId": "56e5e256-c8f7-45ab-c93d-3b046786c666",
        "colab": {
          "base_uri": "https://localhost:8080/",
          "height": 458
        }
      },
      "source": [
        "print(model.plot(confirmed_forecast))"
      ],
      "execution_count": 60,
      "outputs": [
        {
          "output_type": "stream",
          "text": [
            "Figure(720x432)\n"
          ],
          "name": "stdout"
        },
        {
          "output_type": "display_data",
          "data": {
            "image/png": "[encoded data removed]",
            "text/plain": [
              "<Figure size 720x432 with 1 Axes>"
            ]
          },
          "metadata": {
            "tags": []
          }
        }
      ]
    },
    {
      "cell_type": "code",
      "metadata": {
        "id": "93DcYpjYt9JG",
        "colab_type": "code",
        "outputId": "435d6666-031e-4657-fdc2-42a2d9d0c77d",
        "colab": {
          "base_uri": "https://localhost:8080/",
          "height": 458
        }
      },
      "source": [
        "print(model.plot_components(confirmed_forecast))"
      ],
      "execution_count": 61,
      "outputs": [
        {
          "output_type": "stream",
          "text": [
            "Figure(648x432)\n"
          ],
          "name": "stdout"
        },
        {
          "output_type": "display_data",
          "data": {
            "image/png": "[encoded data removed]",
            "text/plain": [
              "<Figure size 648x432 with 2 Axes>"
            ]
          },
          "metadata": {
            "tags": []
          }
        }
      ]
    },
    {
      "cell_type": "markdown",
      "metadata": {
        "id": "aXKBUnZiyN_w",
        "colab_type": "text"
      },
      "source": [
        "The day when the active cases start to decrease"
      ]
    },
    {
      "cell_type": "code",
      "metadata": {
        "id": "h-MRpUtnmIRI",
        "colab_type": "code",
        "colab": {}
      },
      "source": [
        "active_model=Prophet(interval_width=0.95,seasonality_mode=\"multiplicative\",daily_seasonality=False,weekly_seasonality=False,yearly_seasonality=False).add_seasonality(name=\"weekly\",period=7,fourier_order=20)\n",
        "actual_active=pd.DataFrame(zip(list(covid_data.index),list(covid_data[\"Active Cases\"])),columns=['ds','y'])"
      ],
      "execution_count": 0,
      "outputs": []
    },
    {
      "cell_type": "code",
      "metadata": {
        "id": "ahJ1g3Gxwk_2",
        "colab_type": "code",
        "outputId": "45cb165d-8fbd-42f9-d204-b669bd50be24",
        "colab": {
          "base_uri": "https://localhost:8080/",
          "height": 34
        }
      },
      "source": [
        "active_model.fit(actual_active)"
      ],
      "execution_count": 63,
      "outputs": [
        {
          "output_type": "execute_result",
          "data": {
            "text/plain": [
              "<fbprophet.forecaster.Prophet at 0x7f3d36cc7240>"
            ]
          },
          "metadata": {
            "tags": []
          },
          "execution_count": 63
        }
      ]
    },
    {
      "cell_type": "code",
      "metadata": {
        "id": "5zD8HxMdwk7R",
        "colab_type": "code",
        "colab": {}
      },
      "source": [
        "forecast_a=active_model.make_future_dataframe(freq=\"D\",periods=250)\n",
        "forecast_active=forecast_a.copy()"
      ],
      "execution_count": 0,
      "outputs": []
    },
    {
      "cell_type": "code",
      "metadata": {
        "id": "hXko2iMJwk6E",
        "colab_type": "code",
        "colab": {}
      },
      "source": [
        "active_forecast=active_model.predict(forecast_a)"
      ],
      "execution_count": 0,
      "outputs": []
    },
    {
      "cell_type": "code",
      "metadata": {
        "id": "EAqnD30iyLvr",
        "colab_type": "code",
        "outputId": "13aae7a1-ba33-40cd-c13f-3bc5fd09b890",
        "colab": {
          "base_uri": "https://localhost:8080/",
          "height": 338
        }
      },
      "source": [
        "for index,row in active_forecast.iterrows():\n",
        "  if row[2] == active_forecast[\"yhat_lower\"].max():\n",
        "    print(\"The active case of corona will be reduced after:\",row[0].date())\n",
        "    break\n",
        "\n",
        "active_forecast.plot(x='ds',y='yhat_lower',label=\"minimum predicted Active cases\")\n",
        "plt.xlabel('date',color=\"white\")\n",
        "plt.ylabel('Active Cases',color=\"white\")"
      ],
      "execution_count": 66,
      "outputs": [
        {
          "output_type": "stream",
          "text": [
            "The active case of corona will be reduced after: 2020-07-04\n"
          ],
          "name": "stdout"
        },
        {
          "output_type": "execute_result",
          "data": {
            "text/plain": [
              "Text(0, 0.5, 'Active Cases')"
            ]
          },
          "metadata": {
            "tags": []
          },
          "execution_count": 66
        },
        {
          "output_type": "display_data",
          "data": {
            "image/png": "[encoded data removed]",
            "text/plain": [
              "<Figure size 432x288 with 1 Axes>"
            ]
          },
          "metadata": {
            "tags": [],
            "needs_background": "light"
          }
        }
      ]
    },
    {
      "cell_type": "markdown",
      "metadata": {
        "id": "VNkNxViVysBT",
        "colab_type": "text"
      },
      "source": [
        "Predicting the end date of corona virus"
      ]
    },
    {
      "cell_type": "code",
      "metadata": {
        "id": "98zUAiJBu4Q8",
        "colab_type": "code",
        "colab": {}
      },
      "source": [
        "active_model=Prophet(interval_width=0.95,seasonality_mode=\"multiplicative\",daily_seasonality=False,weekly_seasonality=False,yearly_seasonality=False).add_seasonality(name=\"weekly\",period=7,fourier_order=20)\n",
        "actual_active=pd.DataFrame(zip(list(covid_data.index),list(covid_data[\"Active Cases\"])),columns=['ds','y'])"
      ],
      "execution_count": 0,
      "outputs": []
    },
    {
      "cell_type": "code",
      "metadata": {
        "colab_type": "code",
        "id": "XmXKJ6TpmRFX",
        "outputId": "fb392d3d-82a6-4be4-c600-6c58b6a06c32",
        "colab": {
          "base_uri": "https://localhost:8080/",
          "height": 34
        }
      },
      "source": [
        "active_model.fit(actual_active)"
      ],
      "execution_count": 68,
      "outputs": [
        {
          "output_type": "execute_result",
          "data": {
            "text/plain": [
              "<fbprophet.forecaster.Prophet at 0x7f3d36c1b518>"
            ]
          },
          "metadata": {
            "tags": []
          },
          "execution_count": 68
        }
      ]
    },
    {
      "cell_type": "code",
      "metadata": {
        "colab_type": "code",
        "id": "3nw_a_YNmRFa",
        "colab": {}
      },
      "source": [
        "forecast_a=active_model.make_future_dataframe(freq=\"D\",periods=250)\n",
        "forecast_active=forecast_a.copy()"
      ],
      "execution_count": 0,
      "outputs": []
    },
    {
      "cell_type": "code",
      "metadata": {
        "colab_type": "code",
        "id": "RmctbRB2mRFc",
        "colab": {}
      },
      "source": [
        "active_forecast=active_model.predict(forecast_a)"
      ],
      "execution_count": 0,
      "outputs": []
    },
    {
      "cell_type": "code",
      "metadata": {
        "id": "aY3QZcVKwk4u",
        "colab_type": "code",
        "outputId": "cbb443c7-98d8-4e3e-e977-dd7e776c0bb0",
        "colab": {
          "base_uri": "https://localhost:8080/",
          "height": 458
        }
      },
      "source": [
        "print(active_model.plot(active_forecast))"
      ],
      "execution_count": 71,
      "outputs": [
        {
          "output_type": "stream",
          "text": [
            "Figure(720x432)\n"
          ],
          "name": "stdout"
        },
        {
          "output_type": "display_data",
          "data": {
            "image/png": "[encoded data removed]",
            "text/plain": [
              "<Figure size 720x432 with 1 Axes>"
            ]
          },
          "metadata": {
            "tags": []
          }
        }
      ]
    },
    {
      "cell_type": "code",
      "metadata": {
        "id": "VII7u30gwk0o",
        "colab_type": "code",
        "colab": {}
      },
      "source": [
        "from datetime import datetime"
      ],
      "execution_count": 0,
      "outputs": []
    },
    {
      "cell_type": "code",
      "metadata": {
        "id": "4CpnmR1bwkyj",
        "colab_type": "code",
        "outputId": "f3669a1c-edac-44c5-b624-8731d7524874",
        "colab": {
          "base_uri": "https://localhost:8080/",
          "height": 298
        }
      },
      "source": [
        "averageDateTime = 0.0\n",
        "for i in range(0,15):\n",
        "  active_model=Prophet(interval_width=0.95,seasonality_mode=\"multiplicative\",daily_seasonality=False,weekly_seasonality=False,yearly_seasonality=False).add_seasonality(name=\"weekly\",period=7,fourier_order=20)\n",
        "  actual_active=pd.DataFrame(zip(list(covid_data.index),list(covid_data[\"Active Cases\"])),columns=['ds','y'])\n",
        "  active_model.fit(actual_active)\n",
        "  forecast_a=active_model.make_future_dataframe(freq=\"D\",periods=250)\n",
        "  active_forecast=active_model.predict(forecast_a)\n",
        "  for index,row in active_forecast[::-1].iterrows():\n",
        "    if row[\"yhat_lower\"] > 0:\n",
        "      averageDateTime += datetime.timestamp(row[\"ds\"])\n",
        "      print(datetime.fromtimestamp(averageDateTime/(i+1)))\n",
        "      break\n",
        "\n",
        "averageDate = datetime.fromtimestamp(averageDateTime/25)\n",
        "print(\"Date of active cases goes to Zero\", averageDate)"
      ],
      "execution_count": 73,
      "outputs": [
        {
          "output_type": "stream",
          "text": [
            "2021-01-14 00:00:00\n",
            "2021-01-18 00:00:00\n",
            "2021-01-10 08:00:00\n",
            "2021-01-11 12:00:00\n",
            "2021-01-04 14:24:00\n",
            "2021-01-02 12:00:00\n",
            "2021-01-03 00:00:00\n",
            "2021-01-05 00:00:00\n",
            "2021-01-06 21:20:00\n",
            "2021-01-07 09:36:00\n",
            "2021-01-06 02:10:54.545455\n",
            "2021-01-05 06:00:00\n",
            "2021-01-04 14:46:09.230769\n",
            "2021-01-05 20:34:17.142857\n",
            "2021-01-06 03:12:00\n",
            "Date of active cases goes to Zero 2000-08-10 21:07:12\n"
          ],
          "name": "stdout"
        }
      ]
    },
    {
      "cell_type": "markdown",
      "metadata": {
        "id": "3qGLCFvnzlVp",
        "colab_type": "text"
      },
      "source": [
        "###Task3 - logistic regression **model**"
      ]
    },
    {
      "cell_type": "code",
      "metadata": {
        "id": "xjwslsQMI_Xx",
        "colab_type": "code",
        "colab": {}
      },
      "source": [
        "import math\n",
        "import time\n",
        "import re\n",
        "from sklearn.metrics import f1_score, accuracy_score\n",
        "from sklearn.model_selection import train_test_split\n",
        "from sklearn.linear_model import SGDClassifier"
      ],
      "execution_count": 0,
      "outputs": []
    },
    {
      "cell_type": "code",
      "metadata": {
        "id": "-S3571CYB1if",
        "colab_type": "code",
        "outputId": "6ee4d798-6199-4b70-8126-4d9d64c34770",
        "colab": {
          "base_uri": "https://localhost:8080/",
          "height": 402
        }
      },
      "source": [
        "logCovid=pd.read_csv(\"/content/drive/My Drive/project/data/COVID19_open_line_list.csv\")\n",
        "logCovid = logCovid[[\"sex\",\"age\",\"country\",\"province\",\"outcome\"]]\n",
        "logCovid = logCovid.rename(columns={\"outcome\": \"death\"})\n",
        "\n",
        "for index in range(0,len(logCovid)):\n",
        "  if logCovid.death[index] == \"died\":\n",
        "    logCovid.death[index] = 1\n",
        "  else:\n",
        "    logCovid.death[index] = 0\n",
        "\n",
        "for index in range(0,len(logCovid)):\n",
        "  matchage = re.match(r'(.*)-.*', str(logCovid.age[index]))\n",
        "  if matchage:\n",
        "    age = int(matchage.group(1)) + 5\n",
        "    logCovid.age[index] = age\n",
        "\n",
        "logCovid = logCovid.dropna()\n",
        "logCovid[\"sex\"] = logCovid[\"sex\"].str.lower()\n",
        "logCovid[\"age\"] = logCovid[\"age\"].astype(float).astype(int)\n",
        "logCovid[\"country\"] = logCovid[\"country\"].str.lower()\n",
        "logCovid[\"province\"] = logCovid[\"province\"].str.lower()\n",
        "logCovid"
      ],
      "execution_count": 75,
      "outputs": [
        {
          "output_type": "execute_result",
          "data": {
            "text/html": [
              "<div>\n",
              "<style scoped>\n",
              "    .dataframe tbody tr th:only-of-type {\n",
              "        vertical-align: middle;\n",
              "    }\n",
              "\n",
              "    .dataframe tbody tr th {\n",
              "        vertical-align: top;\n",
              "    }\n",
              "\n",
              "    .dataframe thead th {\n",
              "        text-align: right;\n",
              "    }\n",
              "</style>\n",
              "<table border=\"1\" class=\"dataframe\">\n",
              "  <thead>\n",
              "    <tr style=\"text-align: right;\">\n",
              "      <th></th>\n",
              "      <th>sex</th>\n",
              "      <th>age</th>\n",
              "      <th>country</th>\n",
              "      <th>province</th>\n",
              "      <th>death</th>\n",
              "    </tr>\n",
              "  </thead>\n",
              "  <tbody>\n",
              "    <tr>\n",
              "      <th>0</th>\n",
              "      <td>male</td>\n",
              "      <td>30</td>\n",
              "      <td>china</td>\n",
              "      <td>anhui</td>\n",
              "      <td>0</td>\n",
              "    </tr>\n",
              "    <tr>\n",
              "      <th>1</th>\n",
              "      <td>male</td>\n",
              "      <td>47</td>\n",
              "      <td>china</td>\n",
              "      <td>anhui</td>\n",
              "      <td>0</td>\n",
              "    </tr>\n",
              "    <tr>\n",
              "      <th>2</th>\n",
              "      <td>male</td>\n",
              "      <td>49</td>\n",
              "      <td>china</td>\n",
              "      <td>anhui</td>\n",
              "      <td>0</td>\n",
              "    </tr>\n",
              "    <tr>\n",
              "      <th>3</th>\n",
              "      <td>female</td>\n",
              "      <td>47</td>\n",
              "      <td>china</td>\n",
              "      <td>anhui</td>\n",
              "      <td>0</td>\n",
              "    </tr>\n",
              "    <tr>\n",
              "      <th>4</th>\n",
              "      <td>female</td>\n",
              "      <td>50</td>\n",
              "      <td>china</td>\n",
              "      <td>anhui</td>\n",
              "      <td>0</td>\n",
              "    </tr>\n",
              "    <tr>\n",
              "      <th>...</th>\n",
              "      <td>...</td>\n",
              "      <td>...</td>\n",
              "      <td>...</td>\n",
              "      <td>...</td>\n",
              "      <td>...</td>\n",
              "    </tr>\n",
              "    <tr>\n",
              "      <th>13167</th>\n",
              "      <td>male</td>\n",
              "      <td>65</td>\n",
              "      <td>japan</td>\n",
              "      <td>hokkaido</td>\n",
              "      <td>0</td>\n",
              "    </tr>\n",
              "    <tr>\n",
              "      <th>13168</th>\n",
              "      <td>male</td>\n",
              "      <td>55</td>\n",
              "      <td>japan</td>\n",
              "      <td>ishikawa</td>\n",
              "      <td>0</td>\n",
              "    </tr>\n",
              "    <tr>\n",
              "      <th>13169</th>\n",
              "      <td>male</td>\n",
              "      <td>65</td>\n",
              "      <td>japan</td>\n",
              "      <td>aichi prefecture</td>\n",
              "      <td>0</td>\n",
              "    </tr>\n",
              "    <tr>\n",
              "      <th>13170</th>\n",
              "      <td>female</td>\n",
              "      <td>45</td>\n",
              "      <td>japan</td>\n",
              "      <td>osaka</td>\n",
              "      <td>0</td>\n",
              "    </tr>\n",
              "    <tr>\n",
              "      <th>13171</th>\n",
              "      <td>female</td>\n",
              "      <td>5</td>\n",
              "      <td>japan</td>\n",
              "      <td>osaka</td>\n",
              "      <td>0</td>\n",
              "    </tr>\n",
              "  </tbody>\n",
              "</table>\n",
              "<p>1027 rows × 5 columns</p>\n",
              "</div>"
            ],
            "text/plain": [
              "          sex  age country          province death\n",
              "0        male   30   china             anhui     0\n",
              "1        male   47   china             anhui     0\n",
              "2        male   49   china             anhui     0\n",
              "3      female   47   china             anhui     0\n",
              "4      female   50   china             anhui     0\n",
              "...       ...  ...     ...               ...   ...\n",
              "13167    male   65   japan          hokkaido     0\n",
              "13168    male   55   japan          ishikawa     0\n",
              "13169    male   65   japan  aichi prefecture     0\n",
              "13170  female   45   japan             osaka     0\n",
              "13171  female    5   japan             osaka     0\n",
              "\n",
              "[1027 rows x 5 columns]"
            ]
          },
          "metadata": {
            "tags": []
          },
          "execution_count": 75
        }
      ]
    },
    {
      "cell_type": "code",
      "metadata": {
        "id": "yw3RPvvUCnH8",
        "colab_type": "code",
        "outputId": "c4f7a46d-2f71-4e86-f2a3-17eeebae6b51",
        "colab": {
          "base_uri": "https://localhost:8080/",
          "height": 402
        }
      },
      "source": [
        "plsCovid=pd.read_csv(\"/content/drive/My Drive/project/data/COVID19_line_list_data.csv\")\n",
        "plsCovid = plsCovid[[\"gender\",\"age\",\"country\",\"location\",\"death\"]]\n",
        "plsCovid = plsCovid.rename(columns={\"outcome\": \"death\",\"gender\":\"sex\",\"location\":\"province\"})\n",
        "plsCovid = plsCovid.dropna()\n",
        "plsCovid[\"sex\"] = plsCovid[\"sex\"].str.lower()\n",
        "plsCovid[\"age\"] = plsCovid[\"age\"].astype(int)\n",
        "plsCovid[\"country\"] = plsCovid[\"country\"].str.lower()\n",
        "plsCovid[\"province\"] = plsCovid[\"province\"].str.lower()\n",
        "plsCovid"
      ],
      "execution_count": 76,
      "outputs": [
        {
          "output_type": "execute_result",
          "data": {
            "text/html": [
              "<div>\n",
              "<style scoped>\n",
              "    .dataframe tbody tr th:only-of-type {\n",
              "        vertical-align: middle;\n",
              "    }\n",
              "\n",
              "    .dataframe tbody tr th {\n",
              "        vertical-align: top;\n",
              "    }\n",
              "\n",
              "    .dataframe thead th {\n",
              "        text-align: right;\n",
              "    }\n",
              "</style>\n",
              "<table border=\"1\" class=\"dataframe\">\n",
              "  <thead>\n",
              "    <tr style=\"text-align: right;\">\n",
              "      <th></th>\n",
              "      <th>sex</th>\n",
              "      <th>age</th>\n",
              "      <th>country</th>\n",
              "      <th>province</th>\n",
              "      <th>death</th>\n",
              "    </tr>\n",
              "  </thead>\n",
              "  <tbody>\n",
              "    <tr>\n",
              "      <th>0</th>\n",
              "      <td>male</td>\n",
              "      <td>66</td>\n",
              "      <td>china</td>\n",
              "      <td>shenzhen, guangdong</td>\n",
              "      <td>0</td>\n",
              "    </tr>\n",
              "    <tr>\n",
              "      <th>1</th>\n",
              "      <td>female</td>\n",
              "      <td>56</td>\n",
              "      <td>china</td>\n",
              "      <td>shanghai</td>\n",
              "      <td>0</td>\n",
              "    </tr>\n",
              "    <tr>\n",
              "      <th>2</th>\n",
              "      <td>male</td>\n",
              "      <td>46</td>\n",
              "      <td>china</td>\n",
              "      <td>zhejiang</td>\n",
              "      <td>0</td>\n",
              "    </tr>\n",
              "    <tr>\n",
              "      <th>3</th>\n",
              "      <td>female</td>\n",
              "      <td>60</td>\n",
              "      <td>china</td>\n",
              "      <td>tianjin</td>\n",
              "      <td>0</td>\n",
              "    </tr>\n",
              "    <tr>\n",
              "      <th>4</th>\n",
              "      <td>male</td>\n",
              "      <td>58</td>\n",
              "      <td>china</td>\n",
              "      <td>tianjin</td>\n",
              "      <td>0</td>\n",
              "    </tr>\n",
              "    <tr>\n",
              "      <th>...</th>\n",
              "      <td>...</td>\n",
              "      <td>...</td>\n",
              "      <td>...</td>\n",
              "      <td>...</td>\n",
              "      <td>...</td>\n",
              "    </tr>\n",
              "    <tr>\n",
              "      <th>1027</th>\n",
              "      <td>male</td>\n",
              "      <td>58</td>\n",
              "      <td>spain</td>\n",
              "      <td>andalusia</td>\n",
              "      <td>0</td>\n",
              "    </tr>\n",
              "    <tr>\n",
              "      <th>1029</th>\n",
              "      <td>female</td>\n",
              "      <td>27</td>\n",
              "      <td>spain</td>\n",
              "      <td>zaragoza</td>\n",
              "      <td>0</td>\n",
              "    </tr>\n",
              "    <tr>\n",
              "      <th>1030</th>\n",
              "      <td>female</td>\n",
              "      <td>25</td>\n",
              "      <td>sweden</td>\n",
              "      <td>jonkoping</td>\n",
              "      <td>0</td>\n",
              "    </tr>\n",
              "    <tr>\n",
              "      <th>1052</th>\n",
              "      <td>female</td>\n",
              "      <td>45</td>\n",
              "      <td>lebanon</td>\n",
              "      <td>lebanon</td>\n",
              "      <td>0</td>\n",
              "    </tr>\n",
              "    <tr>\n",
              "      <th>1084</th>\n",
              "      <td>male</td>\n",
              "      <td>70</td>\n",
              "      <td>switzerland</td>\n",
              "      <td>bern</td>\n",
              "      <td>0</td>\n",
              "    </tr>\n",
              "  </tbody>\n",
              "</table>\n",
              "<p>825 rows × 5 columns</p>\n",
              "</div>"
            ],
            "text/plain": [
              "         sex  age      country             province death\n",
              "0       male   66        china  shenzhen, guangdong     0\n",
              "1     female   56        china             shanghai     0\n",
              "2       male   46        china             zhejiang     0\n",
              "3     female   60        china              tianjin     0\n",
              "4       male   58        china              tianjin     0\n",
              "...      ...  ...          ...                  ...   ...\n",
              "1027    male   58        spain            andalusia     0\n",
              "1029  female   27        spain             zaragoza     0\n",
              "1030  female   25       sweden            jonkoping     0\n",
              "1052  female   45      lebanon              lebanon     0\n",
              "1084    male   70  switzerland                 bern     0\n",
              "\n",
              "[825 rows x 5 columns]"
            ]
          },
          "metadata": {
            "tags": []
          },
          "execution_count": 76
        }
      ]
    },
    {
      "cell_type": "code",
      "metadata": {
        "id": "LqYUpkLd02wn",
        "colab_type": "code",
        "outputId": "ef4ca5e3-bcbb-49f4-cd56-80d0d7a9ae8c",
        "colab": {
          "base_uri": "https://localhost:8080/",
          "height": 894
        }
      },
      "source": [
        "korCovid = pd.read_csv(\"/content/drive/My Drive/project/data/PatientInfo.csv\")\n",
        "korCovid = korCovid[[\"sex\",\"birth_year\",\"age\",\"country\",\"province\",\"state\"]]\n",
        "korCovid = korCovid.rename(columns={\"state\": \"death\"})\n",
        "\n",
        "for index in range(0,len(korCovid)):\n",
        "  if (korCovid.death[index] == 'deceased'):\n",
        "    korCovid.death[index] = 1\n",
        "  else:\n",
        "    korCovid.death[index] = 0\n",
        "\n",
        "  if math.isnan(korCovid.birth_year[index]) == False:\n",
        "    korCovid.age[index] = (2020 - korCovid.birth_year[index])\n",
        "  elif pd.isnull(korCovid.age[index]) == False:\n",
        "    matchAge = re.match(r'(.*)s', korCovid.age[index])\n",
        "    age = int(matchAge.group(1)) + 5\n",
        "    korCovid.age[index] = age\n",
        "\n",
        "korCovid = korCovid.drop(columns = [\"birth_year\"])\n",
        "korCovid = korCovid.dropna()\n",
        "korCovid[\"sex\"] = korCovid[\"sex\"].str.lower()\n",
        "korCovid[\"age\"] = korCovid[\"age\"].astype(int)\n",
        "korCovid[\"country\"] = korCovid[\"country\"].str.lower()\n",
        "korCovid[\"province\"] = korCovid[\"province\"].str.lower()\n",
        "korCovid"
      ],
      "execution_count": 77,
      "outputs": [
        {
          "output_type": "stream",
          "text": [
            "/usr/local/lib/python3.6/dist-packages/ipykernel_launcher.py:9: SettingWithCopyWarning:\n",
            "\n",
            "\n",
            "A value is trying to be set on a copy of a slice from a DataFrame\n",
            "\n",
            "See the caveats in the documentation: https://pandas.pydata.org/pandas-docs/stable/user_guide/indexing.html#returning-a-view-versus-a-copy\n",
            "\n",
            "/usr/local/lib/python3.6/dist-packages/ipykernel_launcher.py:12: SettingWithCopyWarning:\n",
            "\n",
            "\n",
            "A value is trying to be set on a copy of a slice from a DataFrame\n",
            "\n",
            "See the caveats in the documentation: https://pandas.pydata.org/pandas-docs/stable/user_guide/indexing.html#returning-a-view-versus-a-copy\n",
            "\n",
            "/usr/local/lib/python3.6/dist-packages/ipykernel_launcher.py:7: SettingWithCopyWarning:\n",
            "\n",
            "\n",
            "A value is trying to be set on a copy of a slice from a DataFrame\n",
            "\n",
            "See the caveats in the documentation: https://pandas.pydata.org/pandas-docs/stable/user_guide/indexing.html#returning-a-view-versus-a-copy\n",
            "\n",
            "/usr/local/lib/python3.6/dist-packages/ipykernel_launcher.py:16: SettingWithCopyWarning:\n",
            "\n",
            "\n",
            "A value is trying to be set on a copy of a slice from a DataFrame\n",
            "\n",
            "See the caveats in the documentation: https://pandas.pydata.org/pandas-docs/stable/user_guide/indexing.html#returning-a-view-versus-a-copy\n",
            "\n"
          ],
          "name": "stderr"
        },
        {
          "output_type": "execute_result",
          "data": {
            "text/html": [
              "<div>\n",
              "<style scoped>\n",
              "    .dataframe tbody tr th:only-of-type {\n",
              "        vertical-align: middle;\n",
              "    }\n",
              "\n",
              "    .dataframe tbody tr th {\n",
              "        vertical-align: top;\n",
              "    }\n",
              "\n",
              "    .dataframe thead th {\n",
              "        text-align: right;\n",
              "    }\n",
              "</style>\n",
              "<table border=\"1\" class=\"dataframe\">\n",
              "  <thead>\n",
              "    <tr style=\"text-align: right;\">\n",
              "      <th></th>\n",
              "      <th>sex</th>\n",
              "      <th>age</th>\n",
              "      <th>country</th>\n",
              "      <th>province</th>\n",
              "      <th>death</th>\n",
              "    </tr>\n",
              "  </thead>\n",
              "  <tbody>\n",
              "    <tr>\n",
              "      <th>0</th>\n",
              "      <td>male</td>\n",
              "      <td>56</td>\n",
              "      <td>korea</td>\n",
              "      <td>seoul</td>\n",
              "      <td>0</td>\n",
              "    </tr>\n",
              "    <tr>\n",
              "      <th>1</th>\n",
              "      <td>male</td>\n",
              "      <td>33</td>\n",
              "      <td>korea</td>\n",
              "      <td>seoul</td>\n",
              "      <td>0</td>\n",
              "    </tr>\n",
              "    <tr>\n",
              "      <th>2</th>\n",
              "      <td>male</td>\n",
              "      <td>56</td>\n",
              "      <td>korea</td>\n",
              "      <td>seoul</td>\n",
              "      <td>0</td>\n",
              "    </tr>\n",
              "    <tr>\n",
              "      <th>3</th>\n",
              "      <td>male</td>\n",
              "      <td>29</td>\n",
              "      <td>korea</td>\n",
              "      <td>seoul</td>\n",
              "      <td>0</td>\n",
              "    </tr>\n",
              "    <tr>\n",
              "      <th>4</th>\n",
              "      <td>female</td>\n",
              "      <td>28</td>\n",
              "      <td>korea</td>\n",
              "      <td>seoul</td>\n",
              "      <td>0</td>\n",
              "    </tr>\n",
              "    <tr>\n",
              "      <th>...</th>\n",
              "      <td>...</td>\n",
              "      <td>...</td>\n",
              "      <td>...</td>\n",
              "      <td>...</td>\n",
              "      <td>...</td>\n",
              "    </tr>\n",
              "    <tr>\n",
              "      <th>3514</th>\n",
              "      <td>female</td>\n",
              "      <td>25</td>\n",
              "      <td>korea</td>\n",
              "      <td>jeju-do</td>\n",
              "      <td>0</td>\n",
              "    </tr>\n",
              "    <tr>\n",
              "      <th>3515</th>\n",
              "      <td>male</td>\n",
              "      <td>35</td>\n",
              "      <td>korea</td>\n",
              "      <td>jeju-do</td>\n",
              "      <td>0</td>\n",
              "    </tr>\n",
              "    <tr>\n",
              "      <th>3516</th>\n",
              "      <td>female</td>\n",
              "      <td>25</td>\n",
              "      <td>korea</td>\n",
              "      <td>jeju-do</td>\n",
              "      <td>0</td>\n",
              "    </tr>\n",
              "    <tr>\n",
              "      <th>3517</th>\n",
              "      <td>female</td>\n",
              "      <td>15</td>\n",
              "      <td>china</td>\n",
              "      <td>jeju-do</td>\n",
              "      <td>0</td>\n",
              "    </tr>\n",
              "    <tr>\n",
              "      <th>3518</th>\n",
              "      <td>female</td>\n",
              "      <td>35</td>\n",
              "      <td>korea</td>\n",
              "      <td>jeju-do</td>\n",
              "      <td>0</td>\n",
              "    </tr>\n",
              "  </tbody>\n",
              "</table>\n",
              "<p>3351 rows × 5 columns</p>\n",
              "</div>"
            ],
            "text/plain": [
              "         sex  age country province death\n",
              "0       male   56   korea    seoul     0\n",
              "1       male   33   korea    seoul     0\n",
              "2       male   56   korea    seoul     0\n",
              "3       male   29   korea    seoul     0\n",
              "4     female   28   korea    seoul     0\n",
              "...      ...  ...     ...      ...   ...\n",
              "3514  female   25   korea  jeju-do     0\n",
              "3515    male   35   korea  jeju-do     0\n",
              "3516  female   25   korea  jeju-do     0\n",
              "3517  female   15   china  jeju-do     0\n",
              "3518  female   35   korea  jeju-do     0\n",
              "\n",
              "[3351 rows x 5 columns]"
            ]
          },
          "metadata": {
            "tags": []
          },
          "execution_count": 77
        }
      ]
    },
    {
      "cell_type": "code",
      "metadata": {
        "id": "7wWKxlf6W_CW",
        "colab_type": "code",
        "outputId": "1711a10b-c5ab-4a86-b473-05284b2530a9",
        "colab": {
          "base_uri": "https://localhost:8080/",
          "height": 213
        }
      },
      "source": [
        "frames = [korCovid,logCovid,plsCovid]\n",
        "totalData = pd.concat(frames)\n",
        "print(len(totalData))\n",
        "totalData.head()"
      ],
      "execution_count": 78,
      "outputs": [
        {
          "output_type": "stream",
          "text": [
            "5203\n"
          ],
          "name": "stdout"
        },
        {
          "output_type": "execute_result",
          "data": {
            "text/html": [
              "<div>\n",
              "<style scoped>\n",
              "    .dataframe tbody tr th:only-of-type {\n",
              "        vertical-align: middle;\n",
              "    }\n",
              "\n",
              "    .dataframe tbody tr th {\n",
              "        vertical-align: top;\n",
              "    }\n",
              "\n",
              "    .dataframe thead th {\n",
              "        text-align: right;\n",
              "    }\n",
              "</style>\n",
              "<table border=\"1\" class=\"dataframe\">\n",
              "  <thead>\n",
              "    <tr style=\"text-align: right;\">\n",
              "      <th></th>\n",
              "      <th>sex</th>\n",
              "      <th>age</th>\n",
              "      <th>country</th>\n",
              "      <th>province</th>\n",
              "      <th>death</th>\n",
              "    </tr>\n",
              "  </thead>\n",
              "  <tbody>\n",
              "    <tr>\n",
              "      <th>0</th>\n",
              "      <td>male</td>\n",
              "      <td>56</td>\n",
              "      <td>korea</td>\n",
              "      <td>seoul</td>\n",
              "      <td>0</td>\n",
              "    </tr>\n",
              "    <tr>\n",
              "      <th>1</th>\n",
              "      <td>male</td>\n",
              "      <td>33</td>\n",
              "      <td>korea</td>\n",
              "      <td>seoul</td>\n",
              "      <td>0</td>\n",
              "    </tr>\n",
              "    <tr>\n",
              "      <th>2</th>\n",
              "      <td>male</td>\n",
              "      <td>56</td>\n",
              "      <td>korea</td>\n",
              "      <td>seoul</td>\n",
              "      <td>0</td>\n",
              "    </tr>\n",
              "    <tr>\n",
              "      <th>3</th>\n",
              "      <td>male</td>\n",
              "      <td>29</td>\n",
              "      <td>korea</td>\n",
              "      <td>seoul</td>\n",
              "      <td>0</td>\n",
              "    </tr>\n",
              "    <tr>\n",
              "      <th>4</th>\n",
              "      <td>female</td>\n",
              "      <td>28</td>\n",
              "      <td>korea</td>\n",
              "      <td>seoul</td>\n",
              "      <td>0</td>\n",
              "    </tr>\n",
              "  </tbody>\n",
              "</table>\n",
              "</div>"
            ],
            "text/plain": [
              "      sex  age country province death\n",
              "0    male   56   korea    seoul     0\n",
              "1    male   33   korea    seoul     0\n",
              "2    male   56   korea    seoul     0\n",
              "3    male   29   korea    seoul     0\n",
              "4  female   28   korea    seoul     0"
            ]
          },
          "metadata": {
            "tags": []
          },
          "execution_count": 78
        }
      ]
    },
    {
      "cell_type": "code",
      "metadata": {
        "id": "QN3BbzjtJggc",
        "colab_type": "code",
        "colab": {}
      },
      "source": [
        "totalSex = pd.get_dummies(totalData.sex)\n",
        "totalCountry = pd.get_dummies(totalData.country)\n",
        "totalProvince = pd.get_dummies(totalData.province)"
      ],
      "execution_count": 0,
      "outputs": []
    },
    {
      "cell_type": "code",
      "metadata": {
        "id": "DKcSPb1HME8m",
        "colab_type": "code",
        "outputId": "54c01a3a-7482-4281-e706-517223b21bd7",
        "colab": {
          "base_uri": "https://localhost:8080/",
          "height": 472
        }
      },
      "source": [
        "features = pd.concat([totalSex,totalData.age,totalCountry,totalProvince],axis='columns')\n",
        "features = features.fillna(0)\n",
        "features"
      ],
      "execution_count": 80,
      "outputs": [
        {
          "output_type": "execute_result",
          "data": {
            "text/html": [
              "<div>\n",
              "<style scoped>\n",
              "    .dataframe tbody tr th:only-of-type {\n",
              "        vertical-align: middle;\n",
              "    }\n",
              "\n",
              "    .dataframe tbody tr th {\n",
              "        vertical-align: top;\n",
              "    }\n",
              "\n",
              "    .dataframe thead th {\n",
              "        text-align: right;\n",
              "    }\n",
              "</style>\n",
              "<table border=\"1\" class=\"dataframe\">\n",
              "  <thead>\n",
              "    <tr style=\"text-align: right;\">\n",
              "      <th></th>\n",
              "      <th>female</th>\n",
              "      <th>male</th>\n",
              "      <th>age</th>\n",
              "      <th>afghanistan</th>\n",
              "      <th>australia</th>\n",
              "      <th>bangladesh</th>\n",
              "      <th>cambodia</th>\n",
              "      <th>canada</th>\n",
              "      <th>china</th>\n",
              "      <th>finland</th>\n",
              "      <th>foreign</th>\n",
              "      <th>france</th>\n",
              "      <th>germany</th>\n",
              "      <th>greece</th>\n",
              "      <th>hong kong</th>\n",
              "      <th>indonesia</th>\n",
              "      <th>italy</th>\n",
              "      <th>japan</th>\n",
              "      <th>korea</th>\n",
              "      <th>lebanon</th>\n",
              "      <th>malaysia</th>\n",
              "      <th>mongolia</th>\n",
              "      <th>nepal</th>\n",
              "      <th>pakistan</th>\n",
              "      <th>philippines</th>\n",
              "      <th>phillipines</th>\n",
              "      <th>romania</th>\n",
              "      <th>singapore</th>\n",
              "      <th>south korea</th>\n",
              "      <th>spain</th>\n",
              "      <th>sri lanka</th>\n",
              "      <th>sweden</th>\n",
              "      <th>switzerland</th>\n",
              "      <th>taiwan</th>\n",
              "      <th>thailand</th>\n",
              "      <th>uae</th>\n",
              "      <th>uk</th>\n",
              "      <th>united states</th>\n",
              "      <th>usa</th>\n",
              "      <th>vietnam</th>\n",
              "      <th>...</th>\n",
              "      <th>shanxi (陕西)</th>\n",
              "      <th>shenzhen, guangdong</th>\n",
              "      <th>shizuoka</th>\n",
              "      <th>sichuan</th>\n",
              "      <th>sihanoukville</th>\n",
              "      <th>sindh</th>\n",
              "      <th>singapore</th>\n",
              "      <th>south australia</th>\n",
              "      <th>south korea</th>\n",
              "      <th>southern finland</th>\n",
              "      <th>sri lanka</th>\n",
              "      <th>strasbourg</th>\n",
              "      <th>taiwan</th>\n",
              "      <th>tenerife</th>\n",
              "      <th>thailand</th>\n",
              "      <th>thanh hoa</th>\n",
              "      <th>tianjin</th>\n",
              "      <th>tibet</th>\n",
              "      <th>tokyo</th>\n",
              "      <th>toronto</th>\n",
              "      <th>tsing yi</th>\n",
              "      <th>tubingen</th>\n",
              "      <th>uae</th>\n",
              "      <th>ulsan</th>\n",
              "      <th>valencia</th>\n",
              "      <th>vancouver</th>\n",
              "      <th>veneto</th>\n",
              "      <th>victoria</th>\n",
              "      <th>vinh phuc</th>\n",
              "      <th>wakayama prefecture</th>\n",
              "      <th>wan chai</th>\n",
              "      <th>washington</th>\n",
              "      <th>wilayah persekutuan kuala lumpur</th>\n",
              "      <th>wuhan, hubei</th>\n",
              "      <th>xinjiang</th>\n",
              "      <th>yau ma tei</th>\n",
              "      <th>yunnan</th>\n",
              "      <th>zaragoza</th>\n",
              "      <th>zhejiang</th>\n",
              "      <th>zhuhai</th>\n",
              "    </tr>\n",
              "  </thead>\n",
              "  <tbody>\n",
              "    <tr>\n",
              "      <th>0</th>\n",
              "      <td>0</td>\n",
              "      <td>1</td>\n",
              "      <td>56</td>\n",
              "      <td>0</td>\n",
              "      <td>0</td>\n",
              "      <td>0</td>\n",
              "      <td>0</td>\n",
              "      <td>0</td>\n",
              "      <td>0</td>\n",
              "      <td>0</td>\n",
              "      <td>0</td>\n",
              "      <td>0</td>\n",
              "      <td>0</td>\n",
              "      <td>0</td>\n",
              "      <td>0</td>\n",
              "      <td>0</td>\n",
              "      <td>0</td>\n",
              "      <td>0</td>\n",
              "      <td>1</td>\n",
              "      <td>0</td>\n",
              "      <td>0</td>\n",
              "      <td>0</td>\n",
              "      <td>0</td>\n",
              "      <td>0</td>\n",
              "      <td>0</td>\n",
              "      <td>0</td>\n",
              "      <td>0</td>\n",
              "      <td>0</td>\n",
              "      <td>0</td>\n",
              "      <td>0</td>\n",
              "      <td>0</td>\n",
              "      <td>0</td>\n",
              "      <td>0</td>\n",
              "      <td>0</td>\n",
              "      <td>0</td>\n",
              "      <td>0</td>\n",
              "      <td>0</td>\n",
              "      <td>0</td>\n",
              "      <td>0</td>\n",
              "      <td>0</td>\n",
              "      <td>...</td>\n",
              "      <td>0</td>\n",
              "      <td>0</td>\n",
              "      <td>0</td>\n",
              "      <td>0</td>\n",
              "      <td>0</td>\n",
              "      <td>0</td>\n",
              "      <td>0</td>\n",
              "      <td>0</td>\n",
              "      <td>0</td>\n",
              "      <td>0</td>\n",
              "      <td>0</td>\n",
              "      <td>0</td>\n",
              "      <td>0</td>\n",
              "      <td>0</td>\n",
              "      <td>0</td>\n",
              "      <td>0</td>\n",
              "      <td>0</td>\n",
              "      <td>0</td>\n",
              "      <td>0</td>\n",
              "      <td>0</td>\n",
              "      <td>0</td>\n",
              "      <td>0</td>\n",
              "      <td>0</td>\n",
              "      <td>0</td>\n",
              "      <td>0</td>\n",
              "      <td>0</td>\n",
              "      <td>0</td>\n",
              "      <td>0</td>\n",
              "      <td>0</td>\n",
              "      <td>0</td>\n",
              "      <td>0</td>\n",
              "      <td>0</td>\n",
              "      <td>0</td>\n",
              "      <td>0</td>\n",
              "      <td>0</td>\n",
              "      <td>0</td>\n",
              "      <td>0</td>\n",
              "      <td>0</td>\n",
              "      <td>0</td>\n",
              "      <td>0</td>\n",
              "    </tr>\n",
              "    <tr>\n",
              "      <th>1</th>\n",
              "      <td>0</td>\n",
              "      <td>1</td>\n",
              "      <td>33</td>\n",
              "      <td>0</td>\n",
              "      <td>0</td>\n",
              "      <td>0</td>\n",
              "      <td>0</td>\n",
              "      <td>0</td>\n",
              "      <td>0</td>\n",
              "      <td>0</td>\n",
              "      <td>0</td>\n",
              "      <td>0</td>\n",
              "      <td>0</td>\n",
              "      <td>0</td>\n",
              "      <td>0</td>\n",
              "      <td>0</td>\n",
              "      <td>0</td>\n",
              "      <td>0</td>\n",
              "      <td>1</td>\n",
              "      <td>0</td>\n",
              "      <td>0</td>\n",
              "      <td>0</td>\n",
              "      <td>0</td>\n",
              "      <td>0</td>\n",
              "      <td>0</td>\n",
              "      <td>0</td>\n",
              "      <td>0</td>\n",
              "      <td>0</td>\n",
              "      <td>0</td>\n",
              "      <td>0</td>\n",
              "      <td>0</td>\n",
              "      <td>0</td>\n",
              "      <td>0</td>\n",
              "      <td>0</td>\n",
              "      <td>0</td>\n",
              "      <td>0</td>\n",
              "      <td>0</td>\n",
              "      <td>0</td>\n",
              "      <td>0</td>\n",
              "      <td>0</td>\n",
              "      <td>...</td>\n",
              "      <td>0</td>\n",
              "      <td>0</td>\n",
              "      <td>0</td>\n",
              "      <td>0</td>\n",
              "      <td>0</td>\n",
              "      <td>0</td>\n",
              "      <td>0</td>\n",
              "      <td>0</td>\n",
              "      <td>0</td>\n",
              "      <td>0</td>\n",
              "      <td>0</td>\n",
              "      <td>0</td>\n",
              "      <td>0</td>\n",
              "      <td>0</td>\n",
              "      <td>0</td>\n",
              "      <td>0</td>\n",
              "      <td>0</td>\n",
              "      <td>0</td>\n",
              "      <td>0</td>\n",
              "      <td>0</td>\n",
              "      <td>0</td>\n",
              "      <td>0</td>\n",
              "      <td>0</td>\n",
              "      <td>0</td>\n",
              "      <td>0</td>\n",
              "      <td>0</td>\n",
              "      <td>0</td>\n",
              "      <td>0</td>\n",
              "      <td>0</td>\n",
              "      <td>0</td>\n",
              "      <td>0</td>\n",
              "      <td>0</td>\n",
              "      <td>0</td>\n",
              "      <td>0</td>\n",
              "      <td>0</td>\n",
              "      <td>0</td>\n",
              "      <td>0</td>\n",
              "      <td>0</td>\n",
              "      <td>0</td>\n",
              "      <td>0</td>\n",
              "    </tr>\n",
              "    <tr>\n",
              "      <th>2</th>\n",
              "      <td>0</td>\n",
              "      <td>1</td>\n",
              "      <td>56</td>\n",
              "      <td>0</td>\n",
              "      <td>0</td>\n",
              "      <td>0</td>\n",
              "      <td>0</td>\n",
              "      <td>0</td>\n",
              "      <td>0</td>\n",
              "      <td>0</td>\n",
              "      <td>0</td>\n",
              "      <td>0</td>\n",
              "      <td>0</td>\n",
              "      <td>0</td>\n",
              "      <td>0</td>\n",
              "      <td>0</td>\n",
              "      <td>0</td>\n",
              "      <td>0</td>\n",
              "      <td>1</td>\n",
              "      <td>0</td>\n",
              "      <td>0</td>\n",
              "      <td>0</td>\n",
              "      <td>0</td>\n",
              "      <td>0</td>\n",
              "      <td>0</td>\n",
              "      <td>0</td>\n",
              "      <td>0</td>\n",
              "      <td>0</td>\n",
              "      <td>0</td>\n",
              "      <td>0</td>\n",
              "      <td>0</td>\n",
              "      <td>0</td>\n",
              "      <td>0</td>\n",
              "      <td>0</td>\n",
              "      <td>0</td>\n",
              "      <td>0</td>\n",
              "      <td>0</td>\n",
              "      <td>0</td>\n",
              "      <td>0</td>\n",
              "      <td>0</td>\n",
              "      <td>...</td>\n",
              "      <td>0</td>\n",
              "      <td>0</td>\n",
              "      <td>0</td>\n",
              "      <td>0</td>\n",
              "      <td>0</td>\n",
              "      <td>0</td>\n",
              "      <td>0</td>\n",
              "      <td>0</td>\n",
              "      <td>0</td>\n",
              "      <td>0</td>\n",
              "      <td>0</td>\n",
              "      <td>0</td>\n",
              "      <td>0</td>\n",
              "      <td>0</td>\n",
              "      <td>0</td>\n",
              "      <td>0</td>\n",
              "      <td>0</td>\n",
              "      <td>0</td>\n",
              "      <td>0</td>\n",
              "      <td>0</td>\n",
              "      <td>0</td>\n",
              "      <td>0</td>\n",
              "      <td>0</td>\n",
              "      <td>0</td>\n",
              "      <td>0</td>\n",
              "      <td>0</td>\n",
              "      <td>0</td>\n",
              "      <td>0</td>\n",
              "      <td>0</td>\n",
              "      <td>0</td>\n",
              "      <td>0</td>\n",
              "      <td>0</td>\n",
              "      <td>0</td>\n",
              "      <td>0</td>\n",
              "      <td>0</td>\n",
              "      <td>0</td>\n",
              "      <td>0</td>\n",
              "      <td>0</td>\n",
              "      <td>0</td>\n",
              "      <td>0</td>\n",
              "    </tr>\n",
              "    <tr>\n",
              "      <th>3</th>\n",
              "      <td>0</td>\n",
              "      <td>1</td>\n",
              "      <td>29</td>\n",
              "      <td>0</td>\n",
              "      <td>0</td>\n",
              "      <td>0</td>\n",
              "      <td>0</td>\n",
              "      <td>0</td>\n",
              "      <td>0</td>\n",
              "      <td>0</td>\n",
              "      <td>0</td>\n",
              "      <td>0</td>\n",
              "      <td>0</td>\n",
              "      <td>0</td>\n",
              "      <td>0</td>\n",
              "      <td>0</td>\n",
              "      <td>0</td>\n",
              "      <td>0</td>\n",
              "      <td>1</td>\n",
              "      <td>0</td>\n",
              "      <td>0</td>\n",
              "      <td>0</td>\n",
              "      <td>0</td>\n",
              "      <td>0</td>\n",
              "      <td>0</td>\n",
              "      <td>0</td>\n",
              "      <td>0</td>\n",
              "      <td>0</td>\n",
              "      <td>0</td>\n",
              "      <td>0</td>\n",
              "      <td>0</td>\n",
              "      <td>0</td>\n",
              "      <td>0</td>\n",
              "      <td>0</td>\n",
              "      <td>0</td>\n",
              "      <td>0</td>\n",
              "      <td>0</td>\n",
              "      <td>0</td>\n",
              "      <td>0</td>\n",
              "      <td>0</td>\n",
              "      <td>...</td>\n",
              "      <td>0</td>\n",
              "      <td>0</td>\n",
              "      <td>0</td>\n",
              "      <td>0</td>\n",
              "      <td>0</td>\n",
              "      <td>0</td>\n",
              "      <td>0</td>\n",
              "      <td>0</td>\n",
              "      <td>0</td>\n",
              "      <td>0</td>\n",
              "      <td>0</td>\n",
              "      <td>0</td>\n",
              "      <td>0</td>\n",
              "      <td>0</td>\n",
              "      <td>0</td>\n",
              "      <td>0</td>\n",
              "      <td>0</td>\n",
              "      <td>0</td>\n",
              "      <td>0</td>\n",
              "      <td>0</td>\n",
              "      <td>0</td>\n",
              "      <td>0</td>\n",
              "      <td>0</td>\n",
              "      <td>0</td>\n",
              "      <td>0</td>\n",
              "      <td>0</td>\n",
              "      <td>0</td>\n",
              "      <td>0</td>\n",
              "      <td>0</td>\n",
              "      <td>0</td>\n",
              "      <td>0</td>\n",
              "      <td>0</td>\n",
              "      <td>0</td>\n",
              "      <td>0</td>\n",
              "      <td>0</td>\n",
              "      <td>0</td>\n",
              "      <td>0</td>\n",
              "      <td>0</td>\n",
              "      <td>0</td>\n",
              "      <td>0</td>\n",
              "    </tr>\n",
              "    <tr>\n",
              "      <th>4</th>\n",
              "      <td>1</td>\n",
              "      <td>0</td>\n",
              "      <td>28</td>\n",
              "      <td>0</td>\n",
              "      <td>0</td>\n",
              "      <td>0</td>\n",
              "      <td>0</td>\n",
              "      <td>0</td>\n",
              "      <td>0</td>\n",
              "      <td>0</td>\n",
              "      <td>0</td>\n",
              "      <td>0</td>\n",
              "      <td>0</td>\n",
              "      <td>0</td>\n",
              "      <td>0</td>\n",
              "      <td>0</td>\n",
              "      <td>0</td>\n",
              "      <td>0</td>\n",
              "      <td>1</td>\n",
              "      <td>0</td>\n",
              "      <td>0</td>\n",
              "      <td>0</td>\n",
              "      <td>0</td>\n",
              "      <td>0</td>\n",
              "      <td>0</td>\n",
              "      <td>0</td>\n",
              "      <td>0</td>\n",
              "      <td>0</td>\n",
              "      <td>0</td>\n",
              "      <td>0</td>\n",
              "      <td>0</td>\n",
              "      <td>0</td>\n",
              "      <td>0</td>\n",
              "      <td>0</td>\n",
              "      <td>0</td>\n",
              "      <td>0</td>\n",
              "      <td>0</td>\n",
              "      <td>0</td>\n",
              "      <td>0</td>\n",
              "      <td>0</td>\n",
              "      <td>...</td>\n",
              "      <td>0</td>\n",
              "      <td>0</td>\n",
              "      <td>0</td>\n",
              "      <td>0</td>\n",
              "      <td>0</td>\n",
              "      <td>0</td>\n",
              "      <td>0</td>\n",
              "      <td>0</td>\n",
              "      <td>0</td>\n",
              "      <td>0</td>\n",
              "      <td>0</td>\n",
              "      <td>0</td>\n",
              "      <td>0</td>\n",
              "      <td>0</td>\n",
              "      <td>0</td>\n",
              "      <td>0</td>\n",
              "      <td>0</td>\n",
              "      <td>0</td>\n",
              "      <td>0</td>\n",
              "      <td>0</td>\n",
              "      <td>0</td>\n",
              "      <td>0</td>\n",
              "      <td>0</td>\n",
              "      <td>0</td>\n",
              "      <td>0</td>\n",
              "      <td>0</td>\n",
              "      <td>0</td>\n",
              "      <td>0</td>\n",
              "      <td>0</td>\n",
              "      <td>0</td>\n",
              "      <td>0</td>\n",
              "      <td>0</td>\n",
              "      <td>0</td>\n",
              "      <td>0</td>\n",
              "      <td>0</td>\n",
              "      <td>0</td>\n",
              "      <td>0</td>\n",
              "      <td>0</td>\n",
              "      <td>0</td>\n",
              "      <td>0</td>\n",
              "    </tr>\n",
              "    <tr>\n",
              "      <th>...</th>\n",
              "      <td>...</td>\n",
              "      <td>...</td>\n",
              "      <td>...</td>\n",
              "      <td>...</td>\n",
              "      <td>...</td>\n",
              "      <td>...</td>\n",
              "      <td>...</td>\n",
              "      <td>...</td>\n",
              "      <td>...</td>\n",
              "      <td>...</td>\n",
              "      <td>...</td>\n",
              "      <td>...</td>\n",
              "      <td>...</td>\n",
              "      <td>...</td>\n",
              "      <td>...</td>\n",
              "      <td>...</td>\n",
              "      <td>...</td>\n",
              "      <td>...</td>\n",
              "      <td>...</td>\n",
              "      <td>...</td>\n",
              "      <td>...</td>\n",
              "      <td>...</td>\n",
              "      <td>...</td>\n",
              "      <td>...</td>\n",
              "      <td>...</td>\n",
              "      <td>...</td>\n",
              "      <td>...</td>\n",
              "      <td>...</td>\n",
              "      <td>...</td>\n",
              "      <td>...</td>\n",
              "      <td>...</td>\n",
              "      <td>...</td>\n",
              "      <td>...</td>\n",
              "      <td>...</td>\n",
              "      <td>...</td>\n",
              "      <td>...</td>\n",
              "      <td>...</td>\n",
              "      <td>...</td>\n",
              "      <td>...</td>\n",
              "      <td>...</td>\n",
              "      <td>...</td>\n",
              "      <td>...</td>\n",
              "      <td>...</td>\n",
              "      <td>...</td>\n",
              "      <td>...</td>\n",
              "      <td>...</td>\n",
              "      <td>...</td>\n",
              "      <td>...</td>\n",
              "      <td>...</td>\n",
              "      <td>...</td>\n",
              "      <td>...</td>\n",
              "      <td>...</td>\n",
              "      <td>...</td>\n",
              "      <td>...</td>\n",
              "      <td>...</td>\n",
              "      <td>...</td>\n",
              "      <td>...</td>\n",
              "      <td>...</td>\n",
              "      <td>...</td>\n",
              "      <td>...</td>\n",
              "      <td>...</td>\n",
              "      <td>...</td>\n",
              "      <td>...</td>\n",
              "      <td>...</td>\n",
              "      <td>...</td>\n",
              "      <td>...</td>\n",
              "      <td>...</td>\n",
              "      <td>...</td>\n",
              "      <td>...</td>\n",
              "      <td>...</td>\n",
              "      <td>...</td>\n",
              "      <td>...</td>\n",
              "      <td>...</td>\n",
              "      <td>...</td>\n",
              "      <td>...</td>\n",
              "      <td>...</td>\n",
              "      <td>...</td>\n",
              "      <td>...</td>\n",
              "      <td>...</td>\n",
              "      <td>...</td>\n",
              "      <td>...</td>\n",
              "    </tr>\n",
              "    <tr>\n",
              "      <th>1027</th>\n",
              "      <td>0</td>\n",
              "      <td>1</td>\n",
              "      <td>58</td>\n",
              "      <td>0</td>\n",
              "      <td>0</td>\n",
              "      <td>0</td>\n",
              "      <td>0</td>\n",
              "      <td>0</td>\n",
              "      <td>0</td>\n",
              "      <td>0</td>\n",
              "      <td>0</td>\n",
              "      <td>0</td>\n",
              "      <td>0</td>\n",
              "      <td>0</td>\n",
              "      <td>0</td>\n",
              "      <td>0</td>\n",
              "      <td>0</td>\n",
              "      <td>0</td>\n",
              "      <td>0</td>\n",
              "      <td>0</td>\n",
              "      <td>0</td>\n",
              "      <td>0</td>\n",
              "      <td>0</td>\n",
              "      <td>0</td>\n",
              "      <td>0</td>\n",
              "      <td>0</td>\n",
              "      <td>0</td>\n",
              "      <td>0</td>\n",
              "      <td>0</td>\n",
              "      <td>1</td>\n",
              "      <td>0</td>\n",
              "      <td>0</td>\n",
              "      <td>0</td>\n",
              "      <td>0</td>\n",
              "      <td>0</td>\n",
              "      <td>0</td>\n",
              "      <td>0</td>\n",
              "      <td>0</td>\n",
              "      <td>0</td>\n",
              "      <td>0</td>\n",
              "      <td>...</td>\n",
              "      <td>0</td>\n",
              "      <td>0</td>\n",
              "      <td>0</td>\n",
              "      <td>0</td>\n",
              "      <td>0</td>\n",
              "      <td>0</td>\n",
              "      <td>0</td>\n",
              "      <td>0</td>\n",
              "      <td>0</td>\n",
              "      <td>0</td>\n",
              "      <td>0</td>\n",
              "      <td>0</td>\n",
              "      <td>0</td>\n",
              "      <td>0</td>\n",
              "      <td>0</td>\n",
              "      <td>0</td>\n",
              "      <td>0</td>\n",
              "      <td>0</td>\n",
              "      <td>0</td>\n",
              "      <td>0</td>\n",
              "      <td>0</td>\n",
              "      <td>0</td>\n",
              "      <td>0</td>\n",
              "      <td>0</td>\n",
              "      <td>0</td>\n",
              "      <td>0</td>\n",
              "      <td>0</td>\n",
              "      <td>0</td>\n",
              "      <td>0</td>\n",
              "      <td>0</td>\n",
              "      <td>0</td>\n",
              "      <td>0</td>\n",
              "      <td>0</td>\n",
              "      <td>0</td>\n",
              "      <td>0</td>\n",
              "      <td>0</td>\n",
              "      <td>0</td>\n",
              "      <td>0</td>\n",
              "      <td>0</td>\n",
              "      <td>0</td>\n",
              "    </tr>\n",
              "    <tr>\n",
              "      <th>1029</th>\n",
              "      <td>1</td>\n",
              "      <td>0</td>\n",
              "      <td>27</td>\n",
              "      <td>0</td>\n",
              "      <td>0</td>\n",
              "      <td>0</td>\n",
              "      <td>0</td>\n",
              "      <td>0</td>\n",
              "      <td>0</td>\n",
              "      <td>0</td>\n",
              "      <td>0</td>\n",
              "      <td>0</td>\n",
              "      <td>0</td>\n",
              "      <td>0</td>\n",
              "      <td>0</td>\n",
              "      <td>0</td>\n",
              "      <td>0</td>\n",
              "      <td>0</td>\n",
              "      <td>0</td>\n",
              "      <td>0</td>\n",
              "      <td>0</td>\n",
              "      <td>0</td>\n",
              "      <td>0</td>\n",
              "      <td>0</td>\n",
              "      <td>0</td>\n",
              "      <td>0</td>\n",
              "      <td>0</td>\n",
              "      <td>0</td>\n",
              "      <td>0</td>\n",
              "      <td>1</td>\n",
              "      <td>0</td>\n",
              "      <td>0</td>\n",
              "      <td>0</td>\n",
              "      <td>0</td>\n",
              "      <td>0</td>\n",
              "      <td>0</td>\n",
              "      <td>0</td>\n",
              "      <td>0</td>\n",
              "      <td>0</td>\n",
              "      <td>0</td>\n",
              "      <td>...</td>\n",
              "      <td>0</td>\n",
              "      <td>0</td>\n",
              "      <td>0</td>\n",
              "      <td>0</td>\n",
              "      <td>0</td>\n",
              "      <td>0</td>\n",
              "      <td>0</td>\n",
              "      <td>0</td>\n",
              "      <td>0</td>\n",
              "      <td>0</td>\n",
              "      <td>0</td>\n",
              "      <td>0</td>\n",
              "      <td>0</td>\n",
              "      <td>0</td>\n",
              "      <td>0</td>\n",
              "      <td>0</td>\n",
              "      <td>0</td>\n",
              "      <td>0</td>\n",
              "      <td>0</td>\n",
              "      <td>0</td>\n",
              "      <td>0</td>\n",
              "      <td>0</td>\n",
              "      <td>0</td>\n",
              "      <td>0</td>\n",
              "      <td>0</td>\n",
              "      <td>0</td>\n",
              "      <td>0</td>\n",
              "      <td>0</td>\n",
              "      <td>0</td>\n",
              "      <td>0</td>\n",
              "      <td>0</td>\n",
              "      <td>0</td>\n",
              "      <td>0</td>\n",
              "      <td>0</td>\n",
              "      <td>0</td>\n",
              "      <td>0</td>\n",
              "      <td>0</td>\n",
              "      <td>1</td>\n",
              "      <td>0</td>\n",
              "      <td>0</td>\n",
              "    </tr>\n",
              "    <tr>\n",
              "      <th>1030</th>\n",
              "      <td>1</td>\n",
              "      <td>0</td>\n",
              "      <td>25</td>\n",
              "      <td>0</td>\n",
              "      <td>0</td>\n",
              "      <td>0</td>\n",
              "      <td>0</td>\n",
              "      <td>0</td>\n",
              "      <td>0</td>\n",
              "      <td>0</td>\n",
              "      <td>0</td>\n",
              "      <td>0</td>\n",
              "      <td>0</td>\n",
              "      <td>0</td>\n",
              "      <td>0</td>\n",
              "      <td>0</td>\n",
              "      <td>0</td>\n",
              "      <td>0</td>\n",
              "      <td>0</td>\n",
              "      <td>0</td>\n",
              "      <td>0</td>\n",
              "      <td>0</td>\n",
              "      <td>0</td>\n",
              "      <td>0</td>\n",
              "      <td>0</td>\n",
              "      <td>0</td>\n",
              "      <td>0</td>\n",
              "      <td>0</td>\n",
              "      <td>0</td>\n",
              "      <td>0</td>\n",
              "      <td>0</td>\n",
              "      <td>1</td>\n",
              "      <td>0</td>\n",
              "      <td>0</td>\n",
              "      <td>0</td>\n",
              "      <td>0</td>\n",
              "      <td>0</td>\n",
              "      <td>0</td>\n",
              "      <td>0</td>\n",
              "      <td>0</td>\n",
              "      <td>...</td>\n",
              "      <td>0</td>\n",
              "      <td>0</td>\n",
              "      <td>0</td>\n",
              "      <td>0</td>\n",
              "      <td>0</td>\n",
              "      <td>0</td>\n",
              "      <td>0</td>\n",
              "      <td>0</td>\n",
              "      <td>0</td>\n",
              "      <td>0</td>\n",
              "      <td>0</td>\n",
              "      <td>0</td>\n",
              "      <td>0</td>\n",
              "      <td>0</td>\n",
              "      <td>0</td>\n",
              "      <td>0</td>\n",
              "      <td>0</td>\n",
              "      <td>0</td>\n",
              "      <td>0</td>\n",
              "      <td>0</td>\n",
              "      <td>0</td>\n",
              "      <td>0</td>\n",
              "      <td>0</td>\n",
              "      <td>0</td>\n",
              "      <td>0</td>\n",
              "      <td>0</td>\n",
              "      <td>0</td>\n",
              "      <td>0</td>\n",
              "      <td>0</td>\n",
              "      <td>0</td>\n",
              "      <td>0</td>\n",
              "      <td>0</td>\n",
              "      <td>0</td>\n",
              "      <td>0</td>\n",
              "      <td>0</td>\n",
              "      <td>0</td>\n",
              "      <td>0</td>\n",
              "      <td>0</td>\n",
              "      <td>0</td>\n",
              "      <td>0</td>\n",
              "    </tr>\n",
              "    <tr>\n",
              "      <th>1052</th>\n",
              "      <td>1</td>\n",
              "      <td>0</td>\n",
              "      <td>45</td>\n",
              "      <td>0</td>\n",
              "      <td>0</td>\n",
              "      <td>0</td>\n",
              "      <td>0</td>\n",
              "      <td>0</td>\n",
              "      <td>0</td>\n",
              "      <td>0</td>\n",
              "      <td>0</td>\n",
              "      <td>0</td>\n",
              "      <td>0</td>\n",
              "      <td>0</td>\n",
              "      <td>0</td>\n",
              "      <td>0</td>\n",
              "      <td>0</td>\n",
              "      <td>0</td>\n",
              "      <td>0</td>\n",
              "      <td>1</td>\n",
              "      <td>0</td>\n",
              "      <td>0</td>\n",
              "      <td>0</td>\n",
              "      <td>0</td>\n",
              "      <td>0</td>\n",
              "      <td>0</td>\n",
              "      <td>0</td>\n",
              "      <td>0</td>\n",
              "      <td>0</td>\n",
              "      <td>0</td>\n",
              "      <td>0</td>\n",
              "      <td>0</td>\n",
              "      <td>0</td>\n",
              "      <td>0</td>\n",
              "      <td>0</td>\n",
              "      <td>0</td>\n",
              "      <td>0</td>\n",
              "      <td>0</td>\n",
              "      <td>0</td>\n",
              "      <td>0</td>\n",
              "      <td>...</td>\n",
              "      <td>0</td>\n",
              "      <td>0</td>\n",
              "      <td>0</td>\n",
              "      <td>0</td>\n",
              "      <td>0</td>\n",
              "      <td>0</td>\n",
              "      <td>0</td>\n",
              "      <td>0</td>\n",
              "      <td>0</td>\n",
              "      <td>0</td>\n",
              "      <td>0</td>\n",
              "      <td>0</td>\n",
              "      <td>0</td>\n",
              "      <td>0</td>\n",
              "      <td>0</td>\n",
              "      <td>0</td>\n",
              "      <td>0</td>\n",
              "      <td>0</td>\n",
              "      <td>0</td>\n",
              "      <td>0</td>\n",
              "      <td>0</td>\n",
              "      <td>0</td>\n",
              "      <td>0</td>\n",
              "      <td>0</td>\n",
              "      <td>0</td>\n",
              "      <td>0</td>\n",
              "      <td>0</td>\n",
              "      <td>0</td>\n",
              "      <td>0</td>\n",
              "      <td>0</td>\n",
              "      <td>0</td>\n",
              "      <td>0</td>\n",
              "      <td>0</td>\n",
              "      <td>0</td>\n",
              "      <td>0</td>\n",
              "      <td>0</td>\n",
              "      <td>0</td>\n",
              "      <td>0</td>\n",
              "      <td>0</td>\n",
              "      <td>0</td>\n",
              "    </tr>\n",
              "    <tr>\n",
              "      <th>1084</th>\n",
              "      <td>0</td>\n",
              "      <td>1</td>\n",
              "      <td>70</td>\n",
              "      <td>0</td>\n",
              "      <td>0</td>\n",
              "      <td>0</td>\n",
              "      <td>0</td>\n",
              "      <td>0</td>\n",
              "      <td>0</td>\n",
              "      <td>0</td>\n",
              "      <td>0</td>\n",
              "      <td>0</td>\n",
              "      <td>0</td>\n",
              "      <td>0</td>\n",
              "      <td>0</td>\n",
              "      <td>0</td>\n",
              "      <td>0</td>\n",
              "      <td>0</td>\n",
              "      <td>0</td>\n",
              "      <td>0</td>\n",
              "      <td>0</td>\n",
              "      <td>0</td>\n",
              "      <td>0</td>\n",
              "      <td>0</td>\n",
              "      <td>0</td>\n",
              "      <td>0</td>\n",
              "      <td>0</td>\n",
              "      <td>0</td>\n",
              "      <td>0</td>\n",
              "      <td>0</td>\n",
              "      <td>0</td>\n",
              "      <td>0</td>\n",
              "      <td>1</td>\n",
              "      <td>0</td>\n",
              "      <td>0</td>\n",
              "      <td>0</td>\n",
              "      <td>0</td>\n",
              "      <td>0</td>\n",
              "      <td>0</td>\n",
              "      <td>0</td>\n",
              "      <td>...</td>\n",
              "      <td>0</td>\n",
              "      <td>0</td>\n",
              "      <td>0</td>\n",
              "      <td>0</td>\n",
              "      <td>0</td>\n",
              "      <td>0</td>\n",
              "      <td>0</td>\n",
              "      <td>0</td>\n",
              "      <td>0</td>\n",
              "      <td>0</td>\n",
              "      <td>0</td>\n",
              "      <td>0</td>\n",
              "      <td>0</td>\n",
              "      <td>0</td>\n",
              "      <td>0</td>\n",
              "      <td>0</td>\n",
              "      <td>0</td>\n",
              "      <td>0</td>\n",
              "      <td>0</td>\n",
              "      <td>0</td>\n",
              "      <td>0</td>\n",
              "      <td>0</td>\n",
              "      <td>0</td>\n",
              "      <td>0</td>\n",
              "      <td>0</td>\n",
              "      <td>0</td>\n",
              "      <td>0</td>\n",
              "      <td>0</td>\n",
              "      <td>0</td>\n",
              "      <td>0</td>\n",
              "      <td>0</td>\n",
              "      <td>0</td>\n",
              "      <td>0</td>\n",
              "      <td>0</td>\n",
              "      <td>0</td>\n",
              "      <td>0</td>\n",
              "      <td>0</td>\n",
              "      <td>0</td>\n",
              "      <td>0</td>\n",
              "      <td>0</td>\n",
              "    </tr>\n",
              "  </tbody>\n",
              "</table>\n",
              "<p>5203 rows × 225 columns</p>\n",
              "</div>"
            ],
            "text/plain": [
              "      female  male  age  afghanistan  ...  yunnan  zaragoza  zhejiang  zhuhai\n",
              "0          0     1   56            0  ...       0         0         0       0\n",
              "1          0     1   33            0  ...       0         0         0       0\n",
              "2          0     1   56            0  ...       0         0         0       0\n",
              "3          0     1   29            0  ...       0         0         0       0\n",
              "4          1     0   28            0  ...       0         0         0       0\n",
              "...      ...   ...  ...          ...  ...     ...       ...       ...     ...\n",
              "1027       0     1   58            0  ...       0         0         0       0\n",
              "1029       1     0   27            0  ...       0         1         0       0\n",
              "1030       1     0   25            0  ...       0         0         0       0\n",
              "1052       1     0   45            0  ...       0         0         0       0\n",
              "1084       0     1   70            0  ...       0         0         0       0\n",
              "\n",
              "[5203 rows x 225 columns]"
            ]
          },
          "metadata": {
            "tags": []
          },
          "execution_count": 80
        }
      ]
    },
    {
      "cell_type": "code",
      "metadata": {
        "id": "Zt3VCWOkMmDB",
        "colab_type": "code",
        "outputId": "c1a02ac0-d229-4e11-b467-206b8097c931",
        "colab": {
          "base_uri": "https://localhost:8080/",
          "height": 402
        }
      },
      "source": [
        "x = features\n",
        "y = pd.DataFrame(totalData.death)\n",
        "for index in range(0,len(y)):\n",
        "  if len(str(y.death.iloc[index])) > 1:\n",
        "    y.death.iloc[index] = 1\n",
        "y.death = y.death.astype(int)\n",
        "y"
      ],
      "execution_count": 81,
      "outputs": [
        {
          "output_type": "execute_result",
          "data": {
            "text/html": [
              "<div>\n",
              "<style scoped>\n",
              "    .dataframe tbody tr th:only-of-type {\n",
              "        vertical-align: middle;\n",
              "    }\n",
              "\n",
              "    .dataframe tbody tr th {\n",
              "        vertical-align: top;\n",
              "    }\n",
              "\n",
              "    .dataframe thead th {\n",
              "        text-align: right;\n",
              "    }\n",
              "</style>\n",
              "<table border=\"1\" class=\"dataframe\">\n",
              "  <thead>\n",
              "    <tr style=\"text-align: right;\">\n",
              "      <th></th>\n",
              "      <th>death</th>\n",
              "    </tr>\n",
              "  </thead>\n",
              "  <tbody>\n",
              "    <tr>\n",
              "      <th>0</th>\n",
              "      <td>0</td>\n",
              "    </tr>\n",
              "    <tr>\n",
              "      <th>1</th>\n",
              "      <td>0</td>\n",
              "    </tr>\n",
              "    <tr>\n",
              "      <th>2</th>\n",
              "      <td>0</td>\n",
              "    </tr>\n",
              "    <tr>\n",
              "      <th>3</th>\n",
              "      <td>0</td>\n",
              "    </tr>\n",
              "    <tr>\n",
              "      <th>4</th>\n",
              "      <td>0</td>\n",
              "    </tr>\n",
              "    <tr>\n",
              "      <th>...</th>\n",
              "      <td>...</td>\n",
              "    </tr>\n",
              "    <tr>\n",
              "      <th>1027</th>\n",
              "      <td>0</td>\n",
              "    </tr>\n",
              "    <tr>\n",
              "      <th>1029</th>\n",
              "      <td>0</td>\n",
              "    </tr>\n",
              "    <tr>\n",
              "      <th>1030</th>\n",
              "      <td>0</td>\n",
              "    </tr>\n",
              "    <tr>\n",
              "      <th>1052</th>\n",
              "      <td>0</td>\n",
              "    </tr>\n",
              "    <tr>\n",
              "      <th>1084</th>\n",
              "      <td>0</td>\n",
              "    </tr>\n",
              "  </tbody>\n",
              "</table>\n",
              "<p>5203 rows × 1 columns</p>\n",
              "</div>"
            ],
            "text/plain": [
              "      death\n",
              "0         0\n",
              "1         0\n",
              "2         0\n",
              "3         0\n",
              "4         0\n",
              "...     ...\n",
              "1027      0\n",
              "1029      0\n",
              "1030      0\n",
              "1052      0\n",
              "1084      0\n",
              "\n",
              "[5203 rows x 1 columns]"
            ]
          },
          "metadata": {
            "tags": []
          },
          "execution_count": 81
        }
      ]
    },
    {
      "cell_type": "code",
      "metadata": {
        "id": "7Je6EvphF5rl",
        "colab_type": "code",
        "colab": {}
      },
      "source": [
        "x_train, x_test, y_train, y_test = train_test_split(x,y,train_size=0.9,random_state=4211)"
      ],
      "execution_count": 0,
      "outputs": []
    },
    {
      "cell_type": "code",
      "metadata": {
        "id": "D5waLDJwS7dP",
        "colab_type": "code",
        "outputId": "b6ea2817-b4d3-457b-a518-0d78b4e220d5",
        "colab": {
          "base_uri": "https://localhost:8080/",
          "height": 1000
        }
      },
      "source": [
        "timeT = np.zeros(shape=(9,3))\n",
        "accur = np.zeros(shape=(9,3))\n",
        "score = np.zeros(shape=(9,3))\n",
        "totalMeanTime = []\n",
        "totalMeanAccuracy = []\n",
        "totalMeanScore = []\n",
        "randomIndex = 0\n",
        "for j in range(0,9):\n",
        "    for i in range(0,3):\n",
        "        model = SGDClassifier(loss='log', learning_rate='invscaling', eta0=0.7, random_state=randomIndex*100)\n",
        "        randomIndex += 1\n",
        "        start = time.time()\n",
        "        model.fit(x_train,y_train)\n",
        "        stop = time.time()\n",
        "        timeTaken = stop - start\n",
        "        y_predict = model.predict(x_test)\n",
        "        accuracy = accuracy_score(y_test,y_predict)\n",
        "        f1 = f1_score(y_test,y_predict)\n",
        "        timeT[j][i] = timeTaken\n",
        "        accur[j][i] = accuracy\n",
        "        score[j][i] = f1\n",
        "    meanTime = np.mean(timeT[j])\n",
        "    meanAcc = np.mean(accur[j])\n",
        "    meanScore = np.mean(score[j])\n",
        "    stdTime = np.std(timeT[j])\n",
        "    stdAcc = np.std(accur[j])\n",
        "    stdScore = np.std(score[j])\n",
        "    totalMeanTime.append(meanTime)\n",
        "    totalMeanAccuracy.append(meanAcc)\n",
        "    totalMeanScore.append(meanScore)\n",
        "    print(j, ' Set')\n",
        "    print(\"Mean time is: \", meanTime)\n",
        "    print(\"Mean Accuracy is: \", meanAcc)\n",
        "    print(\"Mean Score is: \", meanScore)\n",
        "    print(\"Std of Time is: \", stdTime)\n",
        "    print(\"Std of Accuracy is: \", stdAcc)\n",
        "    print(\"Std of Score is: \", stdScore)\n",
        "    print(\"\\n\")\n",
        "\n",
        "print(\"Total Average MeanTime is: \", np.mean(totalMeanTime))\n",
        "print(\"Total Average Accuracy is: \",np.mean(totalMeanAccuracy))\n",
        "print(\"Total Average Mean Score is: \",np.mean(totalMeanScore))"
      ],
      "execution_count": 83,
      "outputs": [
        {
          "output_type": "stream",
          "text": [
            "/usr/local/lib/python3.6/dist-packages/sklearn/utils/validation.py:760: DataConversionWarning:\n",
            "\n",
            "A column-vector y was passed when a 1d array was expected. Please change the shape of y to (n_samples, ), for example using ravel().\n",
            "\n",
            "/usr/local/lib/python3.6/dist-packages/sklearn/utils/validation.py:760: DataConversionWarning:\n",
            "\n",
            "A column-vector y was passed when a 1d array was expected. Please change the shape of y to (n_samples, ), for example using ravel().\n",
            "\n",
            "/usr/local/lib/python3.6/dist-packages/sklearn/utils/validation.py:760: DataConversionWarning:\n",
            "\n",
            "A column-vector y was passed when a 1d array was expected. Please change the shape of y to (n_samples, ), for example using ravel().\n",
            "\n"
          ],
          "name": "stderr"
        },
        {
          "output_type": "stream",
          "text": [
            "0  Set\n",
            "Mean time is:  0.308549960454305\n",
            "Mean Accuracy is:  0.9852847088931541\n",
            "Mean Score is:  0.2545454545454545\n",
            "Std of Time is:  0.06535647147434823\n",
            "Std of Accuracy is:  0.0009048071416334309\n",
            "Std of Score is:  0.07713892158398698\n",
            "\n",
            "\n"
          ],
          "name": "stdout"
        },
        {
          "output_type": "stream",
          "text": [
            "/usr/local/lib/python3.6/dist-packages/sklearn/utils/validation.py:760: DataConversionWarning:\n",
            "\n",
            "A column-vector y was passed when a 1d array was expected. Please change the shape of y to (n_samples, ), for example using ravel().\n",
            "\n",
            "/usr/local/lib/python3.6/dist-packages/sklearn/utils/validation.py:760: DataConversionWarning:\n",
            "\n",
            "A column-vector y was passed when a 1d array was expected. Please change the shape of y to (n_samples, ), for example using ravel().\n",
            "\n",
            "/usr/local/lib/python3.6/dist-packages/sklearn/utils/validation.py:760: DataConversionWarning:\n",
            "\n",
            "A column-vector y was passed when a 1d array was expected. Please change the shape of y to (n_samples, ), for example using ravel().\n",
            "\n"
          ],
          "name": "stderr"
        },
        {
          "output_type": "stream",
          "text": [
            "1  Set\n",
            "Mean time is:  0.2638961474100749\n",
            "Mean Accuracy is:  0.9833653230966091\n",
            "Mean Score is:  0.1692307692307692\n",
            "Std of Time is:  0.05477259770796825\n",
            "Std of Accuracy is:  0.0009048071416334832\n",
            "Std of Score is:  0.1274851578939082\n",
            "\n",
            "\n"
          ],
          "name": "stdout"
        },
        {
          "output_type": "stream",
          "text": [
            "/usr/local/lib/python3.6/dist-packages/sklearn/utils/validation.py:760: DataConversionWarning:\n",
            "\n",
            "A column-vector y was passed when a 1d array was expected. Please change the shape of y to (n_samples, ), for example using ravel().\n",
            "\n",
            "/usr/local/lib/python3.6/dist-packages/sklearn/utils/validation.py:760: DataConversionWarning:\n",
            "\n",
            "A column-vector y was passed when a 1d array was expected. Please change the shape of y to (n_samples, ), for example using ravel().\n",
            "\n",
            "/usr/local/lib/python3.6/dist-packages/sklearn/utils/validation.py:760: DataConversionWarning:\n",
            "\n",
            "A column-vector y was passed when a 1d array was expected. Please change the shape of y to (n_samples, ), for example using ravel().\n",
            "\n"
          ],
          "name": "stderr"
        },
        {
          "output_type": "stream",
          "text": [
            "2  Set\n",
            "Mean time is:  0.2940255006154378\n",
            "Mean Accuracy is:  0.984005118362124\n",
            "Mean Score is:  0.1212121212121212\n",
            "Std of Time is:  0.057057187719685876\n",
            "Std of Accuracy is:  0.0018096142832669142\n",
            "Std of Score is:  0.1714198257421933\n",
            "\n",
            "\n"
          ],
          "name": "stdout"
        },
        {
          "output_type": "stream",
          "text": [
            "/usr/local/lib/python3.6/dist-packages/sklearn/utils/validation.py:760: DataConversionWarning:\n",
            "\n",
            "A column-vector y was passed when a 1d array was expected. Please change the shape of y to (n_samples, ), for example using ravel().\n",
            "\n",
            "/usr/local/lib/python3.6/dist-packages/sklearn/utils/validation.py:760: DataConversionWarning:\n",
            "\n",
            "A column-vector y was passed when a 1d array was expected. Please change the shape of y to (n_samples, ), for example using ravel().\n",
            "\n",
            "/usr/local/lib/python3.6/dist-packages/sklearn/utils/validation.py:760: DataConversionWarning:\n",
            "\n",
            "A column-vector y was passed when a 1d array was expected. Please change the shape of y to (n_samples, ), for example using ravel().\n",
            "\n",
            "/usr/local/lib/python3.6/dist-packages/sklearn/utils/validation.py:760: DataConversionWarning:\n",
            "\n",
            "A column-vector y was passed when a 1d array was expected. Please change the shape of y to (n_samples, ), for example using ravel().\n",
            "\n"
          ],
          "name": "stderr"
        },
        {
          "output_type": "stream",
          "text": [
            "3  Set\n",
            "Mean time is:  0.25482455889383954\n",
            "Mean Accuracy is:  0.9801663467690339\n",
            "Mean Score is:  0.16666666666666666\n",
            "Std of Time is:  0.04448150769888168\n",
            "Std of Accuracy is:  0.005037752958420849\n",
            "Std of Score is:  0.1247219128924647\n",
            "\n",
            "\n"
          ],
          "name": "stdout"
        },
        {
          "output_type": "stream",
          "text": [
            "/usr/local/lib/python3.6/dist-packages/sklearn/utils/validation.py:760: DataConversionWarning:\n",
            "\n",
            "A column-vector y was passed when a 1d array was expected. Please change the shape of y to (n_samples, ), for example using ravel().\n",
            "\n",
            "/usr/local/lib/python3.6/dist-packages/sklearn/utils/validation.py:760: DataConversionWarning:\n",
            "\n",
            "A column-vector y was passed when a 1d array was expected. Please change the shape of y to (n_samples, ), for example using ravel().\n",
            "\n"
          ],
          "name": "stderr"
        },
        {
          "output_type": "stream",
          "text": [
            "4  Set\n",
            "Mean time is:  0.2688177426656087\n",
            "Mean Accuracy is:  0.9756877799104288\n",
            "Mean Score is:  0.12\n",
            "Std of Time is:  0.05244495242760485\n",
            "Std of Accuracy is:  0.01133720098955173\n",
            "Std of Score is:  0.08640987597877146\n",
            "\n",
            "\n"
          ],
          "name": "stdout"
        },
        {
          "output_type": "stream",
          "text": [
            "/usr/local/lib/python3.6/dist-packages/sklearn/utils/validation.py:760: DataConversionWarning:\n",
            "\n",
            "A column-vector y was passed when a 1d array was expected. Please change the shape of y to (n_samples, ), for example using ravel().\n",
            "\n",
            "/usr/local/lib/python3.6/dist-packages/sklearn/utils/validation.py:760: DataConversionWarning:\n",
            "\n",
            "A column-vector y was passed when a 1d array was expected. Please change the shape of y to (n_samples, ), for example using ravel().\n",
            "\n",
            "/usr/local/lib/python3.6/dist-packages/sklearn/utils/validation.py:760: DataConversionWarning:\n",
            "\n",
            "A column-vector y was passed when a 1d array was expected. Please change the shape of y to (n_samples, ), for example using ravel().\n",
            "\n"
          ],
          "name": "stderr"
        },
        {
          "output_type": "stream",
          "text": [
            "5  Set\n",
            "Mean time is:  0.31960328420003253\n",
            "Mean Accuracy is:  0.9776071657069738\n",
            "Mean Score is:  0.2831168831168831\n",
            "Std of Time is:  0.055176206511929234\n",
            "Std of Accuracy is:  0.011337200989551701\n",
            "Std of Score is:  0.06682950820918755\n",
            "\n",
            "\n"
          ],
          "name": "stdout"
        },
        {
          "output_type": "stream",
          "text": [
            "/usr/local/lib/python3.6/dist-packages/sklearn/utils/validation.py:760: DataConversionWarning:\n",
            "\n",
            "A column-vector y was passed when a 1d array was expected. Please change the shape of y to (n_samples, ), for example using ravel().\n",
            "\n",
            "/usr/local/lib/python3.6/dist-packages/sklearn/utils/validation.py:760: DataConversionWarning:\n",
            "\n",
            "A column-vector y was passed when a 1d array was expected. Please change the shape of y to (n_samples, ), for example using ravel().\n",
            "\n",
            "/usr/local/lib/python3.6/dist-packages/sklearn/utils/validation.py:760: DataConversionWarning:\n",
            "\n",
            "A column-vector y was passed when a 1d array was expected. Please change the shape of y to (n_samples, ), for example using ravel().\n",
            "\n"
          ],
          "name": "stderr"
        },
        {
          "output_type": "stream",
          "text": [
            "6  Set\n",
            "Mean time is:  0.2742448647816976\n",
            "Mean Accuracy is:  0.9833653230966091\n",
            "Mean Score is:  0.1111111111111111\n",
            "Std of Time is:  0.013453323798758118\n",
            "Std of Accuracy is:  0.0009048071416334832\n",
            "Std of Score is:  0.15713484026367722\n",
            "\n",
            "\n"
          ],
          "name": "stdout"
        },
        {
          "output_type": "stream",
          "text": [
            "/usr/local/lib/python3.6/dist-packages/sklearn/utils/validation.py:760: DataConversionWarning:\n",
            "\n",
            "A column-vector y was passed when a 1d array was expected. Please change the shape of y to (n_samples, ), for example using ravel().\n",
            "\n",
            "/usr/local/lib/python3.6/dist-packages/sklearn/utils/validation.py:760: DataConversionWarning:\n",
            "\n",
            "A column-vector y was passed when a 1d array was expected. Please change the shape of y to (n_samples, ), for example using ravel().\n",
            "\n",
            "/usr/local/lib/python3.6/dist-packages/sklearn/utils/validation.py:760: DataConversionWarning:\n",
            "\n",
            "A column-vector y was passed when a 1d array was expected. Please change the shape of y to (n_samples, ), for example using ravel().\n",
            "\n"
          ],
          "name": "stderr"
        },
        {
          "output_type": "stream",
          "text": [
            "7  Set\n",
            "Mean time is:  0.24144244194030762\n",
            "Mean Accuracy is:  0.9321817018554063\n",
            "Mean Score is:  0.0457516339869281\n",
            "Std of Time is:  0.0339519829514688\n",
            "Std of Accuracy is:  0.07147976418904319\n",
            "Std of Score is:  0.06470258128504355\n",
            "\n",
            "\n"
          ],
          "name": "stdout"
        },
        {
          "output_type": "stream",
          "text": [
            "/usr/local/lib/python3.6/dist-packages/sklearn/utils/validation.py:760: DataConversionWarning:\n",
            "\n",
            "A column-vector y was passed when a 1d array was expected. Please change the shape of y to (n_samples, ), for example using ravel().\n",
            "\n",
            "/usr/local/lib/python3.6/dist-packages/sklearn/utils/validation.py:760: DataConversionWarning:\n",
            "\n",
            "A column-vector y was passed when a 1d array was expected. Please change the shape of y to (n_samples, ), for example using ravel().\n",
            "\n",
            "/usr/local/lib/python3.6/dist-packages/sklearn/utils/validation.py:760: DataConversionWarning:\n",
            "\n",
            "A column-vector y was passed when a 1d array was expected. Please change the shape of y to (n_samples, ), for example using ravel().\n",
            "\n"
          ],
          "name": "stderr"
        },
        {
          "output_type": "stream",
          "text": [
            "8  Set\n",
            "Mean time is:  0.2793571949005127\n",
            "Mean Accuracy is:  0.9846449136276392\n",
            "Mean Score is:  0.2323232323232323\n",
            "Std of Time is:  0.042549834010738835\n",
            "Std of Accuracy is:  0.001567171940360317\n",
            "Std of Score is:  0.16474248919495038\n",
            "\n",
            "\n",
            "Total Average MeanTime is:  0.27830685509575737\n",
            "Total Average Accuracy is:  0.9762564868131087\n",
            "Total Average Mean Score is:  0.16710643024368513\n"
          ],
          "name": "stdout"
        }
      ]
    },
    {
      "cell_type": "markdown",
      "metadata": {
        "id": "WTIRmL3E3CXH",
        "colab_type": "text"
      },
      "source": [
        "Using another logistic regression moel"
      ]
    },
    {
      "cell_type": "code",
      "metadata": {
        "id": "ZdQq_DwHUQKS",
        "colab_type": "code",
        "colab": {}
      },
      "source": [
        "from sklearn.linear_model import LogisticRegression"
      ],
      "execution_count": 0,
      "outputs": []
    },
    {
      "cell_type": "code",
      "metadata": {
        "id": "5y81Jl-AUSj1",
        "colab_type": "code",
        "colab": {}
      },
      "source": [
        "model = LogisticRegression()"
      ],
      "execution_count": 0,
      "outputs": []
    },
    {
      "cell_type": "code",
      "metadata": {
        "id": "Evvq5SjQUUbQ",
        "colab_type": "code",
        "outputId": "fa65000c-e019-46d4-9098-d5639cc6eaf5",
        "colab": {
          "base_uri": "https://localhost:8080/",
          "height": 351
        }
      },
      "source": [
        "model.fit(x_train,y_train)"
      ],
      "execution_count": 86,
      "outputs": [
        {
          "output_type": "stream",
          "text": [
            "/usr/local/lib/python3.6/dist-packages/sklearn/utils/validation.py:760: DataConversionWarning:\n",
            "\n",
            "A column-vector y was passed when a 1d array was expected. Please change the shape of y to (n_samples, ), for example using ravel().\n",
            "\n",
            "/usr/local/lib/python3.6/dist-packages/sklearn/linear_model/_logistic.py:940: ConvergenceWarning:\n",
            "\n",
            "lbfgs failed to converge (status=1):\n",
            "STOP: TOTAL NO. of ITERATIONS REACHED LIMIT.\n",
            "\n",
            "Increase the number of iterations (max_iter) or scale the data as shown in:\n",
            "    https://scikit-learn.org/stable/modules/preprocessing.html\n",
            "Please also refer to the documentation for alternative solver options:\n",
            "    https://scikit-learn.org/stable/modules/linear_model.html#logistic-regression\n",
            "\n"
          ],
          "name": "stderr"
        },
        {
          "output_type": "execute_result",
          "data": {
            "text/plain": [
              "LogisticRegression(C=1.0, class_weight=None, dual=False, fit_intercept=True,\n",
              "                   intercept_scaling=1, l1_ratio=None, max_iter=100,\n",
              "                   multi_class='auto', n_jobs=None, penalty='l2',\n",
              "                   random_state=None, solver='lbfgs', tol=0.0001, verbose=0,\n",
              "                   warm_start=False)"
            ]
          },
          "metadata": {
            "tags": []
          },
          "execution_count": 86
        }
      ]
    },
    {
      "cell_type": "code",
      "metadata": {
        "id": "Fn_x7b8rUYDd",
        "colab_type": "code",
        "outputId": "f1012301-7d41-48ae-a372-538bd23f9b47",
        "colab": {
          "base_uri": "https://localhost:8080/",
          "height": 34
        }
      },
      "source": [
        "model.score(x_test,y_test)"
      ],
      "execution_count": 87,
      "outputs": [
        {
          "output_type": "execute_result",
          "data": {
            "text/plain": [
              "0.9865642994241842"
            ]
          },
          "metadata": {
            "tags": []
          },
          "execution_count": 87
        }
      ]
    },
    {
      "cell_type": "code",
      "metadata": {
        "id": "dbiP6D5tUc15",
        "colab_type": "code",
        "outputId": "bbccd36a-b27d-4348-f816-c125c7b12f20",
        "colab": {
          "base_uri": "https://localhost:8080/",
          "height": 439
        }
      },
      "source": [
        "model.predict(x_test)"
      ],
      "execution_count": 88,
      "outputs": [
        {
          "output_type": "execute_result",
          "data": {
            "text/plain": [
              "array([0, 0, 0, 0, 0, 0, 0, 0, 0, 0, 0, 0, 0, 0, 0, 0, 0, 0, 0, 0, 0, 0,\n",
              "       0, 0, 0, 0, 0, 0, 0, 0, 0, 0, 0, 0, 0, 0, 0, 0, 0, 0, 0, 0, 0, 0,\n",
              "       0, 0, 0, 0, 0, 0, 0, 0, 0, 0, 0, 0, 0, 0, 0, 0, 0, 0, 0, 0, 0, 0,\n",
              "       0, 0, 0, 0, 0, 0, 0, 0, 0, 0, 0, 0, 0, 0, 0, 0, 0, 0, 0, 0, 0, 0,\n",
              "       0, 0, 0, 0, 0, 0, 0, 0, 0, 0, 0, 0, 0, 0, 0, 0, 0, 0, 0, 0, 0, 0,\n",
              "       0, 0, 0, 0, 0, 0, 0, 0, 0, 0, 0, 0, 0, 0, 0, 0, 0, 0, 0, 0, 0, 0,\n",
              "       0, 0, 0, 0, 0, 0, 0, 0, 0, 0, 0, 0, 0, 0, 0, 0, 0, 0, 0, 0, 0, 0,\n",
              "       0, 0, 0, 0, 0, 0, 0, 0, 0, 0, 0, 0, 0, 0, 0, 0, 0, 0, 0, 0, 0, 0,\n",
              "       1, 0, 0, 0, 0, 0, 0, 0, 0, 0, 0, 0, 0, 0, 0, 0, 0, 0, 0, 0, 0, 0,\n",
              "       0, 0, 0, 0, 0, 0, 0, 0, 0, 0, 0, 0, 0, 0, 0, 0, 0, 0, 0, 0, 0, 0,\n",
              "       0, 0, 0, 0, 0, 0, 0, 0, 0, 0, 0, 0, 0, 0, 0, 0, 0, 0, 0, 0, 0, 0,\n",
              "       0, 0, 0, 0, 0, 0, 0, 0, 0, 0, 0, 0, 0, 0, 0, 0, 0, 0, 0, 0, 0, 0,\n",
              "       0, 0, 0, 0, 0, 0, 0, 0, 0, 0, 0, 0, 0, 0, 0, 0, 0, 0, 0, 0, 0, 0,\n",
              "       0, 0, 0, 0, 0, 0, 0, 0, 0, 0, 0, 0, 0, 0, 0, 0, 0, 0, 0, 0, 0, 0,\n",
              "       0, 0, 0, 0, 0, 0, 0, 0, 0, 0, 0, 0, 0, 0, 0, 0, 0, 0, 0, 0, 0, 0,\n",
              "       0, 0, 0, 0, 0, 0, 0, 0, 0, 0, 0, 0, 0, 0, 0, 0, 0, 0, 0, 0, 0, 0,\n",
              "       0, 0, 0, 0, 0, 0, 0, 0, 0, 0, 0, 0, 0, 0, 0, 0, 0, 0, 0, 0, 0, 0,\n",
              "       0, 0, 0, 0, 0, 0, 0, 0, 0, 0, 0, 0, 0, 0, 0, 0, 0, 0, 0, 0, 0, 0,\n",
              "       0, 0, 0, 0, 0, 0, 0, 0, 0, 0, 0, 0, 0, 0, 0, 0, 0, 0, 0, 0, 0, 0,\n",
              "       0, 0, 0, 0, 0, 0, 0, 0, 0, 0, 0, 0, 0, 0, 0, 0, 0, 0, 0, 0, 0, 0,\n",
              "       0, 0, 0, 0, 0, 0, 0, 0, 0, 0, 0, 0, 0, 0, 0, 0, 0, 0, 1, 0, 0, 0,\n",
              "       0, 0, 0, 0, 0, 0, 0, 0, 0, 0, 0, 0, 0, 0, 0, 0, 0, 0, 0, 0, 0, 0,\n",
              "       0, 0, 0, 0, 0, 0, 0, 0, 0, 0, 0, 0, 0, 0, 0, 0, 0, 0, 0, 0, 0, 0,\n",
              "       0, 0, 0, 0, 0, 0, 0, 0, 0, 0, 0, 0, 0, 0, 0])"
            ]
          },
          "metadata": {
            "tags": []
          },
          "execution_count": 88
        }
      ]
    },
    {
      "cell_type": "code",
      "metadata": {
        "id": "FB0Gh0i0Ugcy",
        "colab_type": "code",
        "outputId": "7eab9529-73b2-4b99-c85e-c6cd0ae5af72",
        "colab": {
          "base_uri": "https://localhost:8080/",
          "height": 402
        }
      },
      "source": [
        "death_prediction = model.predict_proba(x_test)\n",
        "death_probability = pd.DataFrame(death_prediction,columns=[\"Prob.Alive\",\"Prob.Death\"])\n",
        "death_probability\n"
      ],
      "execution_count": 89,
      "outputs": [
        {
          "output_type": "execute_result",
          "data": {
            "text/html": [
              "<div>\n",
              "<style scoped>\n",
              "    .dataframe tbody tr th:only-of-type {\n",
              "        vertical-align: middle;\n",
              "    }\n",
              "\n",
              "    .dataframe tbody tr th {\n",
              "        vertical-align: top;\n",
              "    }\n",
              "\n",
              "    .dataframe thead th {\n",
              "        text-align: right;\n",
              "    }\n",
              "</style>\n",
              "<table border=\"1\" class=\"dataframe\">\n",
              "  <thead>\n",
              "    <tr style=\"text-align: right;\">\n",
              "      <th></th>\n",
              "      <th>Prob.Alive</th>\n",
              "      <th>Prob.Death</th>\n",
              "    </tr>\n",
              "  </thead>\n",
              "  <tbody>\n",
              "    <tr>\n",
              "      <th>0</th>\n",
              "      <td>0.994962</td>\n",
              "      <td>0.005038</td>\n",
              "    </tr>\n",
              "    <tr>\n",
              "      <th>1</th>\n",
              "      <td>0.986235</td>\n",
              "      <td>0.013765</td>\n",
              "    </tr>\n",
              "    <tr>\n",
              "      <th>2</th>\n",
              "      <td>0.809418</td>\n",
              "      <td>0.190582</td>\n",
              "    </tr>\n",
              "    <tr>\n",
              "      <th>3</th>\n",
              "      <td>0.999782</td>\n",
              "      <td>0.000218</td>\n",
              "    </tr>\n",
              "    <tr>\n",
              "      <th>4</th>\n",
              "      <td>0.975492</td>\n",
              "      <td>0.024508</td>\n",
              "    </tr>\n",
              "    <tr>\n",
              "      <th>...</th>\n",
              "      <td>...</td>\n",
              "      <td>...</td>\n",
              "    </tr>\n",
              "    <tr>\n",
              "      <th>516</th>\n",
              "      <td>0.997465</td>\n",
              "      <td>0.002535</td>\n",
              "    </tr>\n",
              "    <tr>\n",
              "      <th>517</th>\n",
              "      <td>0.999547</td>\n",
              "      <td>0.000453</td>\n",
              "    </tr>\n",
              "    <tr>\n",
              "      <th>518</th>\n",
              "      <td>0.998004</td>\n",
              "      <td>0.001996</td>\n",
              "    </tr>\n",
              "    <tr>\n",
              "      <th>519</th>\n",
              "      <td>0.989836</td>\n",
              "      <td>0.010164</td>\n",
              "    </tr>\n",
              "    <tr>\n",
              "      <th>520</th>\n",
              "      <td>0.967389</td>\n",
              "      <td>0.032611</td>\n",
              "    </tr>\n",
              "  </tbody>\n",
              "</table>\n",
              "<p>521 rows × 2 columns</p>\n",
              "</div>"
            ],
            "text/plain": [
              "     Prob.Alive  Prob.Death\n",
              "0      0.994962    0.005038\n",
              "1      0.986235    0.013765\n",
              "2      0.809418    0.190582\n",
              "3      0.999782    0.000218\n",
              "4      0.975492    0.024508\n",
              "..          ...         ...\n",
              "516    0.997465    0.002535\n",
              "517    0.999547    0.000453\n",
              "518    0.998004    0.001996\n",
              "519    0.989836    0.010164\n",
              "520    0.967389    0.032611\n",
              "\n",
              "[521 rows x 2 columns]"
            ]
          },
          "metadata": {
            "tags": []
          },
          "execution_count": 89
        }
      ]
    },
    {
      "cell_type": "code",
      "metadata": {
        "id": "TH-KnTEO4Vl5",
        "colab_type": "code",
        "outputId": "f75d1c5a-e24b-4fc5-a436-ab1682e7454d",
        "colab": {
          "base_uri": "https://localhost:8080/",
          "height": 472
        }
      },
      "source": [
        "features"
      ],
      "execution_count": 90,
      "outputs": [
        {
          "output_type": "execute_result",
          "data": {
            "text/html": [
              "<div>\n",
              "<style scoped>\n",
              "    .dataframe tbody tr th:only-of-type {\n",
              "        vertical-align: middle;\n",
              "    }\n",
              "\n",
              "    .dataframe tbody tr th {\n",
              "        vertical-align: top;\n",
              "    }\n",
              "\n",
              "    .dataframe thead th {\n",
              "        text-align: right;\n",
              "    }\n",
              "</style>\n",
              "<table border=\"1\" class=\"dataframe\">\n",
              "  <thead>\n",
              "    <tr style=\"text-align: right;\">\n",
              "      <th></th>\n",
              "      <th>female</th>\n",
              "      <th>male</th>\n",
              "      <th>age</th>\n",
              "      <th>afghanistan</th>\n",
              "      <th>australia</th>\n",
              "      <th>bangladesh</th>\n",
              "      <th>cambodia</th>\n",
              "      <th>canada</th>\n",
              "      <th>china</th>\n",
              "      <th>finland</th>\n",
              "      <th>foreign</th>\n",
              "      <th>france</th>\n",
              "      <th>germany</th>\n",
              "      <th>greece</th>\n",
              "      <th>hong kong</th>\n",
              "      <th>indonesia</th>\n",
              "      <th>italy</th>\n",
              "      <th>japan</th>\n",
              "      <th>korea</th>\n",
              "      <th>lebanon</th>\n",
              "      <th>malaysia</th>\n",
              "      <th>mongolia</th>\n",
              "      <th>nepal</th>\n",
              "      <th>pakistan</th>\n",
              "      <th>philippines</th>\n",
              "      <th>phillipines</th>\n",
              "      <th>romania</th>\n",
              "      <th>singapore</th>\n",
              "      <th>south korea</th>\n",
              "      <th>spain</th>\n",
              "      <th>sri lanka</th>\n",
              "      <th>sweden</th>\n",
              "      <th>switzerland</th>\n",
              "      <th>taiwan</th>\n",
              "      <th>thailand</th>\n",
              "      <th>uae</th>\n",
              "      <th>uk</th>\n",
              "      <th>united states</th>\n",
              "      <th>usa</th>\n",
              "      <th>vietnam</th>\n",
              "      <th>...</th>\n",
              "      <th>shanxi (陕西)</th>\n",
              "      <th>shenzhen, guangdong</th>\n",
              "      <th>shizuoka</th>\n",
              "      <th>sichuan</th>\n",
              "      <th>sihanoukville</th>\n",
              "      <th>sindh</th>\n",
              "      <th>singapore</th>\n",
              "      <th>south australia</th>\n",
              "      <th>south korea</th>\n",
              "      <th>southern finland</th>\n",
              "      <th>sri lanka</th>\n",
              "      <th>strasbourg</th>\n",
              "      <th>taiwan</th>\n",
              "      <th>tenerife</th>\n",
              "      <th>thailand</th>\n",
              "      <th>thanh hoa</th>\n",
              "      <th>tianjin</th>\n",
              "      <th>tibet</th>\n",
              "      <th>tokyo</th>\n",
              "      <th>toronto</th>\n",
              "      <th>tsing yi</th>\n",
              "      <th>tubingen</th>\n",
              "      <th>uae</th>\n",
              "      <th>ulsan</th>\n",
              "      <th>valencia</th>\n",
              "      <th>vancouver</th>\n",
              "      <th>veneto</th>\n",
              "      <th>victoria</th>\n",
              "      <th>vinh phuc</th>\n",
              "      <th>wakayama prefecture</th>\n",
              "      <th>wan chai</th>\n",
              "      <th>washington</th>\n",
              "      <th>wilayah persekutuan kuala lumpur</th>\n",
              "      <th>wuhan, hubei</th>\n",
              "      <th>xinjiang</th>\n",
              "      <th>yau ma tei</th>\n",
              "      <th>yunnan</th>\n",
              "      <th>zaragoza</th>\n",
              "      <th>zhejiang</th>\n",
              "      <th>zhuhai</th>\n",
              "    </tr>\n",
              "  </thead>\n",
              "  <tbody>\n",
              "    <tr>\n",
              "      <th>0</th>\n",
              "      <td>0</td>\n",
              "      <td>1</td>\n",
              "      <td>56</td>\n",
              "      <td>0</td>\n",
              "      <td>0</td>\n",
              "      <td>0</td>\n",
              "      <td>0</td>\n",
              "      <td>0</td>\n",
              "      <td>0</td>\n",
              "      <td>0</td>\n",
              "      <td>0</td>\n",
              "      <td>0</td>\n",
              "      <td>0</td>\n",
              "      <td>0</td>\n",
              "      <td>0</td>\n",
              "      <td>0</td>\n",
              "      <td>0</td>\n",
              "      <td>0</td>\n",
              "      <td>1</td>\n",
              "      <td>0</td>\n",
              "      <td>0</td>\n",
              "      <td>0</td>\n",
              "      <td>0</td>\n",
              "      <td>0</td>\n",
              "      <td>0</td>\n",
              "      <td>0</td>\n",
              "      <td>0</td>\n",
              "      <td>0</td>\n",
              "      <td>0</td>\n",
              "      <td>0</td>\n",
              "      <td>0</td>\n",
              "      <td>0</td>\n",
              "      <td>0</td>\n",
              "      <td>0</td>\n",
              "      <td>0</td>\n",
              "      <td>0</td>\n",
              "      <td>0</td>\n",
              "      <td>0</td>\n",
              "      <td>0</td>\n",
              "      <td>0</td>\n",
              "      <td>...</td>\n",
              "      <td>0</td>\n",
              "      <td>0</td>\n",
              "      <td>0</td>\n",
              "      <td>0</td>\n",
              "      <td>0</td>\n",
              "      <td>0</td>\n",
              "      <td>0</td>\n",
              "      <td>0</td>\n",
              "      <td>0</td>\n",
              "      <td>0</td>\n",
              "      <td>0</td>\n",
              "      <td>0</td>\n",
              "      <td>0</td>\n",
              "      <td>0</td>\n",
              "      <td>0</td>\n",
              "      <td>0</td>\n",
              "      <td>0</td>\n",
              "      <td>0</td>\n",
              "      <td>0</td>\n",
              "      <td>0</td>\n",
              "      <td>0</td>\n",
              "      <td>0</td>\n",
              "      <td>0</td>\n",
              "      <td>0</td>\n",
              "      <td>0</td>\n",
              "      <td>0</td>\n",
              "      <td>0</td>\n",
              "      <td>0</td>\n",
              "      <td>0</td>\n",
              "      <td>0</td>\n",
              "      <td>0</td>\n",
              "      <td>0</td>\n",
              "      <td>0</td>\n",
              "      <td>0</td>\n",
              "      <td>0</td>\n",
              "      <td>0</td>\n",
              "      <td>0</td>\n",
              "      <td>0</td>\n",
              "      <td>0</td>\n",
              "      <td>0</td>\n",
              "    </tr>\n",
              "    <tr>\n",
              "      <th>1</th>\n",
              "      <td>0</td>\n",
              "      <td>1</td>\n",
              "      <td>33</td>\n",
              "      <td>0</td>\n",
              "      <td>0</td>\n",
              "      <td>0</td>\n",
              "      <td>0</td>\n",
              "      <td>0</td>\n",
              "      <td>0</td>\n",
              "      <td>0</td>\n",
              "      <td>0</td>\n",
              "      <td>0</td>\n",
              "      <td>0</td>\n",
              "      <td>0</td>\n",
              "      <td>0</td>\n",
              "      <td>0</td>\n",
              "      <td>0</td>\n",
              "      <td>0</td>\n",
              "      <td>1</td>\n",
              "      <td>0</td>\n",
              "      <td>0</td>\n",
              "      <td>0</td>\n",
              "      <td>0</td>\n",
              "      <td>0</td>\n",
              "      <td>0</td>\n",
              "      <td>0</td>\n",
              "      <td>0</td>\n",
              "      <td>0</td>\n",
              "      <td>0</td>\n",
              "      <td>0</td>\n",
              "      <td>0</td>\n",
              "      <td>0</td>\n",
              "      <td>0</td>\n",
              "      <td>0</td>\n",
              "      <td>0</td>\n",
              "      <td>0</td>\n",
              "      <td>0</td>\n",
              "      <td>0</td>\n",
              "      <td>0</td>\n",
              "      <td>0</td>\n",
              "      <td>...</td>\n",
              "      <td>0</td>\n",
              "      <td>0</td>\n",
              "      <td>0</td>\n",
              "      <td>0</td>\n",
              "      <td>0</td>\n",
              "      <td>0</td>\n",
              "      <td>0</td>\n",
              "      <td>0</td>\n",
              "      <td>0</td>\n",
              "      <td>0</td>\n",
              "      <td>0</td>\n",
              "      <td>0</td>\n",
              "      <td>0</td>\n",
              "      <td>0</td>\n",
              "      <td>0</td>\n",
              "      <td>0</td>\n",
              "      <td>0</td>\n",
              "      <td>0</td>\n",
              "      <td>0</td>\n",
              "      <td>0</td>\n",
              "      <td>0</td>\n",
              "      <td>0</td>\n",
              "      <td>0</td>\n",
              "      <td>0</td>\n",
              "      <td>0</td>\n",
              "      <td>0</td>\n",
              "      <td>0</td>\n",
              "      <td>0</td>\n",
              "      <td>0</td>\n",
              "      <td>0</td>\n",
              "      <td>0</td>\n",
              "      <td>0</td>\n",
              "      <td>0</td>\n",
              "      <td>0</td>\n",
              "      <td>0</td>\n",
              "      <td>0</td>\n",
              "      <td>0</td>\n",
              "      <td>0</td>\n",
              "      <td>0</td>\n",
              "      <td>0</td>\n",
              "    </tr>\n",
              "    <tr>\n",
              "      <th>2</th>\n",
              "      <td>0</td>\n",
              "      <td>1</td>\n",
              "      <td>56</td>\n",
              "      <td>0</td>\n",
              "      <td>0</td>\n",
              "      <td>0</td>\n",
              "      <td>0</td>\n",
              "      <td>0</td>\n",
              "      <td>0</td>\n",
              "      <td>0</td>\n",
              "      <td>0</td>\n",
              "      <td>0</td>\n",
              "      <td>0</td>\n",
              "      <td>0</td>\n",
              "      <td>0</td>\n",
              "      <td>0</td>\n",
              "      <td>0</td>\n",
              "      <td>0</td>\n",
              "      <td>1</td>\n",
              "      <td>0</td>\n",
              "      <td>0</td>\n",
              "      <td>0</td>\n",
              "      <td>0</td>\n",
              "      <td>0</td>\n",
              "      <td>0</td>\n",
              "      <td>0</td>\n",
              "      <td>0</td>\n",
              "      <td>0</td>\n",
              "      <td>0</td>\n",
              "      <td>0</td>\n",
              "      <td>0</td>\n",
              "      <td>0</td>\n",
              "      <td>0</td>\n",
              "      <td>0</td>\n",
              "      <td>0</td>\n",
              "      <td>0</td>\n",
              "      <td>0</td>\n",
              "      <td>0</td>\n",
              "      <td>0</td>\n",
              "      <td>0</td>\n",
              "      <td>...</td>\n",
              "      <td>0</td>\n",
              "      <td>0</td>\n",
              "      <td>0</td>\n",
              "      <td>0</td>\n",
              "      <td>0</td>\n",
              "      <td>0</td>\n",
              "      <td>0</td>\n",
              "      <td>0</td>\n",
              "      <td>0</td>\n",
              "      <td>0</td>\n",
              "      <td>0</td>\n",
              "      <td>0</td>\n",
              "      <td>0</td>\n",
              "      <td>0</td>\n",
              "      <td>0</td>\n",
              "      <td>0</td>\n",
              "      <td>0</td>\n",
              "      <td>0</td>\n",
              "      <td>0</td>\n",
              "      <td>0</td>\n",
              "      <td>0</td>\n",
              "      <td>0</td>\n",
              "      <td>0</td>\n",
              "      <td>0</td>\n",
              "      <td>0</td>\n",
              "      <td>0</td>\n",
              "      <td>0</td>\n",
              "      <td>0</td>\n",
              "      <td>0</td>\n",
              "      <td>0</td>\n",
              "      <td>0</td>\n",
              "      <td>0</td>\n",
              "      <td>0</td>\n",
              "      <td>0</td>\n",
              "      <td>0</td>\n",
              "      <td>0</td>\n",
              "      <td>0</td>\n",
              "      <td>0</td>\n",
              "      <td>0</td>\n",
              "      <td>0</td>\n",
              "    </tr>\n",
              "    <tr>\n",
              "      <th>3</th>\n",
              "      <td>0</td>\n",
              "      <td>1</td>\n",
              "      <td>29</td>\n",
              "      <td>0</td>\n",
              "      <td>0</td>\n",
              "      <td>0</td>\n",
              "      <td>0</td>\n",
              "      <td>0</td>\n",
              "      <td>0</td>\n",
              "      <td>0</td>\n",
              "      <td>0</td>\n",
              "      <td>0</td>\n",
              "      <td>0</td>\n",
              "      <td>0</td>\n",
              "      <td>0</td>\n",
              "      <td>0</td>\n",
              "      <td>0</td>\n",
              "      <td>0</td>\n",
              "      <td>1</td>\n",
              "      <td>0</td>\n",
              "      <td>0</td>\n",
              "      <td>0</td>\n",
              "      <td>0</td>\n",
              "      <td>0</td>\n",
              "      <td>0</td>\n",
              "      <td>0</td>\n",
              "      <td>0</td>\n",
              "      <td>0</td>\n",
              "      <td>0</td>\n",
              "      <td>0</td>\n",
              "      <td>0</td>\n",
              "      <td>0</td>\n",
              "      <td>0</td>\n",
              "      <td>0</td>\n",
              "      <td>0</td>\n",
              "      <td>0</td>\n",
              "      <td>0</td>\n",
              "      <td>0</td>\n",
              "      <td>0</td>\n",
              "      <td>0</td>\n",
              "      <td>...</td>\n",
              "      <td>0</td>\n",
              "      <td>0</td>\n",
              "      <td>0</td>\n",
              "      <td>0</td>\n",
              "      <td>0</td>\n",
              "      <td>0</td>\n",
              "      <td>0</td>\n",
              "      <td>0</td>\n",
              "      <td>0</td>\n",
              "      <td>0</td>\n",
              "      <td>0</td>\n",
              "      <td>0</td>\n",
              "      <td>0</td>\n",
              "      <td>0</td>\n",
              "      <td>0</td>\n",
              "      <td>0</td>\n",
              "      <td>0</td>\n",
              "      <td>0</td>\n",
              "      <td>0</td>\n",
              "      <td>0</td>\n",
              "      <td>0</td>\n",
              "      <td>0</td>\n",
              "      <td>0</td>\n",
              "      <td>0</td>\n",
              "      <td>0</td>\n",
              "      <td>0</td>\n",
              "      <td>0</td>\n",
              "      <td>0</td>\n",
              "      <td>0</td>\n",
              "      <td>0</td>\n",
              "      <td>0</td>\n",
              "      <td>0</td>\n",
              "      <td>0</td>\n",
              "      <td>0</td>\n",
              "      <td>0</td>\n",
              "      <td>0</td>\n",
              "      <td>0</td>\n",
              "      <td>0</td>\n",
              "      <td>0</td>\n",
              "      <td>0</td>\n",
              "    </tr>\n",
              "    <tr>\n",
              "      <th>4</th>\n",
              "      <td>1</td>\n",
              "      <td>0</td>\n",
              "      <td>28</td>\n",
              "      <td>0</td>\n",
              "      <td>0</td>\n",
              "      <td>0</td>\n",
              "      <td>0</td>\n",
              "      <td>0</td>\n",
              "      <td>0</td>\n",
              "      <td>0</td>\n",
              "      <td>0</td>\n",
              "      <td>0</td>\n",
              "      <td>0</td>\n",
              "      <td>0</td>\n",
              "      <td>0</td>\n",
              "      <td>0</td>\n",
              "      <td>0</td>\n",
              "      <td>0</td>\n",
              "      <td>1</td>\n",
              "      <td>0</td>\n",
              "      <td>0</td>\n",
              "      <td>0</td>\n",
              "      <td>0</td>\n",
              "      <td>0</td>\n",
              "      <td>0</td>\n",
              "      <td>0</td>\n",
              "      <td>0</td>\n",
              "      <td>0</td>\n",
              "      <td>0</td>\n",
              "      <td>0</td>\n",
              "      <td>0</td>\n",
              "      <td>0</td>\n",
              "      <td>0</td>\n",
              "      <td>0</td>\n",
              "      <td>0</td>\n",
              "      <td>0</td>\n",
              "      <td>0</td>\n",
              "      <td>0</td>\n",
              "      <td>0</td>\n",
              "      <td>0</td>\n",
              "      <td>...</td>\n",
              "      <td>0</td>\n",
              "      <td>0</td>\n",
              "      <td>0</td>\n",
              "      <td>0</td>\n",
              "      <td>0</td>\n",
              "      <td>0</td>\n",
              "      <td>0</td>\n",
              "      <td>0</td>\n",
              "      <td>0</td>\n",
              "      <td>0</td>\n",
              "      <td>0</td>\n",
              "      <td>0</td>\n",
              "      <td>0</td>\n",
              "      <td>0</td>\n",
              "      <td>0</td>\n",
              "      <td>0</td>\n",
              "      <td>0</td>\n",
              "      <td>0</td>\n",
              "      <td>0</td>\n",
              "      <td>0</td>\n",
              "      <td>0</td>\n",
              "      <td>0</td>\n",
              "      <td>0</td>\n",
              "      <td>0</td>\n",
              "      <td>0</td>\n",
              "      <td>0</td>\n",
              "      <td>0</td>\n",
              "      <td>0</td>\n",
              "      <td>0</td>\n",
              "      <td>0</td>\n",
              "      <td>0</td>\n",
              "      <td>0</td>\n",
              "      <td>0</td>\n",
              "      <td>0</td>\n",
              "      <td>0</td>\n",
              "      <td>0</td>\n",
              "      <td>0</td>\n",
              "      <td>0</td>\n",
              "      <td>0</td>\n",
              "      <td>0</td>\n",
              "    </tr>\n",
              "    <tr>\n",
              "      <th>...</th>\n",
              "      <td>...</td>\n",
              "      <td>...</td>\n",
              "      <td>...</td>\n",
              "      <td>...</td>\n",
              "      <td>...</td>\n",
              "      <td>...</td>\n",
              "      <td>...</td>\n",
              "      <td>...</td>\n",
              "      <td>...</td>\n",
              "      <td>...</td>\n",
              "      <td>...</td>\n",
              "      <td>...</td>\n",
              "      <td>...</td>\n",
              "      <td>...</td>\n",
              "      <td>...</td>\n",
              "      <td>...</td>\n",
              "      <td>...</td>\n",
              "      <td>...</td>\n",
              "      <td>...</td>\n",
              "      <td>...</td>\n",
              "      <td>...</td>\n",
              "      <td>...</td>\n",
              "      <td>...</td>\n",
              "      <td>...</td>\n",
              "      <td>...</td>\n",
              "      <td>...</td>\n",
              "      <td>...</td>\n",
              "      <td>...</td>\n",
              "      <td>...</td>\n",
              "      <td>...</td>\n",
              "      <td>...</td>\n",
              "      <td>...</td>\n",
              "      <td>...</td>\n",
              "      <td>...</td>\n",
              "      <td>...</td>\n",
              "      <td>...</td>\n",
              "      <td>...</td>\n",
              "      <td>...</td>\n",
              "      <td>...</td>\n",
              "      <td>...</td>\n",
              "      <td>...</td>\n",
              "      <td>...</td>\n",
              "      <td>...</td>\n",
              "      <td>...</td>\n",
              "      <td>...</td>\n",
              "      <td>...</td>\n",
              "      <td>...</td>\n",
              "      <td>...</td>\n",
              "      <td>...</td>\n",
              "      <td>...</td>\n",
              "      <td>...</td>\n",
              "      <td>...</td>\n",
              "      <td>...</td>\n",
              "      <td>...</td>\n",
              "      <td>...</td>\n",
              "      <td>...</td>\n",
              "      <td>...</td>\n",
              "      <td>...</td>\n",
              "      <td>...</td>\n",
              "      <td>...</td>\n",
              "      <td>...</td>\n",
              "      <td>...</td>\n",
              "      <td>...</td>\n",
              "      <td>...</td>\n",
              "      <td>...</td>\n",
              "      <td>...</td>\n",
              "      <td>...</td>\n",
              "      <td>...</td>\n",
              "      <td>...</td>\n",
              "      <td>...</td>\n",
              "      <td>...</td>\n",
              "      <td>...</td>\n",
              "      <td>...</td>\n",
              "      <td>...</td>\n",
              "      <td>...</td>\n",
              "      <td>...</td>\n",
              "      <td>...</td>\n",
              "      <td>...</td>\n",
              "      <td>...</td>\n",
              "      <td>...</td>\n",
              "      <td>...</td>\n",
              "    </tr>\n",
              "    <tr>\n",
              "      <th>1027</th>\n",
              "      <td>0</td>\n",
              "      <td>1</td>\n",
              "      <td>58</td>\n",
              "      <td>0</td>\n",
              "      <td>0</td>\n",
              "      <td>0</td>\n",
              "      <td>0</td>\n",
              "      <td>0</td>\n",
              "      <td>0</td>\n",
              "      <td>0</td>\n",
              "      <td>0</td>\n",
              "      <td>0</td>\n",
              "      <td>0</td>\n",
              "      <td>0</td>\n",
              "      <td>0</td>\n",
              "      <td>0</td>\n",
              "      <td>0</td>\n",
              "      <td>0</td>\n",
              "      <td>0</td>\n",
              "      <td>0</td>\n",
              "      <td>0</td>\n",
              "      <td>0</td>\n",
              "      <td>0</td>\n",
              "      <td>0</td>\n",
              "      <td>0</td>\n",
              "      <td>0</td>\n",
              "      <td>0</td>\n",
              "      <td>0</td>\n",
              "      <td>0</td>\n",
              "      <td>1</td>\n",
              "      <td>0</td>\n",
              "      <td>0</td>\n",
              "      <td>0</td>\n",
              "      <td>0</td>\n",
              "      <td>0</td>\n",
              "      <td>0</td>\n",
              "      <td>0</td>\n",
              "      <td>0</td>\n",
              "      <td>0</td>\n",
              "      <td>0</td>\n",
              "      <td>...</td>\n",
              "      <td>0</td>\n",
              "      <td>0</td>\n",
              "      <td>0</td>\n",
              "      <td>0</td>\n",
              "      <td>0</td>\n",
              "      <td>0</td>\n",
              "      <td>0</td>\n",
              "      <td>0</td>\n",
              "      <td>0</td>\n",
              "      <td>0</td>\n",
              "      <td>0</td>\n",
              "      <td>0</td>\n",
              "      <td>0</td>\n",
              "      <td>0</td>\n",
              "      <td>0</td>\n",
              "      <td>0</td>\n",
              "      <td>0</td>\n",
              "      <td>0</td>\n",
              "      <td>0</td>\n",
              "      <td>0</td>\n",
              "      <td>0</td>\n",
              "      <td>0</td>\n",
              "      <td>0</td>\n",
              "      <td>0</td>\n",
              "      <td>0</td>\n",
              "      <td>0</td>\n",
              "      <td>0</td>\n",
              "      <td>0</td>\n",
              "      <td>0</td>\n",
              "      <td>0</td>\n",
              "      <td>0</td>\n",
              "      <td>0</td>\n",
              "      <td>0</td>\n",
              "      <td>0</td>\n",
              "      <td>0</td>\n",
              "      <td>0</td>\n",
              "      <td>0</td>\n",
              "      <td>0</td>\n",
              "      <td>0</td>\n",
              "      <td>0</td>\n",
              "    </tr>\n",
              "    <tr>\n",
              "      <th>1029</th>\n",
              "      <td>1</td>\n",
              "      <td>0</td>\n",
              "      <td>27</td>\n",
              "      <td>0</td>\n",
              "      <td>0</td>\n",
              "      <td>0</td>\n",
              "      <td>0</td>\n",
              "      <td>0</td>\n",
              "      <td>0</td>\n",
              "      <td>0</td>\n",
              "      <td>0</td>\n",
              "      <td>0</td>\n",
              "      <td>0</td>\n",
              "      <td>0</td>\n",
              "      <td>0</td>\n",
              "      <td>0</td>\n",
              "      <td>0</td>\n",
              "      <td>0</td>\n",
              "      <td>0</td>\n",
              "      <td>0</td>\n",
              "      <td>0</td>\n",
              "      <td>0</td>\n",
              "      <td>0</td>\n",
              "      <td>0</td>\n",
              "      <td>0</td>\n",
              "      <td>0</td>\n",
              "      <td>0</td>\n",
              "      <td>0</td>\n",
              "      <td>0</td>\n",
              "      <td>1</td>\n",
              "      <td>0</td>\n",
              "      <td>0</td>\n",
              "      <td>0</td>\n",
              "      <td>0</td>\n",
              "      <td>0</td>\n",
              "      <td>0</td>\n",
              "      <td>0</td>\n",
              "      <td>0</td>\n",
              "      <td>0</td>\n",
              "      <td>0</td>\n",
              "      <td>...</td>\n",
              "      <td>0</td>\n",
              "      <td>0</td>\n",
              "      <td>0</td>\n",
              "      <td>0</td>\n",
              "      <td>0</td>\n",
              "      <td>0</td>\n",
              "      <td>0</td>\n",
              "      <td>0</td>\n",
              "      <td>0</td>\n",
              "      <td>0</td>\n",
              "      <td>0</td>\n",
              "      <td>0</td>\n",
              "      <td>0</td>\n",
              "      <td>0</td>\n",
              "      <td>0</td>\n",
              "      <td>0</td>\n",
              "      <td>0</td>\n",
              "      <td>0</td>\n",
              "      <td>0</td>\n",
              "      <td>0</td>\n",
              "      <td>0</td>\n",
              "      <td>0</td>\n",
              "      <td>0</td>\n",
              "      <td>0</td>\n",
              "      <td>0</td>\n",
              "      <td>0</td>\n",
              "      <td>0</td>\n",
              "      <td>0</td>\n",
              "      <td>0</td>\n",
              "      <td>0</td>\n",
              "      <td>0</td>\n",
              "      <td>0</td>\n",
              "      <td>0</td>\n",
              "      <td>0</td>\n",
              "      <td>0</td>\n",
              "      <td>0</td>\n",
              "      <td>0</td>\n",
              "      <td>1</td>\n",
              "      <td>0</td>\n",
              "      <td>0</td>\n",
              "    </tr>\n",
              "    <tr>\n",
              "      <th>1030</th>\n",
              "      <td>1</td>\n",
              "      <td>0</td>\n",
              "      <td>25</td>\n",
              "      <td>0</td>\n",
              "      <td>0</td>\n",
              "      <td>0</td>\n",
              "      <td>0</td>\n",
              "      <td>0</td>\n",
              "      <td>0</td>\n",
              "      <td>0</td>\n",
              "      <td>0</td>\n",
              "      <td>0</td>\n",
              "      <td>0</td>\n",
              "      <td>0</td>\n",
              "      <td>0</td>\n",
              "      <td>0</td>\n",
              "      <td>0</td>\n",
              "      <td>0</td>\n",
              "      <td>0</td>\n",
              "      <td>0</td>\n",
              "      <td>0</td>\n",
              "      <td>0</td>\n",
              "      <td>0</td>\n",
              "      <td>0</td>\n",
              "      <td>0</td>\n",
              "      <td>0</td>\n",
              "      <td>0</td>\n",
              "      <td>0</td>\n",
              "      <td>0</td>\n",
              "      <td>0</td>\n",
              "      <td>0</td>\n",
              "      <td>1</td>\n",
              "      <td>0</td>\n",
              "      <td>0</td>\n",
              "      <td>0</td>\n",
              "      <td>0</td>\n",
              "      <td>0</td>\n",
              "      <td>0</td>\n",
              "      <td>0</td>\n",
              "      <td>0</td>\n",
              "      <td>...</td>\n",
              "      <td>0</td>\n",
              "      <td>0</td>\n",
              "      <td>0</td>\n",
              "      <td>0</td>\n",
              "      <td>0</td>\n",
              "      <td>0</td>\n",
              "      <td>0</td>\n",
              "      <td>0</td>\n",
              "      <td>0</td>\n",
              "      <td>0</td>\n",
              "      <td>0</td>\n",
              "      <td>0</td>\n",
              "      <td>0</td>\n",
              "      <td>0</td>\n",
              "      <td>0</td>\n",
              "      <td>0</td>\n",
              "      <td>0</td>\n",
              "      <td>0</td>\n",
              "      <td>0</td>\n",
              "      <td>0</td>\n",
              "      <td>0</td>\n",
              "      <td>0</td>\n",
              "      <td>0</td>\n",
              "      <td>0</td>\n",
              "      <td>0</td>\n",
              "      <td>0</td>\n",
              "      <td>0</td>\n",
              "      <td>0</td>\n",
              "      <td>0</td>\n",
              "      <td>0</td>\n",
              "      <td>0</td>\n",
              "      <td>0</td>\n",
              "      <td>0</td>\n",
              "      <td>0</td>\n",
              "      <td>0</td>\n",
              "      <td>0</td>\n",
              "      <td>0</td>\n",
              "      <td>0</td>\n",
              "      <td>0</td>\n",
              "      <td>0</td>\n",
              "    </tr>\n",
              "    <tr>\n",
              "      <th>1052</th>\n",
              "      <td>1</td>\n",
              "      <td>0</td>\n",
              "      <td>45</td>\n",
              "      <td>0</td>\n",
              "      <td>0</td>\n",
              "      <td>0</td>\n",
              "      <td>0</td>\n",
              "      <td>0</td>\n",
              "      <td>0</td>\n",
              "      <td>0</td>\n",
              "      <td>0</td>\n",
              "      <td>0</td>\n",
              "      <td>0</td>\n",
              "      <td>0</td>\n",
              "      <td>0</td>\n",
              "      <td>0</td>\n",
              "      <td>0</td>\n",
              "      <td>0</td>\n",
              "      <td>0</td>\n",
              "      <td>1</td>\n",
              "      <td>0</td>\n",
              "      <td>0</td>\n",
              "      <td>0</td>\n",
              "      <td>0</td>\n",
              "      <td>0</td>\n",
              "      <td>0</td>\n",
              "      <td>0</td>\n",
              "      <td>0</td>\n",
              "      <td>0</td>\n",
              "      <td>0</td>\n",
              "      <td>0</td>\n",
              "      <td>0</td>\n",
              "      <td>0</td>\n",
              "      <td>0</td>\n",
              "      <td>0</td>\n",
              "      <td>0</td>\n",
              "      <td>0</td>\n",
              "      <td>0</td>\n",
              "      <td>0</td>\n",
              "      <td>0</td>\n",
              "      <td>...</td>\n",
              "      <td>0</td>\n",
              "      <td>0</td>\n",
              "      <td>0</td>\n",
              "      <td>0</td>\n",
              "      <td>0</td>\n",
              "      <td>0</td>\n",
              "      <td>0</td>\n",
              "      <td>0</td>\n",
              "      <td>0</td>\n",
              "      <td>0</td>\n",
              "      <td>0</td>\n",
              "      <td>0</td>\n",
              "      <td>0</td>\n",
              "      <td>0</td>\n",
              "      <td>0</td>\n",
              "      <td>0</td>\n",
              "      <td>0</td>\n",
              "      <td>0</td>\n",
              "      <td>0</td>\n",
              "      <td>0</td>\n",
              "      <td>0</td>\n",
              "      <td>0</td>\n",
              "      <td>0</td>\n",
              "      <td>0</td>\n",
              "      <td>0</td>\n",
              "      <td>0</td>\n",
              "      <td>0</td>\n",
              "      <td>0</td>\n",
              "      <td>0</td>\n",
              "      <td>0</td>\n",
              "      <td>0</td>\n",
              "      <td>0</td>\n",
              "      <td>0</td>\n",
              "      <td>0</td>\n",
              "      <td>0</td>\n",
              "      <td>0</td>\n",
              "      <td>0</td>\n",
              "      <td>0</td>\n",
              "      <td>0</td>\n",
              "      <td>0</td>\n",
              "    </tr>\n",
              "    <tr>\n",
              "      <th>1084</th>\n",
              "      <td>0</td>\n",
              "      <td>1</td>\n",
              "      <td>70</td>\n",
              "      <td>0</td>\n",
              "      <td>0</td>\n",
              "      <td>0</td>\n",
              "      <td>0</td>\n",
              "      <td>0</td>\n",
              "      <td>0</td>\n",
              "      <td>0</td>\n",
              "      <td>0</td>\n",
              "      <td>0</td>\n",
              "      <td>0</td>\n",
              "      <td>0</td>\n",
              "      <td>0</td>\n",
              "      <td>0</td>\n",
              "      <td>0</td>\n",
              "      <td>0</td>\n",
              "      <td>0</td>\n",
              "      <td>0</td>\n",
              "      <td>0</td>\n",
              "      <td>0</td>\n",
              "      <td>0</td>\n",
              "      <td>0</td>\n",
              "      <td>0</td>\n",
              "      <td>0</td>\n",
              "      <td>0</td>\n",
              "      <td>0</td>\n",
              "      <td>0</td>\n",
              "      <td>0</td>\n",
              "      <td>0</td>\n",
              "      <td>0</td>\n",
              "      <td>1</td>\n",
              "      <td>0</td>\n",
              "      <td>0</td>\n",
              "      <td>0</td>\n",
              "      <td>0</td>\n",
              "      <td>0</td>\n",
              "      <td>0</td>\n",
              "      <td>0</td>\n",
              "      <td>...</td>\n",
              "      <td>0</td>\n",
              "      <td>0</td>\n",
              "      <td>0</td>\n",
              "      <td>0</td>\n",
              "      <td>0</td>\n",
              "      <td>0</td>\n",
              "      <td>0</td>\n",
              "      <td>0</td>\n",
              "      <td>0</td>\n",
              "      <td>0</td>\n",
              "      <td>0</td>\n",
              "      <td>0</td>\n",
              "      <td>0</td>\n",
              "      <td>0</td>\n",
              "      <td>0</td>\n",
              "      <td>0</td>\n",
              "      <td>0</td>\n",
              "      <td>0</td>\n",
              "      <td>0</td>\n",
              "      <td>0</td>\n",
              "      <td>0</td>\n",
              "      <td>0</td>\n",
              "      <td>0</td>\n",
              "      <td>0</td>\n",
              "      <td>0</td>\n",
              "      <td>0</td>\n",
              "      <td>0</td>\n",
              "      <td>0</td>\n",
              "      <td>0</td>\n",
              "      <td>0</td>\n",
              "      <td>0</td>\n",
              "      <td>0</td>\n",
              "      <td>0</td>\n",
              "      <td>0</td>\n",
              "      <td>0</td>\n",
              "      <td>0</td>\n",
              "      <td>0</td>\n",
              "      <td>0</td>\n",
              "      <td>0</td>\n",
              "      <td>0</td>\n",
              "    </tr>\n",
              "  </tbody>\n",
              "</table>\n",
              "<p>5203 rows × 225 columns</p>\n",
              "</div>"
            ],
            "text/plain": [
              "      female  male  age  afghanistan  ...  yunnan  zaragoza  zhejiang  zhuhai\n",
              "0          0     1   56            0  ...       0         0         0       0\n",
              "1          0     1   33            0  ...       0         0         0       0\n",
              "2          0     1   56            0  ...       0         0         0       0\n",
              "3          0     1   29            0  ...       0         0         0       0\n",
              "4          1     0   28            0  ...       0         0         0       0\n",
              "...      ...   ...  ...          ...  ...     ...       ...       ...     ...\n",
              "1027       0     1   58            0  ...       0         0         0       0\n",
              "1029       1     0   27            0  ...       0         1         0       0\n",
              "1030       1     0   25            0  ...       0         0         0       0\n",
              "1052       1     0   45            0  ...       0         0         0       0\n",
              "1084       0     1   70            0  ...       0         0         0       0\n",
              "\n",
              "[5203 rows x 225 columns]"
            ]
          },
          "metadata": {
            "tags": []
          },
          "execution_count": 90
        }
      ]
    },
    {
      "cell_type": "code",
      "metadata": {
        "id": "DJdkHpPT4fc5",
        "colab_type": "code",
        "outputId": "646c8ace-700f-4172-89fb-c0c49e0eaf8f",
        "colab": {
          "base_uri": "https://localhost:8080/",
          "height": 34
        }
      },
      "source": [
        "new_row = {'age':38, 'female':1, 'korea':1,'gyeonggi-do':1}\n",
        "mydataframe = features.append(new_row, ignore_index=True)\n",
        "mydataframe = mydataframe.fillna(0)\n",
        "death_prediction = model.predict_proba(mydataframe)\n",
        "death_prediction[-1]"
      ],
      "execution_count": 91,
      "outputs": [
        {
          "output_type": "execute_result",
          "data": {
            "text/plain": [
              "array([9.99577480e-01, 4.22519654e-04])"
            ]
          },
          "metadata": {
            "tags": []
          },
          "execution_count": 91
        }
      ]
    },
    {
      "cell_type": "code",
      "metadata": {
        "id": "3mJs78ie6BxN",
        "colab_type": "code",
        "colab": {}
      },
      "source": [
        ""
      ],
      "execution_count": 0,
      "outputs": []
    }
  ]
}